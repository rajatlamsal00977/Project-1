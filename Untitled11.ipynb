{
  "nbformat": 4,
  "nbformat_minor": 0,
  "metadata": {
    "colab": {
      "name": "Untitled11.ipynb",
      "provenance": [],
      "authorship_tag": "ABX9TyMZeAHzR3lLVosOzs+X9myQ",
      "include_colab_link": true
    },
    "kernelspec": {
      "name": "python3",
      "display_name": "Python 3"
    }
  },
  "cells": [
    {
      "cell_type": "markdown",
      "metadata": {
        "id": "view-in-github",
        "colab_type": "text"
      },
      "source": [
        "<a href=\"https://colab.research.google.com/github/rajatlamsal00977/Project-1/blob/main/Untitled11.ipynb\" target=\"_parent\"><img src=\"https://colab.research.google.com/assets/colab-badge.svg\" alt=\"Open In Colab\"/></a>"
      ]
    },
    {
      "cell_type": "code",
      "metadata": {
        "id": "TLqVtFs8DT2e"
      },
      "source": [
        "import math\r\n",
        "import numpy as np\r\n"
      ],
      "execution_count": 1,
      "outputs": []
    },
    {
      "cell_type": "markdown",
      "metadata": {
        "id": "QF0yeFVqN8zo"
      },
      "source": [
        "Gauss Jordan elimination is the algorithm to solve the system of linear equation which utilizes the 3 methods which are as:\r\n",
        "\r\n",
        "* Swap the position of two rows.\r\n",
        "* Multiply row by a non zero scalar\r\n",
        "* Subtract or Add scalar multiple of one matrix to another.\r\n",
        "\r\n",
        "\r\n",
        "\r\n",
        "\r\n",
        "\r\n",
        "Any given linear or other form of equation can be arranged into matrices as demonstrated below.\r\n",
        "\r\n",
        "$$\r\n",
        "\\left\\{\r\n",
        "\\begin{align}\r\n",
        "a_{1,1} x_1 +&\\dots a_{1,n} x_n = y_1\\\\\r\n",
        "&\\vdots\\\\\r\n",
        "a_{n,1}x_1+&\\dots a_{n,n} x_n = y_n\r\n",
        "\\end{align}\r\n",
        "\\right.\r\n",
        "$$\r\n",
        "\r\n",
        "\r\n",
        "$$\r\n",
        "\\left[\r\n",
        "\\begin{array}{ccc|c}\r\n",
        "a_{1,1} & \\dots & a_{1,n} & y_1\\\\\r\n",
        "\\vdots&\\ddots&\\vdots&\\vdots\\\\\r\n",
        "a_{n,1} &\\dots& a_{n,n}&y_n\r\n",
        "\\end{array}\r\n",
        "\\right]\r\n",
        "$$"
      ]
    },
    {
      "cell_type": "markdown",
      "metadata": {
        "id": "s05MapksRZJg"
      },
      "source": [
        "Lets define a matrix array"
      ]
    },
    {
      "cell_type": "code",
      "metadata": {
        "id": "HjLFf_GGN1Vn"
      },
      "source": [
        "A = np.array([[5,4,3],[8,7,6]])"
      ],
      "execution_count": 3,
      "outputs": []
    },
    {
      "cell_type": "code",
      "metadata": {
        "colab": {
          "base_uri": "https://localhost:8080/"
        },
        "id": "uK8FCiU1RxwW",
        "outputId": "b260b1ee-8899-4b82-fbef-5bd971a11f95"
      },
      "source": [
        "A"
      ],
      "execution_count": 4,
      "outputs": [
        {
          "output_type": "execute_result",
          "data": {
            "text/plain": [
              "array([[5, 4, 3],\n",
              "       [8, 7, 6]])"
            ]
          },
          "metadata": {
            "tags": []
          },
          "execution_count": 4
        }
      ]
    },
    {
      "cell_type": "markdown",
      "metadata": {
        "id": "BgmGY3DMXhp6"
      },
      "source": [
        ""
      ]
    },
    {
      "cell_type": "code",
      "metadata": {
        "id": "00JGBFNpR7th"
      },
      "source": [
        "def addRows(matrix,targetRow, modifierRow, value):\r\n",
        "  newRow = matrix[targetRow,:]+value*matrix[modifierRow,:]\r\n",
        "  newMatrix = []\r\n",
        "  for i in range(len(matrix)):\r\n",
        "    if i != targetRow:\r\n",
        "      newMatrix.append(matrix[i,:])\r\n",
        "    else:\r\n",
        "      newMatrix.append(newRow)\r\n",
        "  return np.array(newMatrix)\r\n",
        "\r\n"
      ],
      "execution_count": 5,
      "outputs": []
    },
    {
      "cell_type": "code",
      "metadata": {
        "colab": {
          "base_uri": "https://localhost:8080/"
        },
        "id": "cqCIdzOFV257",
        "outputId": "11f19af1-b850-47c3-f5d9-f56fafbcb5d4"
      },
      "source": [
        "addRows(A,0,1,10)"
      ],
      "execution_count": 6,
      "outputs": [
        {
          "output_type": "execute_result",
          "data": {
            "text/plain": [
              "array([[85, 74, 63],\n",
              "       [ 8,  7,  6]])"
            ]
          },
          "metadata": {
            "tags": []
          },
          "execution_count": 6
        }
      ]
    },
    {
      "cell_type": "markdown",
      "metadata": {
        "id": "W0PC8pt6XY5z"
      },
      "source": [
        "We are now going to write a code that will swap the Rows using dictionary."
      ]
    },
    {
      "cell_type": "code",
      "metadata": {
        "id": "SAgEFyWjV57-"
      },
      "source": [
        "def swapRows(matrix, row1, row2):\r\n",
        "    dic = {row1:row2,row2:row1} \r\n",
        "    list = [dic.get(x,x) for x in range(len(matrix))] \r\n",
        "    return matrix[list]"
      ],
      "execution_count": 7,
      "outputs": []
    },
    {
      "cell_type": "code",
      "metadata": {
        "colab": {
          "base_uri": "https://localhost:8080/"
        },
        "id": "BiIZzcrbXM4p",
        "outputId": "864e0185-ffff-4f49-f35e-7800d7e1d2da"
      },
      "source": [
        "swapRows(A,0,1)"
      ],
      "execution_count": 8,
      "outputs": [
        {
          "output_type": "execute_result",
          "data": {
            "text/plain": [
              "array([[8, 7, 6],\n",
              "       [5, 4, 3]])"
            ]
          },
          "metadata": {
            "tags": []
          },
          "execution_count": 8
        }
      ]
    },
    {
      "cell_type": "code",
      "metadata": {
        "id": "VotZh_lfXTrC"
      },
      "source": [
        "def changeToLeadingOne(matrix,row,column):\r\n",
        "  newMatrix =[]\r\n",
        "  for i in range(len(matrix)):\r\n",
        "    if i != row:\r\n",
        "      newMatrix.append(matrix[i,:])\r\n",
        "    else:\r\n",
        "      newMatrix.append(1/matrix[row,column]*matrix[row,:])\r\n",
        "  return np.array(newMatrix)\r\n"
      ],
      "execution_count": 9,
      "outputs": []
    },
    {
      "cell_type": "code",
      "metadata": {
        "colab": {
          "base_uri": "https://localhost:8080/"
        },
        "id": "Rf6ajZPuZ75O",
        "outputId": "b49bea66-4431-4137-afd1-479c6132ea4a"
      },
      "source": [
        "changeToLeadingOne(A,1,0)"
      ],
      "execution_count": 10,
      "outputs": [
        {
          "output_type": "execute_result",
          "data": {
            "text/plain": [
              "array([[5.   , 4.   , 3.   ],\n",
              "       [1.   , 0.875, 0.75 ]])"
            ]
          },
          "metadata": {
            "tags": []
          },
          "execution_count": 10
        }
      ]
    },
    {
      "cell_type": "code",
      "metadata": {
        "id": "r7RTsWbWaM1E"
      },
      "source": [
        ""
      ],
      "execution_count": null,
      "outputs": []
    }
  ]
}