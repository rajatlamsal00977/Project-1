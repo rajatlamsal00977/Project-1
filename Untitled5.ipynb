{
  "nbformat": 4,
  "nbformat_minor": 0,
  "metadata": {
    "colab": {
      "name": "Untitled5.ipynb",
      "provenance": [],
      "authorship_tag": "ABX9TyPpLs7fIKvDQ2XB0oY1h1Jh",
      "include_colab_link": true
    },
    "kernelspec": {
      "name": "python3",
      "display_name": "Python 3"
    }
  },
  "cells": [
    {
      "cell_type": "markdown",
      "metadata": {
        "id": "view-in-github",
        "colab_type": "text"
      },
      "source": [
        "<a href=\"https://colab.research.google.com/github/rajatlamsal00977/Project-1/blob/main/Untitled5.ipynb\" target=\"_parent\"><img src=\"https://colab.research.google.com/assets/colab-badge.svg\" alt=\"Open In Colab\"/></a>"
      ]
    },
    {
      "cell_type": "code",
      "metadata": {
        "id": "4VOhlEPw4GRW"
      },
      "source": [
        "def absoluteError(estimate, actualValue):\r\n",
        "  return actualValue - estimate\r\n",
        "\r\n",
        "def relativeError(estimate, actualValue):\r\n",
        "  return absoluteError(estimate, actualValue)/actualValue\r\n",
        "\r\n",
        "\r\n",
        "\r\n"
      ],
      "execution_count": 1,
      "outputs": []
    },
    {
      "cell_type": "markdown",
      "metadata": {
        "id": "mag1nf465OtM"
      },
      "source": [
        "We will be discussing the three kinds of derivative Estimation which would be as follows:\r\n",
        "\r\n",
        "**Forward difference** :\r\n",
        "$$\r\n",
        "f'(x_0)\\approx \\frac{f(x_0+\\ h)-f(x_0)}{\\ h}\r\n",
        "$$\r\n",
        "\r\n",
        "**Backward difference** :\r\n",
        "$$\r\n",
        "f'(x_0)\\approx \\frac{f(x_0)-f(x_0-\\ h)}{\\ h}\r\n",
        "$$\r\n",
        "\r\n",
        "**Central difference** :\r\n",
        "$$\r\n",
        "f'(x_0)\\approx \\frac{f(x_0+\\ h)-f(x_0-\\ h)}{2\\ h}\r\n",
        "$$\r\n",
        "\r\n",
        "Now lets mention the difinition for **Finite difference** of the second order derivative.\r\n",
        "$$\r\n",
        "f''(x_0)\\approx \\frac{f(x_0+2\\ h)-2f(x_0+\\ h)+f(x_0)}{\\left(\\ h \\right)^2}\r\n",
        "$$"
      ]
    },
    {
      "cell_type": "code",
      "metadata": {
        "id": "feado61L5icC"
      },
      "source": [
        ""
      ],
      "execution_count": null,
      "outputs": []
    },
    {
      "cell_type": "code",
      "metadata": {
        "id": "eX5_hFL45Nt5"
      },
      "source": [
        ""
      ],
      "execution_count": null,
      "outputs": []
    },
    {
      "cell_type": "code",
      "metadata": {
        "id": "ws_iluLR4OOO"
      },
      "source": [
        ""
      ],
      "execution_count": null,
      "outputs": []
    }
  ]
}