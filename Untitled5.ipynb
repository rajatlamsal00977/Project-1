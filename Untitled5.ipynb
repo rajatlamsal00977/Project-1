{
  "nbformat": 4,
  "nbformat_minor": 0,
  "metadata": {
    "colab": {
      "name": "Untitled5.ipynb",
      "provenance": [],
      "authorship_tag": "ABX9TyNrC+lP9/UW+MPjboVTVdxh",
      "include_colab_link": true
    },
    "kernelspec": {
      "name": "python3",
      "display_name": "Python 3"
    }
  },
  "cells": [
    {
      "cell_type": "markdown",
      "metadata": {
        "id": "view-in-github",
        "colab_type": "text"
      },
      "source": [
        "<a href=\"https://colab.research.google.com/github/rajatlamsal00977/Project-1/blob/main/Untitled5.ipynb\" target=\"_parent\"><img src=\"https://colab.research.google.com/assets/colab-badge.svg\" alt=\"Open In Colab\"/></a>"
      ]
    },
    {
      "cell_type": "code",
      "metadata": {
        "id": "4VOhlEPw4GRW"
      },
      "source": [
        "import math\r\n",
        "pi = math.pi\r\n",
        "def absErr(estimate, actualValue):\r\n",
        "  return actualValue - estimate\r\n",
        "\r\n",
        "def relErr(estimate, actualValue):\r\n",
        "  return absErr(estimate, actualValue)/actualValue\r\n",
        "\r\n",
        "\r\n",
        "\r\n"
      ],
      "execution_count": 20,
      "outputs": []
    },
    {
      "cell_type": "markdown",
      "metadata": {
        "id": "mag1nf465OtM"
      },
      "source": [
        "We will be discussing the three kinds of derivative Estimation which would be as follows:\r\n",
        "\r\n",
        "**Forward difference** :\r\n",
        "$$\r\n",
        "f'(x_0)\\approx \\frac{f(x_0+\\ h)-f(x_0)}{\\ h}\r\n",
        "$$\r\n",
        "\r\n",
        "**Backward difference** :\r\n",
        "$$\r\n",
        "f'(x_0)\\approx \\frac{f(x_0)-f(x_0-\\ h)}{\\ h}\r\n",
        "$$\r\n",
        "\r\n",
        "**Central difference** :\r\n",
        "$$\r\n",
        "f'(x_0)\\approx \\frac{f(x_0+\\ h)-f(x_0-\\ h)}{2\\ h}\r\n",
        "$$\r\n",
        "\r\n",
        "Now lets mention the difinition for **Finite difference** of the second order derivative.\r\n",
        "$$\r\n",
        "f''(x_0)\\approx \\frac{f(x_0+2\\ h)-2f(x_0+\\ h)+f(x_0)}{\\left(\\ h \\right)^2}\r\n",
        "$$"
      ]
    },
    {
      "cell_type": "code",
      "metadata": {
        "id": "feado61L5icC"
      },
      "source": [
        "def FwdDiff(function,initial,stepSize):\r\n",
        "  return (function(initial+stepSize)-function(initial))/stepSize\r\n",
        "\r\n",
        "def BwdDiff(function,initial,stepSize):\r\n",
        "  return (function(initial)-function(initial-stepSize))/stepSize\r\n",
        "\r\n",
        "def CntrlDiff(function,initial,stepSize):\r\n",
        "  return (function(initial+stepSize)-function(initial-stepSize))/(2*stepSize)\r\n",
        "\r\n",
        "def FinDiff(function,initial,stepSize):\r\n",
        "  return (function(initial+2*stepSize)-2*function(initial+stepSize)+function(initial))/stepSize**2"
      ],
      "execution_count": 21,
      "outputs": []
    },
    {
      "cell_type": "code",
      "metadata": {
        "id": "eX5_hFL45Nt5"
      },
      "source": [
        "stepSizes = [1, .1 , .01 , .001,.0001]\r\n",
        "Fwd = [FwdDiff(math.cos, pi/2,step) for step in stepSizes]\r\n",
        "Bwd = [BwdDiff(math.cos, pi/2,step) for step in stepSizes]\r\n",
        "Cntrl = [CntrlDiff(math.cos, pi/2,step) for step in stepSizes]\r\n",
        "Fin = [FinDiff(math.cos, pi/2,step) for step in stepSizes]\r\n",
        "\r\n",
        "\r\n",
        "\r\n",
        "\r\n",
        "absoluteforward = [absErr(estimate,actual) for estimate in Fwd]\r\n",
        "relativeforward = [relErr(estimate, actual) for estimate in Fwd]\r\n",
        "\r\n",
        "absolutebackward = [absErr(estimate,actual) for estimate in Bwd]\r\n",
        "relativebackward = [relErr(estimate, actual) for estimate in Bwd]\r\n",
        "\r\n",
        "absolutecentral = [absErr(estimate,actual) for estimate in Cntrl]\r\n",
        "relativecentral = [relErr(estimate, actual) for estimate in Cntrl]\r\n",
        "\r\n",
        "\r\n",
        "\r\n",
        "absolutefinite = [absErr(estimate,actualSecond) for estimate in Fin]\r\n",
        "relativefinite = [relErr(estimate, actualSecond) for estimate in Fin]"
      ],
      "execution_count": 27,
      "outputs": []
    },
    {
      "cell_type": "code",
      "metadata": {
        "colab": {
          "base_uri": "https://localhost:8080/",
          "height": 542
        },
        "id": "ws_iluLR4OOO",
        "outputId": "ce6fc457-436a-444f-cc0b-7e34882f8050"
      },
      "source": [
        "import plotly.graph_objects as go\r\n",
        "from plotly.subplots import make_subplots\r\n",
        "\r\n",
        "fig = make_subplots(\r\n",
        "    rows=4, cols=1,\r\n",
        "    shared_xaxes=True,\r\n",
        "    vertical_spacing=0.03,\r\n",
        "    specs=[[{\"type\": \"table\"}],\r\n",
        "           [{\"type\": \"table\"}],\r\n",
        "           [{\"type\": \"table\"}],\r\n",
        "           [{\"type\": \"table\"}]]\r\n",
        ")\r\n",
        "\r\n",
        "\r\n",
        "fig.add_trace(go.Table(\r\n",
        "                header=dict(values=['Step Size', 'Forward Estimate', 'Absolute Error','Relative Error']),\r\n",
        "                 cells=dict(values = [stepSizes,Fwd,absoluteforward,relativeforward])),row = 1, col = 1)\r\n",
        "                     \r\n",
        "\r\n",
        "fig.add_trace(go.Table(\r\n",
        "                header=dict(values=['Step Size', 'Backward Estimate', 'Absolute Error','Relative Error']),\r\n",
        "                 cells=dict(values = [stepSizes,Bwd,absolutebackward,relativebackward])),row = 2, col = 1)\r\n",
        "                     \r\n",
        "fig.add_trace(go.Table(\r\n",
        "                header=dict(values=['Step Size', 'Central Estimate', 'Absolute Error','Relative Error']),\r\n",
        "                 cells=dict(values = [stepSizes,Cntrl,absolutecentral,relativecentral])),row = 3, col = 1)\r\n",
        "\r\n",
        "fig.add_trace(go.Table(\r\n",
        "                header=dict(values=['Step Size', 'Finite Estimate', 'Absolute Error','Relative Error']),\r\n",
        "                 cells=dict(values = [stepSizes,Fin,absolutefinite,relativefinite]))\r\n",
        "                     ,row = 4, col = 1)\r\n",
        "fig.show()"
      ],
      "execution_count": 28,
      "outputs": [
        {
          "output_type": "display_data",
          "data": {
            "text/html": [
              "<html>\n",
              "<head><meta charset=\"utf-8\" /></head>\n",
              "<body>\n",
              "    <div>\n",
              "            <script src=\"https://cdnjs.cloudflare.com/ajax/libs/mathjax/2.7.5/MathJax.js?config=TeX-AMS-MML_SVG\"></script><script type=\"text/javascript\">if (window.MathJax) {MathJax.Hub.Config({SVG: {font: \"STIX-Web\"}});}</script>\n",
              "                <script type=\"text/javascript\">window.PlotlyConfig = {MathJaxConfig: 'local'};</script>\n",
              "        <script src=\"https://cdn.plot.ly/plotly-latest.min.js\"></script>    \n",
              "            <div id=\"deaf761e-4a89-4fdb-8ab2-f44c3916b6ee\" class=\"plotly-graph-div\" style=\"height:525px; width:100%;\"></div>\n",
              "            <script type=\"text/javascript\">\n",
              "                \n",
              "                    window.PLOTLYENV=window.PLOTLYENV || {};\n",
              "                    \n",
              "                if (document.getElementById(\"deaf761e-4a89-4fdb-8ab2-f44c3916b6ee\")) {\n",
              "                    Plotly.newPlot(\n",
              "                        'deaf761e-4a89-4fdb-8ab2-f44c3916b6ee',\n",
              "                        [{\"cells\": {\"values\": [[1, 0.1, 0.01, 0.001, 0.0001], [-0.8414709848078966, -0.9983341664682823, -0.9999833334166673, -0.9999998333332315, -0.9999999983332231], [1.8414709848078967, 1.9983341664682823, 1.9999833334166675, 1.9999998333332316, 1.999999998333223], [1.8414709848078967, 1.9983341664682823, 1.9999833334166675, 1.9999998333332316, 1.999999998333223]]}, \"domain\": {\"x\": [0.0, 1.0], \"y\": [0.7725, 1.0]}, \"header\": {\"values\": [\"Step Size\", \"Forward Estimate\", \"Absolute Error\", \"Relative Error\"]}, \"type\": \"table\"}, {\"cells\": {\"values\": [[1, 0.1, 0.01, 0.001, 0.0001], [-0.8414709848078964, -0.9983341664682824, -0.9999833334166675, -0.9999998333332315, -0.9999999983332232], [1.8414709848078963, 1.9983341664682825, 1.9999833334166675, 1.9999998333332316, 1.999999998333223], [1.8414709848078963, 1.9983341664682825, 1.9999833334166675, 1.9999998333332316, 1.999999998333223]]}, \"domain\": {\"x\": [0.0, 1.0], \"y\": [0.515, 0.7425]}, \"header\": {\"values\": [\"Step Size\", \"Backward Estimate\", \"Absolute Error\", \"Relative Error\"]}, \"type\": \"table\"}, {\"cells\": {\"values\": [[1, 0.1, 0.01, 0.001, 0.0001], [-0.8414709848078965, -0.9983341664682823, -0.9999833334166673, -0.9999998333332315, -0.9999999983332231], [1.8414709848078965, 1.9983341664682823, 1.9999833334166675, 1.9999998333332316, 1.999999998333223], [1.8414709848078965, 1.9983341664682823, 1.9999833334166675, 1.9999998333332316, 1.999999998333223]]}, \"domain\": {\"x\": [0.0, 1.0], \"y\": [0.2575, 0.485]}, \"header\": {\"values\": [\"Step Size\", \"Central Estimate\", \"Absolute Error\", \"Relative Error\"]}, \"type\": \"table\"}, {\"cells\": {\"values\": [[1, 0.1, 0.01, 0.001, 0.0001], [0.7736445427901114, 0.09975024985953206, 0.009999750002509836, 0.000999999528145877, 9.999999980264633e-05], [-1.7736445427901115, -1.099750249859532, -1.0099997500025097, -1.0009999995281458, -1.0000999999998026], [1.7736445427901115, 1.099750249859532, 1.0099997500025097, 1.0009999995281458, 1.0000999999998026]]}, \"domain\": {\"x\": [0.0, 1.0], \"y\": [0.0, 0.2275]}, \"header\": {\"values\": [\"Step Size\", \"Finite Estimate\", \"Absolute Error\", \"Relative Error\"]}, \"type\": \"table\"}],\n",
              "                        {\"template\": {\"data\": {\"bar\": [{\"error_x\": {\"color\": \"#2a3f5f\"}, \"error_y\": {\"color\": \"#2a3f5f\"}, \"marker\": {\"line\": {\"color\": \"#E5ECF6\", \"width\": 0.5}}, \"type\": \"bar\"}], \"barpolar\": [{\"marker\": {\"line\": {\"color\": \"#E5ECF6\", \"width\": 0.5}}, \"type\": \"barpolar\"}], \"carpet\": [{\"aaxis\": {\"endlinecolor\": \"#2a3f5f\", \"gridcolor\": \"white\", \"linecolor\": \"white\", \"minorgridcolor\": \"white\", \"startlinecolor\": \"#2a3f5f\"}, \"baxis\": {\"endlinecolor\": \"#2a3f5f\", \"gridcolor\": \"white\", \"linecolor\": \"white\", \"minorgridcolor\": \"white\", \"startlinecolor\": \"#2a3f5f\"}, \"type\": \"carpet\"}], \"choropleth\": [{\"colorbar\": {\"outlinewidth\": 0, \"ticks\": \"\"}, \"type\": \"choropleth\"}], \"contour\": [{\"colorbar\": {\"outlinewidth\": 0, \"ticks\": \"\"}, \"colorscale\": [[0.0, \"#0d0887\"], [0.1111111111111111, \"#46039f\"], [0.2222222222222222, \"#7201a8\"], [0.3333333333333333, \"#9c179e\"], [0.4444444444444444, \"#bd3786\"], [0.5555555555555556, \"#d8576b\"], [0.6666666666666666, \"#ed7953\"], [0.7777777777777778, \"#fb9f3a\"], [0.8888888888888888, \"#fdca26\"], [1.0, \"#f0f921\"]], \"type\": \"contour\"}], \"contourcarpet\": [{\"colorbar\": {\"outlinewidth\": 0, \"ticks\": \"\"}, \"type\": \"contourcarpet\"}], \"heatmap\": [{\"colorbar\": {\"outlinewidth\": 0, \"ticks\": \"\"}, \"colorscale\": [[0.0, \"#0d0887\"], [0.1111111111111111, \"#46039f\"], [0.2222222222222222, \"#7201a8\"], [0.3333333333333333, \"#9c179e\"], [0.4444444444444444, \"#bd3786\"], [0.5555555555555556, \"#d8576b\"], [0.6666666666666666, \"#ed7953\"], [0.7777777777777778, \"#fb9f3a\"], [0.8888888888888888, \"#fdca26\"], [1.0, \"#f0f921\"]], \"type\": \"heatmap\"}], \"heatmapgl\": [{\"colorbar\": {\"outlinewidth\": 0, \"ticks\": \"\"}, \"colorscale\": [[0.0, \"#0d0887\"], [0.1111111111111111, \"#46039f\"], [0.2222222222222222, \"#7201a8\"], [0.3333333333333333, \"#9c179e\"], [0.4444444444444444, \"#bd3786\"], [0.5555555555555556, \"#d8576b\"], [0.6666666666666666, \"#ed7953\"], [0.7777777777777778, \"#fb9f3a\"], [0.8888888888888888, \"#fdca26\"], [1.0, \"#f0f921\"]], \"type\": \"heatmapgl\"}], \"histogram\": [{\"marker\": {\"colorbar\": {\"outlinewidth\": 0, \"ticks\": \"\"}}, \"type\": \"histogram\"}], \"histogram2d\": [{\"colorbar\": {\"outlinewidth\": 0, \"ticks\": \"\"}, \"colorscale\": [[0.0, \"#0d0887\"], [0.1111111111111111, \"#46039f\"], [0.2222222222222222, \"#7201a8\"], [0.3333333333333333, \"#9c179e\"], [0.4444444444444444, \"#bd3786\"], [0.5555555555555556, \"#d8576b\"], [0.6666666666666666, \"#ed7953\"], [0.7777777777777778, \"#fb9f3a\"], [0.8888888888888888, \"#fdca26\"], [1.0, \"#f0f921\"]], \"type\": \"histogram2d\"}], \"histogram2dcontour\": [{\"colorbar\": {\"outlinewidth\": 0, \"ticks\": \"\"}, \"colorscale\": [[0.0, \"#0d0887\"], [0.1111111111111111, \"#46039f\"], [0.2222222222222222, \"#7201a8\"], [0.3333333333333333, \"#9c179e\"], [0.4444444444444444, \"#bd3786\"], [0.5555555555555556, \"#d8576b\"], [0.6666666666666666, \"#ed7953\"], [0.7777777777777778, \"#fb9f3a\"], [0.8888888888888888, \"#fdca26\"], [1.0, \"#f0f921\"]], \"type\": \"histogram2dcontour\"}], \"mesh3d\": [{\"colorbar\": {\"outlinewidth\": 0, \"ticks\": \"\"}, \"type\": \"mesh3d\"}], \"parcoords\": [{\"line\": {\"colorbar\": {\"outlinewidth\": 0, \"ticks\": \"\"}}, \"type\": \"parcoords\"}], \"pie\": [{\"automargin\": true, \"type\": \"pie\"}], \"scatter\": [{\"marker\": {\"colorbar\": {\"outlinewidth\": 0, \"ticks\": \"\"}}, \"type\": \"scatter\"}], \"scatter3d\": [{\"line\": {\"colorbar\": {\"outlinewidth\": 0, \"ticks\": \"\"}}, \"marker\": {\"colorbar\": {\"outlinewidth\": 0, \"ticks\": \"\"}}, \"type\": \"scatter3d\"}], \"scattercarpet\": [{\"marker\": {\"colorbar\": {\"outlinewidth\": 0, \"ticks\": \"\"}}, \"type\": \"scattercarpet\"}], \"scattergeo\": [{\"marker\": {\"colorbar\": {\"outlinewidth\": 0, \"ticks\": \"\"}}, \"type\": \"scattergeo\"}], \"scattergl\": [{\"marker\": {\"colorbar\": {\"outlinewidth\": 0, \"ticks\": \"\"}}, \"type\": \"scattergl\"}], \"scattermapbox\": [{\"marker\": {\"colorbar\": {\"outlinewidth\": 0, \"ticks\": \"\"}}, \"type\": \"scattermapbox\"}], \"scatterpolar\": [{\"marker\": {\"colorbar\": {\"outlinewidth\": 0, \"ticks\": \"\"}}, \"type\": \"scatterpolar\"}], \"scatterpolargl\": [{\"marker\": {\"colorbar\": {\"outlinewidth\": 0, \"ticks\": \"\"}}, \"type\": \"scatterpolargl\"}], \"scatterternary\": [{\"marker\": {\"colorbar\": {\"outlinewidth\": 0, \"ticks\": \"\"}}, \"type\": \"scatterternary\"}], \"surface\": [{\"colorbar\": {\"outlinewidth\": 0, \"ticks\": \"\"}, \"colorscale\": [[0.0, \"#0d0887\"], [0.1111111111111111, \"#46039f\"], [0.2222222222222222, \"#7201a8\"], [0.3333333333333333, \"#9c179e\"], [0.4444444444444444, \"#bd3786\"], [0.5555555555555556, \"#d8576b\"], [0.6666666666666666, \"#ed7953\"], [0.7777777777777778, \"#fb9f3a\"], [0.8888888888888888, \"#fdca26\"], [1.0, \"#f0f921\"]], \"type\": \"surface\"}], \"table\": [{\"cells\": {\"fill\": {\"color\": \"#EBF0F8\"}, \"line\": {\"color\": \"white\"}}, \"header\": {\"fill\": {\"color\": \"#C8D4E3\"}, \"line\": {\"color\": \"white\"}}, \"type\": \"table\"}]}, \"layout\": {\"annotationdefaults\": {\"arrowcolor\": \"#2a3f5f\", \"arrowhead\": 0, \"arrowwidth\": 1}, \"coloraxis\": {\"colorbar\": {\"outlinewidth\": 0, \"ticks\": \"\"}}, \"colorscale\": {\"diverging\": [[0, \"#8e0152\"], [0.1, \"#c51b7d\"], [0.2, \"#de77ae\"], [0.3, \"#f1b6da\"], [0.4, \"#fde0ef\"], [0.5, \"#f7f7f7\"], [0.6, \"#e6f5d0\"], [0.7, \"#b8e186\"], [0.8, \"#7fbc41\"], [0.9, \"#4d9221\"], [1, \"#276419\"]], \"sequential\": [[0.0, \"#0d0887\"], [0.1111111111111111, \"#46039f\"], [0.2222222222222222, \"#7201a8\"], [0.3333333333333333, \"#9c179e\"], [0.4444444444444444, \"#bd3786\"], [0.5555555555555556, \"#d8576b\"], [0.6666666666666666, \"#ed7953\"], [0.7777777777777778, \"#fb9f3a\"], [0.8888888888888888, \"#fdca26\"], [1.0, \"#f0f921\"]], \"sequentialminus\": [[0.0, \"#0d0887\"], [0.1111111111111111, \"#46039f\"], [0.2222222222222222, \"#7201a8\"], [0.3333333333333333, \"#9c179e\"], [0.4444444444444444, \"#bd3786\"], [0.5555555555555556, \"#d8576b\"], [0.6666666666666666, \"#ed7953\"], [0.7777777777777778, \"#fb9f3a\"], [0.8888888888888888, \"#fdca26\"], [1.0, \"#f0f921\"]]}, \"colorway\": [\"#636efa\", \"#EF553B\", \"#00cc96\", \"#ab63fa\", \"#FFA15A\", \"#19d3f3\", \"#FF6692\", \"#B6E880\", \"#FF97FF\", \"#FECB52\"], \"font\": {\"color\": \"#2a3f5f\"}, \"geo\": {\"bgcolor\": \"white\", \"lakecolor\": \"white\", \"landcolor\": \"#E5ECF6\", \"showlakes\": true, \"showland\": true, \"subunitcolor\": \"white\"}, \"hoverlabel\": {\"align\": \"left\"}, \"hovermode\": \"closest\", \"mapbox\": {\"style\": \"light\"}, \"paper_bgcolor\": \"white\", \"plot_bgcolor\": \"#E5ECF6\", \"polar\": {\"angularaxis\": {\"gridcolor\": \"white\", \"linecolor\": \"white\", \"ticks\": \"\"}, \"bgcolor\": \"#E5ECF6\", \"radialaxis\": {\"gridcolor\": \"white\", \"linecolor\": \"white\", \"ticks\": \"\"}}, \"scene\": {\"xaxis\": {\"backgroundcolor\": \"#E5ECF6\", \"gridcolor\": \"white\", \"gridwidth\": 2, \"linecolor\": \"white\", \"showbackground\": true, \"ticks\": \"\", \"zerolinecolor\": \"white\"}, \"yaxis\": {\"backgroundcolor\": \"#E5ECF6\", \"gridcolor\": \"white\", \"gridwidth\": 2, \"linecolor\": \"white\", \"showbackground\": true, \"ticks\": \"\", \"zerolinecolor\": \"white\"}, \"zaxis\": {\"backgroundcolor\": \"#E5ECF6\", \"gridcolor\": \"white\", \"gridwidth\": 2, \"linecolor\": \"white\", \"showbackground\": true, \"ticks\": \"\", \"zerolinecolor\": \"white\"}}, \"shapedefaults\": {\"line\": {\"color\": \"#2a3f5f\"}}, \"ternary\": {\"aaxis\": {\"gridcolor\": \"white\", \"linecolor\": \"white\", \"ticks\": \"\"}, \"baxis\": {\"gridcolor\": \"white\", \"linecolor\": \"white\", \"ticks\": \"\"}, \"bgcolor\": \"#E5ECF6\", \"caxis\": {\"gridcolor\": \"white\", \"linecolor\": \"white\", \"ticks\": \"\"}}, \"title\": {\"x\": 0.05}, \"xaxis\": {\"automargin\": true, \"gridcolor\": \"white\", \"linecolor\": \"white\", \"ticks\": \"\", \"title\": {\"standoff\": 15}, \"zerolinecolor\": \"white\", \"zerolinewidth\": 2}, \"yaxis\": {\"automargin\": true, \"gridcolor\": \"white\", \"linecolor\": \"white\", \"ticks\": \"\", \"title\": {\"standoff\": 15}, \"zerolinecolor\": \"white\", \"zerolinewidth\": 2}}}},\n",
              "                        {\"responsive\": true}\n",
              "                    ).then(function(){\n",
              "                            \n",
              "var gd = document.getElementById('deaf761e-4a89-4fdb-8ab2-f44c3916b6ee');\n",
              "var x = new MutationObserver(function (mutations, observer) {{\n",
              "        var display = window.getComputedStyle(gd).display;\n",
              "        if (!display || display === 'none') {{\n",
              "            console.log([gd, 'removed!']);\n",
              "            Plotly.purge(gd);\n",
              "            observer.disconnect();\n",
              "        }}\n",
              "}});\n",
              "\n",
              "// Listen for the removal of the full notebook cells\n",
              "var notebookContainer = gd.closest('#notebook-container');\n",
              "if (notebookContainer) {{\n",
              "    x.observe(notebookContainer, {childList: true});\n",
              "}}\n",
              "\n",
              "// Listen for the clearing of the current output cell\n",
              "var outputEl = gd.closest('.output');\n",
              "if (outputEl) {{\n",
              "    x.observe(outputEl, {childList: true});\n",
              "}}\n",
              "\n",
              "                        })\n",
              "                };\n",
              "                \n",
              "            </script>\n",
              "        </div>\n",
              "</body>\n",
              "</html>"
            ]
          },
          "metadata": {
            "tags": []
          }
        }
      ]
    },
    {
      "cell_type": "code",
      "metadata": {
        "id": "XD1bEe1qAH0g"
      },
      "source": [
        ""
      ],
      "execution_count": null,
      "outputs": []
    }
  ]
}