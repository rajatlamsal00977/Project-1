{
  "nbformat": 4,
  "nbformat_minor": 0,
  "metadata": {
    "colab": {
      "name": "Untitled13.ipynb",
      "provenance": [],
      "include_colab_link": true
    },
    "kernelspec": {
      "name": "python3",
      "display_name": "Python 3"
    }
  },
  "cells": [
    {
      "cell_type": "markdown",
      "metadata": {
        "id": "view-in-github",
        "colab_type": "text"
      },
      "source": [
        "<a href=\"https://colab.research.google.com/github/rajatlamsal00977/Project-1/blob/main/Regression.ipynb\" target=\"_parent\"><img src=\"https://colab.research.google.com/assets/colab-badge.svg\" alt=\"Open In Colab\"/></a>"
      ]
    },
    {
      "cell_type": "markdown",
      "metadata": {
        "id": "MglreMeqs5ig"
      },
      "source": [
        "In this project we try to use  the linear and nonlinear regression to find the relation between the variables in the table below.\r\n",
        "\r\n",
        "Rajat Lamsal<br>\r\n",
        "Bishnu Rijal<br>\r\n",
        "Pratim khadka<br>\r\n",
        "Instructor: Nicolas Jachob.\r\n",
        "\r\n",
        "CPSMA 4413 NUMERICAL METHODS -01."
      ]
    },
    {
      "cell_type": "code",
      "metadata": {
        "id": "QusSHrShUmKY"
      },
      "source": [
        "\r\n",
        "import numpy as np\r\n",
        "from scipy import stats\r\n",
        "import matplotlib.pyplot as plt\r\n",
        "import pandas as pa\r\n",
        "\r\n",
        "\r\n",
        "%matplotlib inline"
      ],
      "execution_count": null,
      "outputs": []
    },
    {
      "cell_type": "code",
      "metadata": {
        "id": "mpo6uor4UsUu"
      },
      "source": [
        "data = pa.read_csv('https://raw.githubusercontent.com/nurfnick/Applied_Stats_Jupyter_Notebooks/master/student.csv')"
      ],
      "execution_count": null,
      "outputs": []
    },
    {
      "cell_type": "markdown",
      "metadata": {
        "id": "20O4vwLI68Zt"
      },
      "source": [
        "Using fillna function to replace empty cell with zeros for easier calculation."
      ]
    },
    {
      "cell_type": "code",
      "metadata": {
        "id": "VLfNU3pc7KA1"
      },
      "source": [
        "data.fillna(0, inplace = True)"
      ],
      "execution_count": null,
      "outputs": []
    },
    {
      "cell_type": "code",
      "metadata": {
        "colab": {
          "base_uri": "https://localhost:8080/",
          "height": 435
        },
        "id": "Y68kgCGRU8RR",
        "outputId": "2fbb4e67-e620-4e6b-bbb7-ac27859a45dd"
      },
      "source": [
        "data"
      ],
      "execution_count": null,
      "outputs": [
        {
          "output_type": "execute_result",
          "data": {
            "text/html": [
              "<div>\n",
              "<style scoped>\n",
              "    .dataframe tbody tr th:only-of-type {\n",
              "        vertical-align: middle;\n",
              "    }\n",
              "\n",
              "    .dataframe tbody tr th {\n",
              "        vertical-align: top;\n",
              "    }\n",
              "\n",
              "    .dataframe thead th {\n",
              "        text-align: right;\n",
              "    }\n",
              "</style>\n",
              "<table border=\"1\" class=\"dataframe\">\n",
              "  <thead>\n",
              "    <tr style=\"text-align: right;\">\n",
              "      <th></th>\n",
              "      <th>Year</th>\n",
              "      <th>Gender</th>\n",
              "      <th>Smoke</th>\n",
              "      <th>Award</th>\n",
              "      <th>HigherSAT</th>\n",
              "      <th>Exercise</th>\n",
              "      <th>TV</th>\n",
              "      <th>Height</th>\n",
              "      <th>Weight</th>\n",
              "      <th>Siblings</th>\n",
              "      <th>BirthOrder</th>\n",
              "      <th>VerbalSAT</th>\n",
              "      <th>MathSAT</th>\n",
              "      <th>SAT</th>\n",
              "      <th>GPA</th>\n",
              "      <th>Pulse</th>\n",
              "      <th>Piercings</th>\n",
              "    </tr>\n",
              "  </thead>\n",
              "  <tbody>\n",
              "    <tr>\n",
              "      <th>0</th>\n",
              "      <td>Senior</td>\n",
              "      <td>M</td>\n",
              "      <td>No</td>\n",
              "      <td>Olympic</td>\n",
              "      <td>Math</td>\n",
              "      <td>10.0</td>\n",
              "      <td>1.0</td>\n",
              "      <td>71.0</td>\n",
              "      <td>180.0</td>\n",
              "      <td>4</td>\n",
              "      <td>4.0</td>\n",
              "      <td>540</td>\n",
              "      <td>670</td>\n",
              "      <td>1210</td>\n",
              "      <td>3.13</td>\n",
              "      <td>54</td>\n",
              "      <td>0.0</td>\n",
              "    </tr>\n",
              "    <tr>\n",
              "      <th>1</th>\n",
              "      <td>Sophomore</td>\n",
              "      <td>F</td>\n",
              "      <td>Yes</td>\n",
              "      <td>Academy</td>\n",
              "      <td>Math</td>\n",
              "      <td>4.0</td>\n",
              "      <td>7.0</td>\n",
              "      <td>66.0</td>\n",
              "      <td>120.0</td>\n",
              "      <td>2</td>\n",
              "      <td>2.0</td>\n",
              "      <td>520</td>\n",
              "      <td>630</td>\n",
              "      <td>1150</td>\n",
              "      <td>2.50</td>\n",
              "      <td>66</td>\n",
              "      <td>3.0</td>\n",
              "    </tr>\n",
              "    <tr>\n",
              "      <th>2</th>\n",
              "      <td>FirstYear</td>\n",
              "      <td>M</td>\n",
              "      <td>No</td>\n",
              "      <td>Nobel</td>\n",
              "      <td>Math</td>\n",
              "      <td>14.0</td>\n",
              "      <td>5.0</td>\n",
              "      <td>72.0</td>\n",
              "      <td>208.0</td>\n",
              "      <td>2</td>\n",
              "      <td>1.0</td>\n",
              "      <td>550</td>\n",
              "      <td>560</td>\n",
              "      <td>1110</td>\n",
              "      <td>2.55</td>\n",
              "      <td>130</td>\n",
              "      <td>0.0</td>\n",
              "    </tr>\n",
              "    <tr>\n",
              "      <th>3</th>\n",
              "      <td>Junior</td>\n",
              "      <td>M</td>\n",
              "      <td>No</td>\n",
              "      <td>Nobel</td>\n",
              "      <td>Math</td>\n",
              "      <td>3.0</td>\n",
              "      <td>1.0</td>\n",
              "      <td>63.0</td>\n",
              "      <td>110.0</td>\n",
              "      <td>1</td>\n",
              "      <td>1.0</td>\n",
              "      <td>490</td>\n",
              "      <td>630</td>\n",
              "      <td>1120</td>\n",
              "      <td>3.10</td>\n",
              "      <td>78</td>\n",
              "      <td>0.0</td>\n",
              "    </tr>\n",
              "    <tr>\n",
              "      <th>4</th>\n",
              "      <td>Sophomore</td>\n",
              "      <td>F</td>\n",
              "      <td>No</td>\n",
              "      <td>Nobel</td>\n",
              "      <td>Verbal</td>\n",
              "      <td>3.0</td>\n",
              "      <td>3.0</td>\n",
              "      <td>65.0</td>\n",
              "      <td>150.0</td>\n",
              "      <td>1</td>\n",
              "      <td>1.0</td>\n",
              "      <td>720</td>\n",
              "      <td>450</td>\n",
              "      <td>1170</td>\n",
              "      <td>2.70</td>\n",
              "      <td>40</td>\n",
              "      <td>6.0</td>\n",
              "    </tr>\n",
              "    <tr>\n",
              "      <th>...</th>\n",
              "      <td>...</td>\n",
              "      <td>...</td>\n",
              "      <td>...</td>\n",
              "      <td>...</td>\n",
              "      <td>...</td>\n",
              "      <td>...</td>\n",
              "      <td>...</td>\n",
              "      <td>...</td>\n",
              "      <td>...</td>\n",
              "      <td>...</td>\n",
              "      <td>...</td>\n",
              "      <td>...</td>\n",
              "      <td>...</td>\n",
              "      <td>...</td>\n",
              "      <td>...</td>\n",
              "      <td>...</td>\n",
              "      <td>...</td>\n",
              "    </tr>\n",
              "    <tr>\n",
              "      <th>357</th>\n",
              "      <td>Sophomore</td>\n",
              "      <td>F</td>\n",
              "      <td>Yes</td>\n",
              "      <td>Nobel</td>\n",
              "      <td>Verbal</td>\n",
              "      <td>2.0</td>\n",
              "      <td>0.0</td>\n",
              "      <td>83.0</td>\n",
              "      <td>130.0</td>\n",
              "      <td>1</td>\n",
              "      <td>1.0</td>\n",
              "      <td>550</td>\n",
              "      <td>540</td>\n",
              "      <td>1090</td>\n",
              "      <td>3.44</td>\n",
              "      <td>80</td>\n",
              "      <td>3.0</td>\n",
              "    </tr>\n",
              "    <tr>\n",
              "      <th>358</th>\n",
              "      <td>Sophomore</td>\n",
              "      <td>M</td>\n",
              "      <td>Yes</td>\n",
              "      <td>Olympic</td>\n",
              "      <td>Math</td>\n",
              "      <td>8.0</td>\n",
              "      <td>10.0</td>\n",
              "      <td>61.0</td>\n",
              "      <td>180.0</td>\n",
              "      <td>2</td>\n",
              "      <td>1.0</td>\n",
              "      <td>600</td>\n",
              "      <td>620</td>\n",
              "      <td>1220</td>\n",
              "      <td>3.00</td>\n",
              "      <td>74</td>\n",
              "      <td>0.0</td>\n",
              "    </tr>\n",
              "    <tr>\n",
              "      <th>359</th>\n",
              "      <td>Sophomore</td>\n",
              "      <td>F</td>\n",
              "      <td>Yes</td>\n",
              "      <td>Nobel</td>\n",
              "      <td>Verbal</td>\n",
              "      <td>1.0</td>\n",
              "      <td>1.0</td>\n",
              "      <td>65.0</td>\n",
              "      <td>150.0</td>\n",
              "      <td>2</td>\n",
              "      <td>2.0</td>\n",
              "      <td>540</td>\n",
              "      <td>450</td>\n",
              "      <td>990</td>\n",
              "      <td>3.27</td>\n",
              "      <td>78</td>\n",
              "      <td>2.0</td>\n",
              "    </tr>\n",
              "    <tr>\n",
              "      <th>360</th>\n",
              "      <td>FirstYear</td>\n",
              "      <td>M</td>\n",
              "      <td>Yes</td>\n",
              "      <td>Olympic</td>\n",
              "      <td>Verbal</td>\n",
              "      <td>14.0</td>\n",
              "      <td>5.0</td>\n",
              "      <td>77.0</td>\n",
              "      <td>205.0</td>\n",
              "      <td>2</td>\n",
              "      <td>2.0</td>\n",
              "      <td>550</td>\n",
              "      <td>550</td>\n",
              "      <td>1100</td>\n",
              "      <td>2.30</td>\n",
              "      <td>72</td>\n",
              "      <td>0.0</td>\n",
              "    </tr>\n",
              "    <tr>\n",
              "      <th>361</th>\n",
              "      <td>Sophomore</td>\n",
              "      <td>F</td>\n",
              "      <td>Yes</td>\n",
              "      <td>Olympic</td>\n",
              "      <td>Math</td>\n",
              "      <td>12.0</td>\n",
              "      <td>5.0</td>\n",
              "      <td>60.0</td>\n",
              "      <td>115.0</td>\n",
              "      <td>0</td>\n",
              "      <td>1.0</td>\n",
              "      <td>500</td>\n",
              "      <td>510</td>\n",
              "      <td>1010</td>\n",
              "      <td>2.60</td>\n",
              "      <td>91</td>\n",
              "      <td>5.0</td>\n",
              "    </tr>\n",
              "  </tbody>\n",
              "</table>\n",
              "<p>362 rows × 17 columns</p>\n",
              "</div>"
            ],
            "text/plain": [
              "          Year Gender Smoke    Award  ...   SAT   GPA  Pulse  Piercings\n",
              "0       Senior      M    No  Olympic  ...  1210  3.13     54        0.0\n",
              "1    Sophomore      F   Yes  Academy  ...  1150  2.50     66        3.0\n",
              "2    FirstYear      M    No    Nobel  ...  1110  2.55    130        0.0\n",
              "3       Junior      M    No    Nobel  ...  1120  3.10     78        0.0\n",
              "4    Sophomore      F    No    Nobel  ...  1170  2.70     40        6.0\n",
              "..         ...    ...   ...      ...  ...   ...   ...    ...        ...\n",
              "357  Sophomore      F   Yes    Nobel  ...  1090  3.44     80        3.0\n",
              "358  Sophomore      M   Yes  Olympic  ...  1220  3.00     74        0.0\n",
              "359  Sophomore      F   Yes    Nobel  ...   990  3.27     78        2.0\n",
              "360  FirstYear      M   Yes  Olympic  ...  1100  2.30     72        0.0\n",
              "361  Sophomore      F   Yes  Olympic  ...  1010  2.60     91        5.0\n",
              "\n",
              "[362 rows x 17 columns]"
            ]
          },
          "metadata": {
            "tags": []
          },
          "execution_count": 707
        }
      ]
    },
    {
      "cell_type": "code",
      "metadata": {
        "colab": {
          "base_uri": "https://localhost:8080/",
          "height": 313
        },
        "id": "u-kuM_NcU-w-",
        "outputId": "76316151-81b8-4273-d5cf-710e9b6ee068"
      },
      "source": [
        "plt.scatter(data[\"VerbalSAT\"]+data[\"MathSAT\"],data[\"SAT\"])\r\n",
        "plt.title(\"Relation between VerbalSAT + MathSAT and SAT\")\r\n",
        "plt.xlabel(\"VerbalSAT + MathSAT Scores\")\r\n",
        "plt.ylabel(\"SAT Scores\")"
      ],
      "execution_count": null,
      "outputs": [
        {
          "output_type": "execute_result",
          "data": {
            "text/plain": [
              "Text(0, 0.5, 'SAT Scores')"
            ]
          },
          "metadata": {
            "tags": []
          },
          "execution_count": 708
        },
        {
          "output_type": "display_data",
          "data": {
            "image/png": "[encoded data removed]",
            "text/plain": [
              "<Figure size 432x288 with 1 Axes>"
            ]
          },
          "metadata": {
            "tags": [],
            "needs_background": "light"
          }
        }
      ]
    },
    {
      "cell_type": "code",
      "metadata": {
        "colab": {
          "base_uri": "https://localhost:8080/"
        },
        "id": "EDPEwi42VKd8",
        "outputId": "9435dd65-2d01-4bf1-d5d8-27d93c1833ef"
      },
      "source": [
        "stats.pearsonr(data[\"VerbalSAT\"]+data[\"MathSAT\"],data[\"SAT\"])"
      ],
      "execution_count": null,
      "outputs": [
        {
          "output_type": "execute_result",
          "data": {
            "text/plain": [
              "(1.0, 0.0)"
            ]
          },
          "metadata": {
            "tags": []
          },
          "execution_count": 709
        }
      ]
    },
    {
      "cell_type": "code",
      "metadata": {
        "colab": {
          "base_uri": "https://localhost:8080/",
          "height": 313
        },
        "id": "BxknvRfDVSMX",
        "outputId": "542cfec8-9a41-4e5c-e0b5-47dc5c7dc9da"
      },
      "source": [
        "plt.scatter(data[\"VerbalSAT\"],data[\"SAT\"], label=\"SAT value\")\r\n",
        "plt.title(\"Relation between VerbalSAT and SAT\")\r\n",
        "plt.xlabel(\"VerbalSAT Scores\")\r\n",
        "plt.ylabel(\"SAT Scores\")\r\n",
        "plt.legend()"
      ],
      "execution_count": null,
      "outputs": [
        {
          "output_type": "execute_result",
          "data": {
            "text/plain": [
              "<matplotlib.legend.Legend at 0x7f31b60dba90>"
            ]
          },
          "metadata": {
            "tags": []
          },
          "execution_count": 710
        },
        {
          "output_type": "display_data",
          "data": {
            "image/png": "[encoded data removed]",
            "text/plain": [
              "<Figure size 432x288 with 1 Axes>"
            ]
          },
          "metadata": {
            "tags": [],
            "needs_background": "light"
          }
        }
      ]
    },
    {
      "cell_type": "code",
      "metadata": {
        "colab": {
          "base_uri": "https://localhost:8080/"
        },
        "id": "QyOcIqvJVr9T",
        "outputId": "23dc3296-474d-4cb1-cf62-1f1fdd0e936c"
      },
      "source": [
        "stats.pearsonr(data[\"VerbalSAT\"],data[\"SAT\"])"
      ],
      "execution_count": null,
      "outputs": [
        {
          "output_type": "execute_result",
          "data": {
            "text/plain": [
              "(0.86263272072066, 1.3463071839818128e-108)"
            ]
          },
          "metadata": {
            "tags": []
          },
          "execution_count": 711
        }
      ]
    },
    {
      "cell_type": "code",
      "metadata": {
        "id": "GtGa51MJVwBo"
      },
      "source": [
        ""
      ],
      "execution_count": null,
      "outputs": []
    },
    {
      "cell_type": "markdown",
      "metadata": {
        "id": "mupqTDgCV3lF"
      },
      "source": [
        "**Linear Regression**\r\n",
        "\r\n",
        "Utilizing Scipy Stats package and hand method the regression would take the form, $\\hat y = a_0+a_1 x$ \r\n",
        "\r\n",
        "$$\r\n",
        "a_1=\\frac{\\sum x_i y_i -n \\bar x \\bar y}{\\sum x_i^2 - n\\bar x ^2}\r\n",
        "$$\r\n",
        "and\r\n",
        "$$\r\n",
        "a_0 = \\bar y - a_1 \\bar x\r\n",
        "$$"
      ]
    },
    {
      "cell_type": "code",
      "metadata": {
        "id": "uv6ikJnqV4l_"
      },
      "source": [
        "def sum(list): ## to contain our x(not) and y(not)\r\n",
        "  total = 0\r\n",
        "  for i in list:\r\n",
        "    total = total + i\r\n",
        "  return total\r\n",
        "\r\n",
        "def squareAndSum(list1,list2): ## to find our xx and xy\r\n",
        "  total = 0\r\n",
        "  for i in range(len(list1)): ## using len function to return the total number of objects that is inside of our data.\r\n",
        "    total = total + list1[i]*list2[i]\r\n",
        "  return total\r\n",
        "\r\n"
      ],
      "execution_count": null,
      "outputs": []
    },
    {
      "cell_type": "code",
      "metadata": {
        "id": "18LIo5FpWVZW"
      },
      "source": [
        "n = len(data['VerbalSAT'])\r\n",
        "xbar = sum(data['VerbalSAT'])/n\r\n",
        "ybar = sum(data['SAT'])/n\r\n",
        "xy = squareAndSum(data['VerbalSAT'],data['SAT'])\r\n",
        "xx = squareAndSum(data['VerbalSAT'],data['VerbalSAT'])\r\n",
        "\r\n",
        "a1 = (xy-n*xbar*ybar)/(xx-n*xbar**2)\r\n",
        "a0 = ybar - a1*xbar"
      ],
      "execution_count": null,
      "outputs": []
    },
    {
      "cell_type": "code",
      "metadata": {
        "id": "FnDRRyghAcEF",
        "colab": {
          "base_uri": "https://localhost:8080/"
        },
        "outputId": "dc5cf8c2-4a3f-4871-f73f-512205f3e124"
      },
      "source": [
        "print(\"xy = \",xy)\r\n",
        "\r\n",
        "print (\"xx = \",xx)\r\n",
        "\r\n",
        "print(\"x̅ = \",xbar)\r\n",
        "\r\n",
        "print(\"ȳ = \", ybar)\r\n",
        "\r\n",
        "print (\"n = \",n)"
      ],
      "execution_count": null,
      "outputs": [
        {
          "output_type": "stream",
          "text": [
            "xy =  261698176\n",
            "xx =  129794889\n",
            "x̅ =  594.1906077348066\n",
            "ȳ =  1203.6270718232045\n",
            "n =  362\n"
          ],
          "name": "stdout"
        }
      ]
    },
    {
      "cell_type": "code",
      "metadata": {
        "id": "M3h2M5YAWYgA"
      },
      "source": [
        "def fomulaRegression(variable,slope, intercept):\r\n",
        "  return variable*slope+intercept"
      ],
      "execution_count": null,
      "outputs": []
    },
    {
      "cell_type": "code",
      "metadata": {
        "colab": {
          "base_uri": "https://localhost:8080/"
        },
        "id": "FKeg0MFPWcJW",
        "outputId": "f3b345ba-02b2-4e89-9203-1b5964ddee45"
      },
      "source": [
        "print(f\"slope = {a1}\")\r\n",
        "print(f\"intercept = {a0}\")\r\n"
      ],
      "execution_count": null,
      "outputs": [
        {
          "output_type": "stream",
          "text": [
            "slope = 1.4104835321366764\n",
            "intercept = 365.5310046629761\n"
          ],
          "name": "stdout"
        }
      ]
    },
    {
      "cell_type": "markdown",
      "metadata": {
        "id": "RN__MoxpBChj"
      },
      "source": [
        "Now we are using regression built in package to check our work."
      ]
    },
    {
      "cell_type": "code",
      "metadata": {
        "colab": {
          "base_uri": "https://localhost:8080/"
        },
        "id": "iQ3emWZLWkSa",
        "outputId": "a8d56b4c-c427-40e4-a063-6b441b85f3aa"
      },
      "source": [
        "ourRegression = stats.linregress(data[\"VerbalSAT\"],data[\"SAT\"])\r\n",
        "ourRegression"
      ],
      "execution_count": null,
      "outputs": [
        {
          "output_type": "execute_result",
          "data": {
            "text/plain": [
              "LinregressResult(slope=1.4104835321366782, intercept=365.5310046629751, rvalue=0.8626327207206598, pvalue=1.346307183982045e-108, stderr=0.04359092696421324)"
            ]
          },
          "metadata": {
            "tags": []
          },
          "execution_count": 717
        }
      ]
    },
    {
      "cell_type": "code",
      "metadata": {
        "id": "bm5ZsvR7W5gD",
        "colab": {
          "base_uri": "https://localhost:8080/"
        },
        "outputId": "36cdcfac-12f7-47d2-f8b8-43f8e6cb4f76"
      },
      "source": [
        "m = ourRegression[0]\r\n",
        "b = ourRegression[1]\r\n",
        "\r\n",
        "print(f\"slope = {m}\")\r\n",
        "print(f\"intercept = {b}\")\r\n",
        "def y(x):\r\n",
        "    return(m*x+b)"
      ],
      "execution_count": null,
      "outputs": [
        {
          "output_type": "stream",
          "text": [
            "slope = 1.4104835321366782\n",
            "intercept = 365.5310046629751\n"
          ],
          "name": "stdout"
        }
      ]
    },
    {
      "cell_type": "code",
      "metadata": {
        "colab": {
          "base_uri": "https://localhost:8080/",
          "height": 313
        },
        "id": "IRzI3r-0XCUe",
        "outputId": "ad7bc5c0-0b5b-4315-b46a-44e26615e98f"
      },
      "source": [
        "x = np.arange( 0,500,1)\r\n",
        "plt.scatter(data[\"VerbalSAT\"],data[\"SAT\"])\r\n",
        "plt.plot(x,y(x))\r\n",
        "\r\n",
        "plt.title(\"Positive Relation between VerbalSAT and SAT\")\r\n",
        "plt.xlabel(\"VerbalSAT Scores\")\r\n",
        "plt.ylabel(\"SAT Scores\")\r\n"
      ],
      "execution_count": null,
      "outputs": [
        {
          "output_type": "execute_result",
          "data": {
            "text/plain": [
              "Text(0, 0.5, 'SAT Scores')"
            ]
          },
          "metadata": {
            "tags": []
          },
          "execution_count": 719
        },
        {
          "output_type": "display_data",
          "data": {
            "image/png": "[encoded data removed]",
            "text/plain": [
              "<Figure size 432x288 with 1 Axes>"
            ]
          },
          "metadata": {
            "tags": [],
            "needs_background": "light"
          }
        }
      ]
    },
    {
      "cell_type": "code",
      "metadata": {
        "id": "03vbcD7HXFpp"
      },
      "source": [
        "#sum of the residuals\r\n",
        "s = 0\r\n",
        "for i in range (0,len(data[\"VerbalSAT\"])):\r\n",
        "    s = s+y(data[\"VerbalSAT\"][i])-data[\"SAT\"][i]"
      ],
      "execution_count": null,
      "outputs": []
    },
    {
      "cell_type": "code",
      "metadata": {
        "colab": {
          "base_uri": "https://localhost:8080/"
        },
        "id": "i5128xd6XOIT",
        "outputId": "b4344867-59f2-4c10-afda-8ab3e22e0190"
      },
      "source": [
        "s"
      ],
      "execution_count": null,
      "outputs": [
        {
          "output_type": "execute_result",
          "data": {
            "text/plain": [
              "5.3660187404602766e-11"
            ]
          },
          "metadata": {
            "tags": []
          },
          "execution_count": 721
        }
      ]
    },
    {
      "cell_type": "code",
      "metadata": {
        "id": "AEOljppZXQ-8"
      },
      "source": [
        "ss = 0\r\n",
        "for i in range (0,len(data[\"VerbalSAT\"])):\r\n",
        "    ss = ss+(y(data[\"VerbalSAT\"][i])-data[\"SAT\"][i])**2"
      ],
      "execution_count": null,
      "outputs": []
    },
    {
      "cell_type": "code",
      "metadata": {
        "colab": {
          "base_uri": "https://localhost:8080/"
        },
        "id": "u615W16qXU7G",
        "outputId": "01eea974-3ef4-412a-9dbb-6927fc18bef6"
      },
      "source": [
        "ss"
      ],
      "execution_count": null,
      "outputs": [
        {
          "output_type": "execute_result",
          "data": {
            "text/plain": [
              "1358730.7270751342"
            ]
          },
          "metadata": {
            "tags": []
          },
          "execution_count": 723
        }
      ]
    },
    {
      "cell_type": "markdown",
      "metadata": {
        "id": "mll9wQUCYvyb"
      },
      "source": [
        "Arranging these datasets in system of linear equation/matrix form and solving with any methods for instance Gaussian Elimination method.\r\n",
        "$$\r\n",
        "\\left[\r\n",
        "\\begin{array}{ccc|c}\r\n",
        "n& \\sum x_i&\\sum x_i^2&\\sum y_i\\\\\r\n",
        "\\sum x_i&\\sum x_i^2&\\sum x_i^3&\\sum x_i y_i\\\\\r\n",
        "\\sum x_i^2 &\\sum x_i^3&\\sum x_i^4&\\sum x_i^2 y_i\r\n",
        "\\end{array}\r\n",
        "\\right]\r\n",
        "$$\r\n",
        " The equation will take the following form.\r\n",
        "$$\r\n",
        "\\hat y = a_0+a_1 x+a_2 x^2\r\n",
        "$$\r\n",
        "\r\n"
      ]
    },
    {
      "cell_type": "code",
      "metadata": {
        "colab": {
          "base_uri": "https://localhost:8080/",
          "height": 313
        },
        "id": "ruF2EYhhXbNO",
        "outputId": "573b6309-79df-4b3a-d986-03468357ef8d"
      },
      "source": [
        "plt.scatter(data[\"Siblings\"],data[\"BirthOrder\"])\r\n",
        "plt.xlabel(\"Siblings\")\r\n",
        "plt.ylabel(\"BirthOrder\")\r\n",
        "plt.title(\"Relation Between Birthorder and Number of Siblings\")\r\n"
      ],
      "execution_count": null,
      "outputs": [
        {
          "output_type": "execute_result",
          "data": {
            "text/plain": [
              "Text(0.5, 1.0, 'Relation Between Birthorder and Number of Siblings')"
            ]
          },
          "metadata": {
            "tags": []
          },
          "execution_count": 724
        },
        {
          "output_type": "display_data",
          "data": {
            "image/png": "[encoded data removed]",
            "text/plain": [
              "<Figure size 432x288 with 1 Axes>"
            ]
          },
          "metadata": {
            "tags": [],
            "needs_background": "light"
          }
        }
      ]
    },
    {
      "cell_type": "code",
      "metadata": {
        "id": "_sicDG59yFaR"
      },
      "source": [
        "x = sum(data['Siblings'])\r\n",
        "xx = squareAndSum(data['Siblings'],data['Siblings'])\r\n",
        "xxx = squareAndSum(data['Siblings']**2,data['Siblings'])\r\n",
        "xxxx = squareAndSum(data['Siblings']**3,data['Siblings'])\r\n",
        "\r\n",
        "matrix = [[n,x,xx,sum(data['BirthOrder'])]\r\n",
        "          ,[x,xx,xxx,squareAndSum(data['Siblings'],data['BirthOrder'])]\r\n",
        "          ,[xx,xxx,xxxx,squareAndSum(data['Siblings']**2,data['BirthOrder'])]\r\n",
        "          ]"
      ],
      "execution_count": null,
      "outputs": []
    },
    {
      "cell_type": "code",
      "metadata": {
        "id": "DS0AvU-1Zk08"
      },
      "source": [
        "import math\r\n",
        "import numpy as np\r\n",
        "import scipy.linalg as la\r\n",
        "\r\n",
        "def addRows(matrix,targetRow, modifierRow, value):\r\n",
        "  newRow = matrix[targetRow,:]+value*matrix[modifierRow,:]\r\n",
        "  newMatrix = []\r\n",
        "  for i in range(len(matrix)):\r\n",
        "    if i != targetRow:\r\n",
        "      newMatrix.append(matrix[i,:])\r\n",
        "    else:\r\n",
        "      newMatrix.append(newRow)\r\n",
        "  return np.array(newMatrix)\r\n",
        "\r\n",
        "\r\n",
        "def changeToLeadingOne(matrix,row,column):\r\n",
        "  newMatrix =[]\r\n",
        "  for i in range(len(matrix)):\r\n",
        "    if i != row:\r\n",
        "      newMatrix.append(matrix[i,:])\r\n",
        "    else:\r\n",
        "      newMatrix.append(1/matrix[row,column]*matrix[row,:])\r\n",
        "  return np.array(newMatrix)\r\n",
        "\r\n",
        "\r\n",
        "def gaussJordan(matrix):\r\n",
        "  newMatrix = matrix\r\n",
        "  for pivot in range(len(matrix)):\r\n",
        "    newMatrix = changeToLeadingOne(newMatrix,pivot,pivot)\r\n",
        "    for column in range(0,pivot):\r\n",
        "      newMatrix = addRows(newMatrix,column,pivot,-newMatrix[column,pivot])\r\n",
        "    for column in range(pivot+1,len(matrix)):\r\n",
        "      newMatrix = addRows(newMatrix,column,pivot,-newMatrix[column,pivot])\r\n",
        "  return newMatrix"
      ],
      "execution_count": null,
      "outputs": []
    },
    {
      "cell_type": "code",
      "metadata": {
        "colab": {
          "base_uri": "https://localhost:8080/"
        },
        "id": "GKhUZBqjZpXl",
        "outputId": "0b6b56a5-f97a-4b9c-aca5-6782ae58b510"
      },
      "source": [
        "gaussJordan(np.array(matrix))"
      ],
      "execution_count": null,
      "outputs": [
        {
          "output_type": "execute_result",
          "data": {
            "text/plain": [
              "array([[1.        , 0.        , 0.        , 1.05210048],\n",
              "       [0.        , 1.        , 0.        , 0.22811289],\n",
              "       [0.        , 0.        , 1.        , 0.08448391]])"
            ]
          },
          "metadata": {
            "tags": []
          },
          "execution_count": 727
        }
      ]
    },
    {
      "cell_type": "code",
      "metadata": {
        "id": "xVdSyVGRGLht",
        "colab": {
          "base_uri": "https://localhost:8080/"
        },
        "outputId": "5d82501f-1400-4569-ecae-d77d7c22eb11"
      },
      "source": [
        "result = gaussJordan(np.array(matrix))[:,-1]\r\n",
        "result"
      ],
      "execution_count": null,
      "outputs": [
        {
          "output_type": "execute_result",
          "data": {
            "text/plain": [
              "array([1.05210048, 0.22811289, 0.08448391])"
            ]
          },
          "metadata": {
            "tags": []
          },
          "execution_count": 728
        }
      ]
    },
    {
      "cell_type": "code",
      "metadata": {
        "id": "UymIUuC36bMP"
      },
      "source": [
        "def quadRegression(x):\r\n",
        "  results = result[0] + result[1]*x + result[2]*x*x\r\n",
        "  return results"
      ],
      "execution_count": null,
      "outputs": []
    },
    {
      "cell_type": "code",
      "metadata": {
        "colab": {
          "base_uri": "https://localhost:8080/",
          "height": 283
        },
        "id": "ZdclX5UFf8N0",
        "outputId": "0575a3c8-dd97-49a3-92f7-723b964c564e"
      },
      "source": [
        "x = np.arange( 0,15,1)\r\n",
        "plt.scatter(data[\"Siblings\"],data[\"BirthOrder\"])\r\n",
        "plt.plot(x,quadRegression(x))"
      ],
      "execution_count": null,
      "outputs": [
        {
          "output_type": "execute_result",
          "data": {
            "text/plain": [
              "[<matplotlib.lines.Line2D at 0x7f31b5f99860>]"
            ]
          },
          "metadata": {
            "tags": []
          },
          "execution_count": 730
        },
        {
          "output_type": "display_data",
          "data": {
            "image/png": "[encoded data removed]",
            "text/plain": [
              "<Figure size 432x288 with 1 Axes>"
            ]
          },
          "metadata": {
            "tags": [],
            "needs_background": "light"
          }
        }
      ]
    },
    {
      "cell_type": "markdown",
      "metadata": {
        "id": "hiENS9agJP8a"
      },
      "source": [
        "**FINDINGS** \r\n",
        "\r\n",
        "We tried to fit the polynomial to our dataset. There were different methods of fitting to dataset. But we worked on polynomial one. At first we tried to find the polynomial that fits with our dataset. The polynomial fitting models invlove just a single Y and a single X. We created the matrix from our dataset using the Summation and Squaresum methods. Then we used the Gauss-Jordon law from our project 4 to solve the matrix which provided us the equation for the problem. We are pretty sure it worked as we intended because the polynomial fitting model is suitable in Non-Linear regression if we use the interpolation.\r\n",
        "\r\n"
      ]
    },
    {
      "cell_type": "code",
      "metadata": {
        "id": "rb9zSwpmf_cr"
      },
      "source": [
        ""
      ],
      "execution_count": null,
      "outputs": []
    }
  ]
}