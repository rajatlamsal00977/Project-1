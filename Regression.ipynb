{
  "nbformat": 4,
  "nbformat_minor": 0,
  "metadata": {
    "colab": {
      "name": "Untitled13.ipynb",
      "provenance": [],
      "authorship_tag": "ABX9TyMc6xHzSF5SmRDwmt5IZHey",
      "include_colab_link": true
    },
    "kernelspec": {
      "name": "python3",
      "display_name": "Python 3"
    }
  },
  "cells": [
    {
      "cell_type": "markdown",
      "metadata": {
        "id": "view-in-github",
        "colab_type": "text"
      },
      "source": [
        "<a href=\"https://colab.research.google.com/github/rajatlamsal00977/Project-1/blob/main/Regression.ipynb\" target=\"_parent\"><img src=\"https://colab.research.google.com/assets/colab-badge.svg\" alt=\"Open In Colab\"/></a>"
      ]
    },
    {
      "cell_type": "code",
      "metadata": {
        "id": "QusSHrShUmKY"
      },
      "source": [
        "#Load your packages\r\n",
        "import numpy as np\r\n",
        "from scipy import stats\r\n",
        "import matplotlib.pyplot as plt\r\n",
        "import pandas as pa\r\n",
        "\r\n",
        "\r\n",
        "%matplotlib inline"
      ],
      "execution_count": 1,
      "outputs": []
    },
    {
      "cell_type": "code",
      "metadata": {
        "id": "mpo6uor4UsUu"
      },
      "source": [
        "data = pa.read_csv('https://raw.githubusercontent.com/nurfnick/Applied_Stats_Jupyter_Notebooks/master/blues.csv')"
      ],
      "execution_count": 2,
      "outputs": []
    },
    {
      "cell_type": "code",
      "metadata": {
        "colab": {
          "base_uri": "https://localhost:8080/",
          "height": 402
        },
        "id": "Y68kgCGRU8RR",
        "outputId": "49be68c2-4156-4a54-e468-44f4984be82d"
      },
      "source": [
        "data"
      ],
      "execution_count": 3,
      "outputs": [
        {
          "output_type": "execute_result",
          "data": {
            "text/html": [
              "<div>\n",
              "<style scoped>\n",
              "    .dataframe tbody tr th:only-of-type {\n",
              "        vertical-align: middle;\n",
              "    }\n",
              "\n",
              "    .dataframe tbody tr th {\n",
              "        vertical-align: top;\n",
              "    }\n",
              "\n",
              "    .dataframe thead th {\n",
              "        text-align: right;\n",
              "    }\n",
              "</style>\n",
              "<table border=\"1\" class=\"dataframe\">\n",
              "  <thead>\n",
              "    <tr style=\"text-align: right;\">\n",
              "      <th></th>\n",
              "      <th>Rk</th>\n",
              "      <th>Player</th>\n",
              "      <th>From</th>\n",
              "      <th>To</th>\n",
              "      <th>Yrs</th>\n",
              "      <th>Lg</th>\n",
              "      <th>GP</th>\n",
              "      <th>G</th>\n",
              "      <th>A</th>\n",
              "      <th>PTS</th>\n",
              "      <th>+/-</th>\n",
              "      <th>PIM</th>\n",
              "      <th>EV</th>\n",
              "      <th>PP</th>\n",
              "      <th>SH</th>\n",
              "      <th>GW</th>\n",
              "      <th>EV.1</th>\n",
              "      <th>PP.1</th>\n",
              "      <th>SH.1</th>\n",
              "      <th>S</th>\n",
              "      <th>S%</th>\n",
              "      <th>TOI</th>\n",
              "      <th>ATOI</th>\n",
              "    </tr>\n",
              "  </thead>\n",
              "  <tbody>\n",
              "    <tr>\n",
              "      <th>0</th>\n",
              "      <td>1</td>\n",
              "      <td>Bruce Affleck\\afflebr01</td>\n",
              "      <td>1975</td>\n",
              "      <td>1979</td>\n",
              "      <td>5</td>\n",
              "      <td>NHL</td>\n",
              "      <td>274</td>\n",
              "      <td>14</td>\n",
              "      <td>65</td>\n",
              "      <td>79</td>\n",
              "      <td>-81</td>\n",
              "      <td>86</td>\n",
              "      <td>10</td>\n",
              "      <td>4</td>\n",
              "      <td>0</td>\n",
              "      <td>2</td>\n",
              "      <td>48</td>\n",
              "      <td>14</td>\n",
              "      <td>3</td>\n",
              "      <td>363</td>\n",
              "      <td>3.9</td>\n",
              "      <td>NaN</td>\n",
              "      <td>NaN</td>\n",
              "    </tr>\n",
              "    <tr>\n",
              "      <th>1</th>\n",
              "      <td>2</td>\n",
              "      <td>Kenny Agostino\\agostke01</td>\n",
              "      <td>2017</td>\n",
              "      <td>2017</td>\n",
              "      <td>1</td>\n",
              "      <td>NHL</td>\n",
              "      <td>7</td>\n",
              "      <td>1</td>\n",
              "      <td>2</td>\n",
              "      <td>3</td>\n",
              "      <td>0</td>\n",
              "      <td>2</td>\n",
              "      <td>1</td>\n",
              "      <td>0</td>\n",
              "      <td>0</td>\n",
              "      <td>0</td>\n",
              "      <td>1</td>\n",
              "      <td>1</td>\n",
              "      <td>0</td>\n",
              "      <td>17</td>\n",
              "      <td>5.9</td>\n",
              "      <td>89.0</td>\n",
              "      <td>12:47</td>\n",
              "    </tr>\n",
              "    <tr>\n",
              "      <th>2</th>\n",
              "      <td>3</td>\n",
              "      <td>Glenn Anderson*\\andergl01</td>\n",
              "      <td>1995</td>\n",
              "      <td>1996</td>\n",
              "      <td>2</td>\n",
              "      <td>NHL</td>\n",
              "      <td>51</td>\n",
              "      <td>14</td>\n",
              "      <td>16</td>\n",
              "      <td>30</td>\n",
              "      <td>-2</td>\n",
              "      <td>43</td>\n",
              "      <td>12</td>\n",
              "      <td>2</td>\n",
              "      <td>0</td>\n",
              "      <td>3</td>\n",
              "      <td>13</td>\n",
              "      <td>3</td>\n",
              "      <td>0</td>\n",
              "      <td>89</td>\n",
              "      <td>15.7</td>\n",
              "      <td>NaN</td>\n",
              "      <td>NaN</td>\n",
              "    </tr>\n",
              "    <tr>\n",
              "      <th>3</th>\n",
              "      <td>4</td>\n",
              "      <td>Perry Anderson\\anderpe01</td>\n",
              "      <td>1982</td>\n",
              "      <td>1985</td>\n",
              "      <td>4</td>\n",
              "      <td>NHL</td>\n",
              "      <td>144</td>\n",
              "      <td>22</td>\n",
              "      <td>18</td>\n",
              "      <td>40</td>\n",
              "      <td>-14</td>\n",
              "      <td>355</td>\n",
              "      <td>22</td>\n",
              "      <td>0</td>\n",
              "      <td>0</td>\n",
              "      <td>2</td>\n",
              "      <td>18</td>\n",
              "      <td>0</td>\n",
              "      <td>0</td>\n",
              "      <td>168</td>\n",
              "      <td>13.1</td>\n",
              "      <td>NaN</td>\n",
              "      <td>NaN</td>\n",
              "    </tr>\n",
              "    <tr>\n",
              "      <th>4</th>\n",
              "      <td>5</td>\n",
              "      <td>Ron Anderson\\anderro01</td>\n",
              "      <td>1970</td>\n",
              "      <td>1970</td>\n",
              "      <td>1</td>\n",
              "      <td>NHL</td>\n",
              "      <td>59</td>\n",
              "      <td>9</td>\n",
              "      <td>9</td>\n",
              "      <td>18</td>\n",
              "      <td>9</td>\n",
              "      <td>36</td>\n",
              "      <td>8</td>\n",
              "      <td>1</td>\n",
              "      <td>0</td>\n",
              "      <td>0</td>\n",
              "      <td>8</td>\n",
              "      <td>1</td>\n",
              "      <td>0</td>\n",
              "      <td>107</td>\n",
              "      <td>8.4</td>\n",
              "      <td>NaN</td>\n",
              "      <td>NaN</td>\n",
              "    </tr>\n",
              "    <tr>\n",
              "      <th>...</th>\n",
              "      <td>...</td>\n",
              "      <td>...</td>\n",
              "      <td>...</td>\n",
              "      <td>...</td>\n",
              "      <td>...</td>\n",
              "      <td>...</td>\n",
              "      <td>...</td>\n",
              "      <td>...</td>\n",
              "      <td>...</td>\n",
              "      <td>...</td>\n",
              "      <td>...</td>\n",
              "      <td>...</td>\n",
              "      <td>...</td>\n",
              "      <td>...</td>\n",
              "      <td>...</td>\n",
              "      <td>...</td>\n",
              "      <td>...</td>\n",
              "      <td>...</td>\n",
              "      <td>...</td>\n",
              "      <td>...</td>\n",
              "      <td>...</td>\n",
              "      <td>...</td>\n",
              "      <td>...</td>\n",
              "    </tr>\n",
              "    <tr>\n",
              "      <th>591</th>\n",
              "      <td>592</td>\n",
              "      <td>Joe Zanussi\\zanusjo01</td>\n",
              "      <td>1977</td>\n",
              "      <td>1977</td>\n",
              "      <td>1</td>\n",
              "      <td>NHL</td>\n",
              "      <td>11</td>\n",
              "      <td>0</td>\n",
              "      <td>3</td>\n",
              "      <td>3</td>\n",
              "      <td>-6</td>\n",
              "      <td>4</td>\n",
              "      <td>0</td>\n",
              "      <td>0</td>\n",
              "      <td>0</td>\n",
              "      <td>0</td>\n",
              "      <td>1</td>\n",
              "      <td>2</td>\n",
              "      <td>0</td>\n",
              "      <td>11</td>\n",
              "      <td>0.0</td>\n",
              "      <td>NaN</td>\n",
              "      <td>NaN</td>\n",
              "    </tr>\n",
              "    <tr>\n",
              "      <th>592</th>\n",
              "      <td>593</td>\n",
              "      <td>Peter Zezel\\zezelpe01</td>\n",
              "      <td>1989</td>\n",
              "      <td>1997</td>\n",
              "      <td>4</td>\n",
              "      <td>NHL</td>\n",
              "      <td>217</td>\n",
              "      <td>54</td>\n",
              "      <td>105</td>\n",
              "      <td>159</td>\n",
              "      <td>-6</td>\n",
              "      <td>81</td>\n",
              "      <td>39</td>\n",
              "      <td>14</td>\n",
              "      <td>1</td>\n",
              "      <td>9</td>\n",
              "      <td>57</td>\n",
              "      <td>47</td>\n",
              "      <td>1</td>\n",
              "      <td>409</td>\n",
              "      <td>13.2</td>\n",
              "      <td>NaN</td>\n",
              "      <td>NaN</td>\n",
              "    </tr>\n",
              "    <tr>\n",
              "      <th>593</th>\n",
              "      <td>594</td>\n",
              "      <td>Mike Zigomanis\\zigommi01</td>\n",
              "      <td>2006</td>\n",
              "      <td>2006</td>\n",
              "      <td>1</td>\n",
              "      <td>NHL</td>\n",
              "      <td>2</td>\n",
              "      <td>0</td>\n",
              "      <td>0</td>\n",
              "      <td>0</td>\n",
              "      <td>0</td>\n",
              "      <td>0</td>\n",
              "      <td>0</td>\n",
              "      <td>0</td>\n",
              "      <td>0</td>\n",
              "      <td>0</td>\n",
              "      <td>0</td>\n",
              "      <td>0</td>\n",
              "      <td>0</td>\n",
              "      <td>1</td>\n",
              "      <td>0.0</td>\n",
              "      <td>15.0</td>\n",
              "      <td>7:39</td>\n",
              "    </tr>\n",
              "    <tr>\n",
              "      <th>594</th>\n",
              "      <td>595</td>\n",
              "      <td>Rick Zombo\\zombori01</td>\n",
              "      <td>1992</td>\n",
              "      <td>1995</td>\n",
              "      <td>4</td>\n",
              "      <td>NHL</td>\n",
              "      <td>232</td>\n",
              "      <td>6</td>\n",
              "      <td>42</td>\n",
              "      <td>48</td>\n",
              "      <td>-6</td>\n",
              "      <td>233</td>\n",
              "      <td>6</td>\n",
              "      <td>0</td>\n",
              "      <td>0</td>\n",
              "      <td>1</td>\n",
              "      <td>36</td>\n",
              "      <td>3</td>\n",
              "      <td>3</td>\n",
              "      <td>161</td>\n",
              "      <td>3.7</td>\n",
              "      <td>NaN</td>\n",
              "      <td>NaN</td>\n",
              "    </tr>\n",
              "    <tr>\n",
              "      <th>595</th>\n",
              "      <td>596</td>\n",
              "      <td>Mike Zuke\\zukemi01</td>\n",
              "      <td>1979</td>\n",
              "      <td>1983</td>\n",
              "      <td>5</td>\n",
              "      <td>NHL</td>\n",
              "      <td>296</td>\n",
              "      <td>76</td>\n",
              "      <td>159</td>\n",
              "      <td>235</td>\n",
              "      <td>-17</td>\n",
              "      <td>160</td>\n",
              "      <td>53</td>\n",
              "      <td>20</td>\n",
              "      <td>3</td>\n",
              "      <td>5</td>\n",
              "      <td>89</td>\n",
              "      <td>69</td>\n",
              "      <td>1</td>\n",
              "      <td>614</td>\n",
              "      <td>12.4</td>\n",
              "      <td>NaN</td>\n",
              "      <td>NaN</td>\n",
              "    </tr>\n",
              "  </tbody>\n",
              "</table>\n",
              "<p>596 rows × 23 columns</p>\n",
              "</div>"
            ],
            "text/plain": [
              "      Rk                     Player  From    To  ...    S    S%   TOI   ATOI\n",
              "0      1    Bruce Affleck\\afflebr01  1975  1979  ...  363   3.9   NaN    NaN\n",
              "1      2   Kenny Agostino\\agostke01  2017  2017  ...   17   5.9  89.0  12:47\n",
              "2      3  Glenn Anderson*\\andergl01  1995  1996  ...   89  15.7   NaN    NaN\n",
              "3      4   Perry Anderson\\anderpe01  1982  1985  ...  168  13.1   NaN    NaN\n",
              "4      5     Ron Anderson\\anderro01  1970  1970  ...  107   8.4   NaN    NaN\n",
              "..   ...                        ...   ...   ...  ...  ...   ...   ...    ...\n",
              "591  592      Joe Zanussi\\zanusjo01  1977  1977  ...   11   0.0   NaN    NaN\n",
              "592  593      Peter Zezel\\zezelpe01  1989  1997  ...  409  13.2   NaN    NaN\n",
              "593  594   Mike Zigomanis\\zigommi01  2006  2006  ...    1   0.0  15.0   7:39\n",
              "594  595       Rick Zombo\\zombori01  1992  1995  ...  161   3.7   NaN    NaN\n",
              "595  596         Mike Zuke\\zukemi01  1979  1983  ...  614  12.4   NaN    NaN\n",
              "\n",
              "[596 rows x 23 columns]"
            ]
          },
          "metadata": {
            "tags": []
          },
          "execution_count": 3
        }
      ]
    },
    {
      "cell_type": "code",
      "metadata": {
        "colab": {
          "base_uri": "https://localhost:8080/",
          "height": 282
        },
        "id": "u-kuM_NcU-w-",
        "outputId": "8086142e-22f2-43ce-f1cc-344844c5fa37"
      },
      "source": [
        "plt.scatter(data[\"G\"]+data[\"A\"],data[\"PTS\"])"
      ],
      "execution_count": 4,
      "outputs": [
        {
          "output_type": "execute_result",
          "data": {
            "text/plain": [
              "<matplotlib.collections.PathCollection at 0x7f139c90fba8>"
            ]
          },
          "metadata": {
            "tags": []
          },
          "execution_count": 4
        },
        {
          "output_type": "display_data",
          "data": {
            "image/png": "[encoded data removed]",
            "text/plain": [
              "<Figure size 432x288 with 1 Axes>"
            ]
          },
          "metadata": {
            "tags": [],
            "needs_background": "light"
          }
        }
      ]
    },
    {
      "cell_type": "code",
      "metadata": {
        "colab": {
          "base_uri": "https://localhost:8080/"
        },
        "id": "EDPEwi42VKd8",
        "outputId": "93284f3b-22f5-4432-cf34-7bb4428bcdfb"
      },
      "source": [
        "stats.pearsonr(data[\"G\"]+data[\"A\"],data[\"PTS\"])"
      ],
      "execution_count": 5,
      "outputs": [
        {
          "output_type": "execute_result",
          "data": {
            "text/plain": [
              "(1.0, 0.0)"
            ]
          },
          "metadata": {
            "tags": []
          },
          "execution_count": 5
        }
      ]
    },
    {
      "cell_type": "code",
      "metadata": {
        "colab": {
          "base_uri": "https://localhost:8080/",
          "height": 282
        },
        "id": "BxknvRfDVSMX",
        "outputId": "863ef9a6-6550-45d5-f1c0-ea9437a4bbf9"
      },
      "source": [
        "plt.scatter(data[\"G\"],data[\"PTS\"])"
      ],
      "execution_count": 6,
      "outputs": [
        {
          "output_type": "execute_result",
          "data": {
            "text/plain": [
              "<matplotlib.collections.PathCollection at 0x7f139c46d2b0>"
            ]
          },
          "metadata": {
            "tags": []
          },
          "execution_count": 6
        },
        {
          "output_type": "display_data",
          "data": {
            "image/png": "[encoded data removed]",
            "text/plain": [
              "<Figure size 432x288 with 1 Axes>"
            ]
          },
          "metadata": {
            "tags": [],
            "needs_background": "light"
          }
        }
      ]
    },
    {
      "cell_type": "code",
      "metadata": {
        "colab": {
          "base_uri": "https://localhost:8080/"
        },
        "id": "QyOcIqvJVr9T",
        "outputId": "465f8f32-2fa0-41a9-971d-11824393bed8"
      },
      "source": [
        "stats.pearsonr(data[\"G\"],data[\"PTS\"])"
      ],
      "execution_count": 7,
      "outputs": [
        {
          "output_type": "execute_result",
          "data": {
            "text/plain": [
              "(0.9589718106521393, 0.0)"
            ]
          },
          "metadata": {
            "tags": []
          },
          "execution_count": 7
        }
      ]
    },
    {
      "cell_type": "code",
      "metadata": {
        "id": "GtGa51MJVwBo"
      },
      "source": [
        ""
      ],
      "execution_count": null,
      "outputs": []
    },
    {
      "cell_type": "markdown",
      "metadata": {
        "id": "mupqTDgCV3lF"
      },
      "source": [
        "Utilizing Scipy Stats package and hand method the regression would take the form, $\\hat y = a_0+a_1 x$ \r\n",
        "\r\n",
        "$$\r\n",
        "a_1=\\frac{\\sum x_i y_i -n \\bar x \\bar y}{\\sum x_i^2 - n\\bar x ^2}\r\n",
        "$$\r\n",
        "and\r\n",
        "$$\r\n",
        "a_0 = \\bar y - a_1 \\bar x\r\n",
        "$$"
      ]
    },
    {
      "cell_type": "code",
      "metadata": {
        "id": "uv6ikJnqV4l_"
      },
      "source": [
        "def sum(list):\r\n",
        "  total = 0\r\n",
        "  for i in list:\r\n",
        "    total = total + i\r\n",
        "  return total\r\n",
        "\r\n",
        "def squareAndSum(list1,list2):\r\n",
        "  total = 0\r\n",
        "  for i in range(len(list1)):\r\n",
        "    total = total + list1[i]*list2[i]\r\n",
        "  return total\r\n",
        "\r\n"
      ],
      "execution_count": 8,
      "outputs": []
    },
    {
      "cell_type": "code",
      "metadata": {
        "id": "18LIo5FpWVZW"
      },
      "source": [
        "n = len(data['G'])\r\n",
        "xbar = sum(data['G'])/n\r\n",
        "ybar = sum(data['PTS'])/n\r\n",
        "xy = squareAndSum(data['G'],data['PTS'])\r\n",
        "xx = squareAndSum(data['G'],data['G'])\r\n",
        "\r\n",
        "a1 = (xy-n*xbar*ybar)/(xx-n*xbar**2)\r\n",
        "a0 = ybar - a1*xbar"
      ],
      "execution_count": 9,
      "outputs": []
    },
    {
      "cell_type": "code",
      "metadata": {
        "id": "M3h2M5YAWYgA"
      },
      "source": [
        "def fomulaRegression(variable,slope, intercept):\r\n",
        "  return variable*slope+intercept"
      ],
      "execution_count": 10,
      "outputs": []
    },
    {
      "cell_type": "code",
      "metadata": {
        "colab": {
          "base_uri": "https://localhost:8080/"
        },
        "id": "FKeg0MFPWcJW",
        "outputId": "e5833035-bcff-4d96-e731-62a0d9f34c38"
      },
      "source": [
        "print(a1)\r\n",
        "a0"
      ],
      "execution_count": 14,
      "outputs": [
        {
          "output_type": "stream",
          "text": [
            "2.237289457257875\n"
          ],
          "name": "stdout"
        },
        {
          "output_type": "execute_result",
          "data": {
            "text/plain": [
              "8.914999455919691"
            ]
          },
          "metadata": {
            "tags": []
          },
          "execution_count": 14
        }
      ]
    },
    {
      "cell_type": "code",
      "metadata": {
        "colab": {
          "base_uri": "https://localhost:8080/"
        },
        "id": "iQ3emWZLWkSa",
        "outputId": "8f35c5c6-40ba-4787-fb8e-53472136d3d3"
      },
      "source": [
        "stats.linregress(data[\"G\"],data[\"PTS\"])"
      ],
      "execution_count": 15,
      "outputs": [
        {
          "output_type": "execute_result",
          "data": {
            "text/plain": [
              "LinregressResult(slope=2.2372894572578783, intercept=8.914999455919627, rvalue=0.9589718106521405, pvalue=0.0, stderr=0.027138033947613067)"
            ]
          },
          "metadata": {
            "tags": []
          },
          "execution_count": 15
        }
      ]
    },
    {
      "cell_type": "code",
      "metadata": {
        "id": "bm5ZsvR7W5gD"
      },
      "source": [
        "m = stats.linregress(data[\"G\"],data[\"PTS\"])[0]\r\n",
        "b = stats.linregress(data[\"G\"],data[\"PTS\"])[1]\r\n",
        "def y(x):\r\n",
        "    return(m*x+b)"
      ],
      "execution_count": 16,
      "outputs": []
    },
    {
      "cell_type": "code",
      "metadata": {
        "colab": {
          "base_uri": "https://localhost:8080/"
        },
        "id": "kcFKC8yyW-N9",
        "outputId": "6638107d-8ff8-4da6-cac4-5f5990ecc35d"
      },
      "source": [
        "y(3)"
      ],
      "execution_count": 17,
      "outputs": [
        {
          "output_type": "execute_result",
          "data": {
            "text/plain": [
              "15.626867827693262"
            ]
          },
          "metadata": {
            "tags": []
          },
          "execution_count": 17
        }
      ]
    },
    {
      "cell_type": "code",
      "metadata": {
        "colab": {
          "base_uri": "https://localhost:8080/",
          "height": 282
        },
        "id": "IRzI3r-0XCUe",
        "outputId": "52d09877-e2e9-42d8-aaca-76cd709c4e89"
      },
      "source": [
        "x = np.arange( 0,500,1)\r\n",
        "plt.scatter(data[\"G\"],data[\"PTS\"])\r\n",
        "plt.plot(x,y(x))"
      ],
      "execution_count": 18,
      "outputs": [
        {
          "output_type": "execute_result",
          "data": {
            "text/plain": [
              "[<matplotlib.lines.Line2D at 0x7f139c424908>]"
            ]
          },
          "metadata": {
            "tags": []
          },
          "execution_count": 18
        },
        {
          "output_type": "display_data",
          "data": {
            "image/png": "[encoded data removed]",
            "text/plain": [
              "<Figure size 432x288 with 1 Axes>"
            ]
          },
          "metadata": {
            "tags": [],
            "needs_background": "light"
          }
        }
      ]
    },
    {
      "cell_type": "code",
      "metadata": {
        "id": "03vbcD7HXFpp"
      },
      "source": [
        "#sum of the residuals\r\n",
        "s = 0\r\n",
        "for i in range (0,len(data[\"G\"])):\r\n",
        "    s = s+y(data[\"G\"][i])-data[\"PTS\"][i]"
      ],
      "execution_count": 19,
      "outputs": []
    },
    {
      "cell_type": "code",
      "metadata": {
        "colab": {
          "base_uri": "https://localhost:8080/"
        },
        "id": "i5128xd6XOIT",
        "outputId": "fc83e135-d618-4131-9c88-522f316e3de6"
      },
      "source": [
        "s"
      ],
      "execution_count": 20,
      "outputs": [
        {
          "output_type": "execute_result",
          "data": {
            "text/plain": [
              "1.6200374375330284e-12"
            ]
          },
          "metadata": {
            "tags": []
          },
          "execution_count": 20
        }
      ]
    },
    {
      "cell_type": "code",
      "metadata": {
        "id": "AEOljppZXQ-8"
      },
      "source": [
        "ss = 0\r\n",
        "for i in range (0,len(data[\"G\"])):\r\n",
        "    ss = ss+(y(data[\"G\"][i])-data[\"PTS\"][i])**2"
      ],
      "execution_count": 23,
      "outputs": []
    },
    {
      "cell_type": "code",
      "metadata": {
        "colab": {
          "base_uri": "https://localhost:8080/"
        },
        "id": "u615W16qXU7G",
        "outputId": "85881223-d3f8-4f09-d9e1-3dcae26ac339"
      },
      "source": [
        "ss"
      ],
      "execution_count": 24,
      "outputs": [
        {
          "output_type": "execute_result",
          "data": {
            "text/plain": [
              "516693.1634258639"
            ]
          },
          "metadata": {
            "tags": []
          },
          "execution_count": 24
        }
      ]
    },
    {
      "cell_type": "markdown",
      "metadata": {
        "id": "mll9wQUCYvyb"
      },
      "source": [
        "Arranging these datasets in system of linear equation/matrix form and solving with any methods for instance Gaussian Elimination method.\r\n",
        "$$\r\n",
        "\\left[\r\n",
        "\\begin{array}{ccc|c}\r\n",
        "n& \\sum x_i&\\sum x_i^2&\\sum y_i\\\\\r\n",
        "\\sum x_i&\\sum x_i^2&\\sum x_i^3&\\sum x_i y_i\\\\\r\n",
        "\\sum x_i^2 &\\sum x_i^3&\\sum x_i^4&\\sum x_i^2 y_i\r\n",
        "\\end{array}\r\n",
        "\\right]\r\n",
        "$$\r\n",
        " The equation will take the following form.\r\n",
        "$$\r\n",
        "\\hat y = a_0+a_1 x+a_2 x^2\r\n",
        "$$\r\n",
        "\r\n"
      ]
    },
    {
      "cell_type": "code",
      "metadata": {
        "colab": {
          "base_uri": "https://localhost:8080/",
          "height": 282
        },
        "id": "ruF2EYhhXbNO",
        "outputId": "d214560e-c7f6-4f42-9adc-d3dea6ca3769"
      },
      "source": [
        "plt.scatter(data[\"Yrs\"],data[\"GP\"])"
      ],
      "execution_count": 25,
      "outputs": [
        {
          "output_type": "execute_result",
          "data": {
            "text/plain": [
              "<matplotlib.collections.PathCollection at 0x7f139c412940>"
            ]
          },
          "metadata": {
            "tags": []
          },
          "execution_count": 25
        },
        {
          "output_type": "display_data",
          "data": {
            "image/png": "[encoded data removed]",
            "text/plain": [
              "<Figure size 432x288 with 1 Axes>"
            ]
          },
          "metadata": {
            "tags": [],
            "needs_background": "light"
          }
        }
      ]
    },
    {
      "cell_type": "code",
      "metadata": {
        "id": "PkuwF0k3ZhmZ"
      },
      "source": [
        "x = sum(data['Yrs'])\r\n",
        "xx = squareAndSum(data['Yrs'],data['Yrs'])\r\n",
        "xxx = squareAndSum(data['Yrs']**2,data['Yrs'])\r\n",
        "xxxx = squareAndSum(data['Yrs']**3,data['Yrs'])\r\n",
        "\r\n",
        "matrix = [[n,x,xx,sum(data['GP'])]\r\n",
        "          ,[x,xx,xxx,squareAndSum(data['Yrs'],data['GP'])]\r\n",
        "          ,[xx,xxx,xxxx,squareAndSum(data['Yrs']**2,data['GP'])]\r\n",
        "          ]\r\n",
        "\r\n"
      ],
      "execution_count": 26,
      "outputs": []
    },
    {
      "cell_type": "code",
      "metadata": {
        "id": "DS0AvU-1Zk08"
      },
      "source": [
        "import math\r\n",
        "import numpy as np\r\n",
        "import scipy.linalg as la\r\n",
        "\r\n",
        "def addRows(matrix,targetRow, modifierRow, value):\r\n",
        "  newRow = matrix[targetRow,:]+value*matrix[modifierRow,:]\r\n",
        "  newMatrix = []\r\n",
        "  for i in range(len(matrix)):\r\n",
        "    if i != targetRow:\r\n",
        "      newMatrix.append(matrix[i,:])\r\n",
        "    else:\r\n",
        "      newMatrix.append(newRow)\r\n",
        "  return np.array(newMatrix)\r\n",
        "\r\n",
        "\r\n",
        "def changeToLeadingOne(matrix,row,column):\r\n",
        "  newMatrix =[]\r\n",
        "  for i in range(len(matrix)):\r\n",
        "    if i != row:\r\n",
        "      newMatrix.append(matrix[i,:])\r\n",
        "    else:\r\n",
        "      newMatrix.append(1/matrix[row,column]*matrix[row,:])\r\n",
        "  return np.array(newMatrix)\r\n",
        "\r\n",
        "\r\n",
        "def gaussJordan(matrix):\r\n",
        "  newMatrix = matrix\r\n",
        "  for pivot in range(len(matrix)):\r\n",
        "    newMatrix = changeToLeadingOne(newMatrix,pivot,pivot)\r\n",
        "    for column in range(0,pivot):\r\n",
        "      newMatrix = addRows(newMatrix,column,pivot,-newMatrix[column,pivot])\r\n",
        "    for column in range(pivot+1,len(matrix)):\r\n",
        "      newMatrix = addRows(newMatrix,column,pivot,-newMatrix[column,pivot])\r\n",
        "  return newMatrix"
      ],
      "execution_count": 27,
      "outputs": []
    },
    {
      "cell_type": "code",
      "metadata": {
        "colab": {
          "base_uri": "https://localhost:8080/"
        },
        "id": "GKhUZBqjZpXl",
        "outputId": "c9b96131-e46b-4443-99cc-8ab447e69edf"
      },
      "source": [
        "gaussJordan(np.array(matrix))"
      ],
      "execution_count": 28,
      "outputs": [
        {
          "output_type": "execute_result",
          "data": {
            "text/plain": [
              "array([[ 1.00000000e+00,  0.00000000e+00, -1.77635684e-15,\n",
              "        -2.97111806e+01],\n",
              "       [ 0.00000000e+00,  1.00000000e+00,  1.77635684e-15,\n",
              "         4.74568941e+01],\n",
              "       [ 0.00000000e+00,  0.00000000e+00,  1.00000000e+00,\n",
              "         1.86656181e+00]])"
            ]
          },
          "metadata": {
            "tags": []
          },
          "execution_count": 28
        }
      ]
    },
    {
      "cell_type": "code",
      "metadata": {
        "id": "qXGguYWTZsYe"
      },
      "source": [
        "def rowCreator(input,order):\r\n",
        "  row = []\r\n",
        "  for i in range(order+1):\r\n",
        "    row.append(input**i)\r\n",
        "  return row\r\n",
        "\r\n",
        "def matrixCreator(list, order):\r\n",
        "  matrix = []\r\n",
        "  for i in list:\r\n",
        "    matrix.append(rowCreator(i,order))\r\n",
        "  return matrix"
      ],
      "execution_count": 30,
      "outputs": []
    },
    {
      "cell_type": "code",
      "metadata": {
        "id": "SJmCkd0RfoEL"
      },
      "source": [
        "A = np.array(matrixCreator(data['Yrs'],2))\r\n",
        "y = np.array(data['GP'])"
      ],
      "execution_count": 31,
      "outputs": []
    },
    {
      "cell_type": "code",
      "metadata": {
        "colab": {
          "base_uri": "https://localhost:8080/"
        },
        "id": "mD4ll8_df1pr",
        "outputId": "1ccdabbf-7a54-4280-d1b6-63d98f65331a"
      },
      "source": [
        "np.linalg.inv(np.transpose(A)@ A)@ np.transpose(A)@ y"
      ],
      "execution_count": 32,
      "outputs": [
        {
          "output_type": "execute_result",
          "data": {
            "text/plain": [
              "array([-29.71118061,  47.45689406,   1.86656181])"
            ]
          },
          "metadata": {
            "tags": []
          },
          "execution_count": 32
        }
      ]
    },
    {
      "cell_type": "code",
      "metadata": {
        "id": "1MAMxdPsf5Ks"
      },
      "source": [
        "results = np.linalg.inv(np.transpose(A)@ A)@ np.transpose(A)@ y\r\n",
        "\r\n",
        "def quadRegression(x):\r\n",
        "  return results[0]+x*results[1]+results[2]*x**2"
      ],
      "execution_count": 33,
      "outputs": []
    },
    {
      "cell_type": "code",
      "metadata": {
        "colab": {
          "base_uri": "https://localhost:8080/",
          "height": 282
        },
        "id": "ZdclX5UFf8N0",
        "outputId": "a86881aa-32ff-4e9c-f33e-827db94563c9"
      },
      "source": [
        "x = np.arange( 0,15,1)\r\n",
        "plt.scatter(data[\"Yrs\"],data[\"GP\"])\r\n",
        "plt.plot(x,quadRegression(x))"
      ],
      "execution_count": 34,
      "outputs": [
        {
          "output_type": "execute_result",
          "data": {
            "text/plain": [
              "[<matplotlib.lines.Line2D at 0x7f139c32a438>]"
            ]
          },
          "metadata": {
            "tags": []
          },
          "execution_count": 34
        },
        {
          "output_type": "display_data",
          "data": {
            "image/png": "[encoded data removed]",
            "text/plain": [
              "<Figure size 432x288 with 1 Axes>"
            ]
          },
          "metadata": {
            "tags": [],
            "needs_background": "light"
          }
        }
      ]
    },
    {
      "cell_type": "code",
      "metadata": {
        "id": "rb9zSwpmf_cr"
      },
      "source": [
        ""
      ],
      "execution_count": null,
      "outputs": []
    }
  ]
}