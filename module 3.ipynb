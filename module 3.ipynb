{
  "nbformat": 4,
  "nbformat_minor": 0,
  "metadata": {
    "colab": {
      "name": "Untitled1.ipynb",
      "provenance": [],
      "include_colab_link": true
    },
    "kernelspec": {
      "name": "python3",
      "display_name": "Python 3"
    }
  },
  "cells": [
    {
      "cell_type": "markdown",
      "metadata": {
        "id": "view-in-github",
        "colab_type": "text"
      },
      "source": [
        "<a href=\"https://colab.research.google.com/github/rajatlamsal00977/Project-1/blob/main/module%203.ipynb\" target=\"_parent\"><img src=\"https://colab.research.google.com/assets/colab-badge.svg\" alt=\"Open In Colab\"/></a>"
      ]
    },
    {
      "cell_type": "code",
      "metadata": {
        "id": "Fef3_ji-uD-0"
      },
      "source": [
        "import math\r\n",
        "pi = math.pi                                                                      #includes pi \r\n",
        "def absErr(estimate, actualValue):                                                #defines absolute error\r\n",
        "  return actualValue - estimate\r\n",
        "\r\n",
        "def relErr(estimate, actualValue):                                                #defines relative error\r\n",
        "  return absErr(estimate, actualValue)/actualValue\r\n",
        "\r\n",
        "def generalTaylorCoefficient(degree):\r\n",
        "  return (-1)**(math.floor(degree +1))/(math.factorial((2*degree) + 1))\r\n",
        "\r\n",
        "def taylorPolynomialTerm(degree, input):\r\n",
        "  return generalTaylorCoefficient(degree)*(input-pi/2)**((2*degree) + 1)\r\n",
        "\r\n",
        "def taylorPolynomial(degree, input):\r\n",
        "  sum = 0\r\n",
        "  for i in range(0, degree+1):\r\n",
        "    sum = sum +  taylorPolynomialTerm(i, input)\r\n",
        "  return sum\r\n",
        "\r\n"
      ],
      "execution_count": null,
      "outputs": []
    },
    {
      "cell_type": "code",
      "metadata": {
        "id": "XX6HtEz_vpwq"
      },
      "source": [
        "def lagrangeCoefficient(inputArr,outputArr,enteredValue,variable):                 #defines lagrange coefficient\r\n",
        "  lc = 1\r\n",
        "  for i in range(len(inputArr)):\r\n",
        "    if i == enteredValue:\r\n",
        "      continue\r\n",
        "    else:\r\n",
        "      lc = lc*(variable - inputArr[i])/(inputArr[enteredValue]-inputArr[i])        #computes lagrange coefficient\r\n",
        "  return lc\r\n",
        "\r\n",
        "def lagrangeInterpolator(inputArr, outputArr, variable):                           #defines lagrange Interpolator\r\n",
        "  li = 0\r\n",
        "  for i in range(len(inputArr)):                     \r\n",
        "    li = li + lagrangeCoefficient(inputArr,outputArr,i,variable)*outputArr[i]      #builds lagrange Interpolator\r\n",
        "  return li"
      ],
      "execution_count": null,
      "outputs": []
    },
    {
      "cell_type": "code",
      "metadata": {
        "id": "8xUOsI3OvhF9"
      },
      "source": [
        "inputPoints = [pi/2,pi/2+.1,pi*(1)]\r\n",
        "outputPoints = [math.cos(x) for x in inputPoints]"
      ],
      "execution_count": null,
      "outputs": []
    },
    {
      "cell_type": "markdown",
      "metadata": {
        "id": "I9UoxaDgv2JS"
      },
      "source": [
        "We are now going to use Newton Raphson Method to find the root of our function. The parameters we will need at this moment are initial vaue of x, the function we have taken and its derivative. We can represent the Newton Raphson Method by the following equation.\r\n",
        "\r\n",
        "$$\r\n",
        "x_{i+1}= x_i-\\frac{f(x_i)}{f'(x_i)}\r\n",
        "$$\r\n"
      ]
    },
    {
      "cell_type": "code",
      "metadata": {
        "id": "W7z7TMLvwNNV"
      },
      "source": [
        "def newtonIterator(function, derivative, currentValue):\r\n",
        "  return currentValue - function(currentValue)/derivative(currentValue)\r\n",
        "\r\n",
        "def newton(function, derivative, initial, tolerrance, maxIterations):\r\n",
        "  x = initial\r\n",
        "  for counter in range(maxIterations):\r\n",
        "    if derivative(x) == 0:\r\n",
        "    #  print('Zero derivative, no solution')\r\n",
        "      return None\r\n",
        "    if abs(function(x))< tolerrance:\r\n",
        "      return [x,counter]\r\n",
        "    x = newtonIterator(function, derivative, x)\r\n",
        " # print('Max iterations exceeded')\r\n",
        "  return None"
      ],
      "execution_count": null,
      "outputs": []
    },
    {
      "cell_type": "code",
      "metadata": {
        "id": "nvzok9ogyAP0"
      },
      "source": [
        "newton(math.sin,math.cos,pi/2,.00001,20)"
      ],
      "execution_count": null,
      "outputs": []
    },
    {
      "cell_type": "code",
      "metadata": {
        "colab": {
          "base_uri": "https://localhost:8080/",
          "height": 166
        },
        "id": "BRLT9X_OyAeF",
        "outputId": "e659a0d7-6a3f-4035-bd64-0302ea266049"
      },
      "source": [
        "newton(math.sin,math.cos,pi,.00001,20)"
      ],
      "execution_count": null,
      "outputs": [
        {
          "output_type": "error",
          "ename": "NameError",
          "evalue": "ignored",
          "traceback": [
            "\u001b[0;31m---------------------------------------------------------------------------\u001b[0m",
            "\u001b[0;31mNameError\u001b[0m                                 Traceback (most recent call last)",
            "\u001b[0;32m<ipython-input-3-c778e52553e8>\u001b[0m in \u001b[0;36m<module>\u001b[0;34m()\u001b[0m\n\u001b[0;32m----> 1\u001b[0;31m \u001b[0mnewton\u001b[0m\u001b[0;34m(\u001b[0m\u001b[0mmath\u001b[0m\u001b[0;34m.\u001b[0m\u001b[0msin\u001b[0m\u001b[0;34m,\u001b[0m\u001b[0mmath\u001b[0m\u001b[0;34m.\u001b[0m\u001b[0mcos\u001b[0m\u001b[0;34m,\u001b[0m\u001b[0mpi\u001b[0m\u001b[0;34m,\u001b[0m\u001b[0;36m.00001\u001b[0m\u001b[0;34m,\u001b[0m\u001b[0;36m20\u001b[0m\u001b[0;34m)\u001b[0m\u001b[0;34m\u001b[0m\u001b[0;34m\u001b[0m\u001b[0m\n\u001b[0m",
            "\u001b[0;31mNameError\u001b[0m: name 'math' is not defined"
          ]
        }
      ]
    },
    {
      "cell_type": "code",
      "metadata": {
        "id": "5KQCpkFwyeVW"
      },
      "source": [
        "seedValues = [pi/2,pi,pi/2+.1,1,3,10,15,3*pi+.01,pi+.01]\r\n",
        "roots = []\r\n",
        "iterations = []\r\n",
        "for seed in seedValues:\r\n",
        "  if newton(math.sin,math.cos,seed,1e-10,20) != None:\r\n",
        "    roots.append(newton(math.sin,math.cos,seed,1e-10,20)[0])\r\n",
        "    iterations.append(newton(math.sin,math.cos,seed,1e-10,20)[1])\r\n",
        "  else:\r\n",
        "    roots.append('None Found')\r\n",
        "    iterations.append('>20')"
      ],
      "execution_count": null,
      "outputs": []
    },
    {
      "cell_type": "code",
      "metadata": {
        "id": "7KXhz19Tyh-H"
      },
      "source": [
        "import plotly.graph_objects as go\r\n",
        "from plotly.subplots import make_subplots\r\n",
        "\r\n",
        "fig = go.Figure(data=[go.Table(\r\n",
        "                header=dict(values=['Seeds', 'Roots', 'Iterations']),\r\n",
        "                 cells=dict(values = [seedValues,roots,iterations]))\r\n",
        "                     ])\r\n",
        "fig.show()"
      ],
      "execution_count": null,
      "outputs": []
    },
    {
      "cell_type": "code",
      "metadata": {
        "id": "XVzJxZ76ynLI"
      },
      "source": [
        "roots[-2]/pi\r\n"
      ],
      "execution_count": null,
      "outputs": []
    },
    {
      "cell_type": "markdown",
      "metadata": {
        "id": "zk3LxU15yt5H"
      },
      "source": [
        "Secant Method\r\n",
        "We'll create the new value as\r\n",
        "\r\n",
        "$$\r\n",
        "x_{n+1}=x_i-\\frac{f(x_i)\\left(x_i-x_{i-1}\\right)}{f(x_i)-f(x_{i-1})}\r\n",
        "$$\r\n",
        "Rather than just return a pair of values as before, "
      ]
    },
    {
      "cell_type": "code",
      "metadata": {
        "id": "OgzRC_rM2sKR"
      },
      "source": [
        " def secant(function, olderValue, oldValue):\r\n",
        "  x = oldValue - function(oldValue)*(oldValue - olderValue)/(function(oldValue)-function(olderValue))\r\n",
        "  return x\r\n",
        "\r\n",
        "def secantMethod(function, firstValue, secondValue, iterations):\r\n",
        "  x = [firstValue, secondValue]\r\n",
        "  for i in range(iterations):\r\n",
        "    x.append(secant(function,x[-2],x[-1]))\r\n",
        "  return x"
      ],
      "execution_count": null,
      "outputs": []
    },
    {
      "cell_type": "code",
      "metadata": {
        "id": "fpP7Ukn12zaq"
      },
      "source": [
        "secantMethod(math.cos,pi/2,pi,5)"
      ],
      "execution_count": null,
      "outputs": []
    },
    {
      "cell_type": "code",
      "metadata": {
        "id": "YvKjaXi74uc_"
      },
      "source": [
        "secantMethod(math.cos,pi/2,pi,8)#One more iteration will break the secant function"
      ],
      "execution_count": null,
      "outputs": []
    },
    {
      "cell_type": "code",
      "metadata": {
        "id": "jjfB1kDU5wxa"
      },
      "source": [
        "import matplotlib.pyplot as plt\r\n",
        "import numpy as np\r\n",
        "\r\n",
        "x = np.arange( -5,3,.001)\r\n",
        "plt.scatter(inputValues,outputValues)\r\n",
        "plt.plot(x,lagrangeInterpolator(inputValues,outputValues,x))\r\n",
        "#plt.plot(x, np.sin(x))\r\n",
        "plt.title('Graph of Lagrange Interpolator')\r\n",
        "plt.legend(['Lagrange Interpolator'])\r\n",
        "\r\n",
        "plt.show("
      ],
      "execution_count": null,
      "outputs": []
    },
    {
      "cell_type": "code",
      "metadata": {
        "id": "RJrJfLVt53yq"
      },
      "source": [
        ""
      ],
      "execution_count": null,
      "outputs": []
    }
  ]
}