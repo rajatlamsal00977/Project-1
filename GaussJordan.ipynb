{
  "nbformat": 4,
  "nbformat_minor": 0,
  "metadata": {
    "colab": {
      "name": "Untitled11.ipynb",
      "provenance": [],
      "include_colab_link": true
    },
    "kernelspec": {
      "name": "python3",
      "display_name": "Python 3"
    }
  },
  "cells": [
    {
      "cell_type": "markdown",
      "metadata": {
        "id": "view-in-github",
        "colab_type": "text"
      },
      "source": [
        "<a href=\"https://colab.research.google.com/github/rajatlamsal00977/Project-1/blob/main/GaussJordan.ipynb\" target=\"_parent\"><img src=\"https://colab.research.google.com/assets/colab-badge.svg\" alt=\"Open In Colab\"/></a>"
      ]
    },
    {
      "cell_type": "code",
      "metadata": {
        "id": "TLqVtFs8DT2e"
      },
      "source": [
        "import math\r\n",
        "import numpy as np\r\n"
      ],
      "execution_count": null,
      "outputs": []
    },
    {
      "cell_type": "markdown",
      "metadata": {
        "id": "QF0yeFVqN8zo"
      },
      "source": [
        "Gauss Jordan elimination is the algorithm to solve the system of linear equation which utilizes the 3 methods which are as:\r\n",
        "\r\n",
        "* Swap the position of two rows.\r\n",
        "* Multiply row by a non zero scalar\r\n",
        "* Subtract or Add scalar multiple of one matrix to another.\r\n",
        "\r\n",
        "\r\n",
        "\r\n",
        "\r\n",
        "\r\n",
        "Any given linear or other form of equation can be arranged into matrices as demonstrated below.\r\n",
        "\r\n",
        "$$\r\n",
        "\\left\\{\r\n",
        "\\begin{align}\r\n",
        "a_{1,1} x_1 +&\\dots a_{1,n} x_n = y_1\\\\\r\n",
        "&\\vdots\\\\\r\n",
        "a_{n,1}x_1+&\\dots a_{n,n} x_n = y_n\r\n",
        "\\end{align}\r\n",
        "\\right.\r\n",
        "$$\r\n",
        "\r\n",
        "\r\n",
        "$$\r\n",
        "\\left[\r\n",
        "\\begin{array}{ccc|c}\r\n",
        "a_{1,1} & \\dots & a_{1,n} & y_1\\\\\r\n",
        "\\vdots&\\ddots&\\vdots&\\vdots\\\\\r\n",
        "a_{n,1} &\\dots& a_{n,n}&y_n\r\n",
        "\\end{array}\r\n",
        "\\right]\r\n",
        "$$"
      ]
    },
    {
      "cell_type": "markdown",
      "metadata": {
        "id": "s05MapksRZJg"
      },
      "source": [
        "Lets define a matrix array"
      ]
    },
    {
      "cell_type": "code",
      "metadata": {
        "id": "HjLFf_GGN1Vn"
      },
      "source": [
        "A = np.array([[5,4,3],[8,7,6]])"
      ],
      "execution_count": null,
      "outputs": []
    },
    {
      "cell_type": "code",
      "metadata": {
        "colab": {
          "base_uri": "https://localhost:8080/"
        },
        "id": "uK8FCiU1RxwW",
        "outputId": "1699a423-0e31-4387-c806-ee4da248818e"
      },
      "source": [
        "A"
      ],
      "execution_count": null,
      "outputs": [
        {
          "output_type": "execute_result",
          "data": {
            "text/plain": [
              "array([[5, 4, 3],\n",
              "       [8, 7, 6]])"
            ]
          },
          "metadata": {
            "tags": []
          },
          "execution_count": 20
        }
      ]
    },
    {
      "cell_type": "markdown",
      "metadata": {
        "id": "BgmGY3DMXhp6"
      },
      "source": [
        ""
      ]
    },
    {
      "cell_type": "code",
      "metadata": {
        "id": "00JGBFNpR7th"
      },
      "source": [
        "def addRows(matrix,targetRow, modifierRow, value):\r\n",
        "  newRow = matrix[targetRow,:]+value*matrix[modifierRow,:]\r\n",
        "  newMatrix = []\r\n",
        "  for i in range(len(matrix)):\r\n",
        "    if i != targetRow:\r\n",
        "      newMatrix.append(matrix[i,:])\r\n",
        "    else:\r\n",
        "      newMatrix.append(newRow)\r\n",
        "  return np.array(newMatrix)\r\n",
        "\r\n"
      ],
      "execution_count": null,
      "outputs": []
    },
    {
      "cell_type": "code",
      "metadata": {
        "colab": {
          "base_uri": "https://localhost:8080/"
        },
        "id": "cqCIdzOFV257",
        "outputId": "7f29784e-d934-482b-d113-cada5d702d83"
      },
      "source": [
        "addRows(A,0,1,10)"
      ],
      "execution_count": null,
      "outputs": [
        {
          "output_type": "execute_result",
          "data": {
            "text/plain": [
              "array([[85, 74, 63],\n",
              "       [ 8,  7,  6]])"
            ]
          },
          "metadata": {
            "tags": []
          },
          "execution_count": 22
        }
      ]
    },
    {
      "cell_type": "markdown",
      "metadata": {
        "id": "W0PC8pt6XY5z"
      },
      "source": [
        "We are now going to write a code that will swap the Rows using dictionary."
      ]
    },
    {
      "cell_type": "code",
      "metadata": {
        "id": "SAgEFyWjV57-"
      },
      "source": [
        "def swapRows(matrix, row1, row2):\r\n",
        "    dic = {row1:row2,row2:row1} \r\n",
        "    list = [dic.get(x,x) for x in range(len(matrix))] \r\n",
        "    return matrix[list]"
      ],
      "execution_count": null,
      "outputs": []
    },
    {
      "cell_type": "code",
      "metadata": {
        "colab": {
          "base_uri": "https://localhost:8080/"
        },
        "id": "BiIZzcrbXM4p",
        "outputId": "394febdb-b2f6-47b4-8775-f319073d4e65"
      },
      "source": [
        "swapRows(A,0,1)"
      ],
      "execution_count": null,
      "outputs": [
        {
          "output_type": "execute_result",
          "data": {
            "text/plain": [
              "array([[8, 7, 6],\n",
              "       [5, 4, 3]])"
            ]
          },
          "metadata": {
            "tags": []
          },
          "execution_count": 24
        }
      ]
    },
    {
      "cell_type": "code",
      "metadata": {
        "id": "VotZh_lfXTrC"
      },
      "source": [
        "def changeToLeadingOne(matrix,row,column):\r\n",
        "  newMatrix =[]\r\n",
        "  for i in range(len(matrix)):\r\n",
        "    if i != row:\r\n",
        "      newMatrix.append(matrix[i,:])\r\n",
        "    else:\r\n",
        "      newMatrix.append(1/matrix[row,column]*matrix[row,:])\r\n",
        "  return np.array(newMatrix)\r\n"
      ],
      "execution_count": null,
      "outputs": []
    },
    {
      "cell_type": "code",
      "metadata": {
        "colab": {
          "base_uri": "https://localhost:8080/"
        },
        "id": "Rf6ajZPuZ75O",
        "outputId": "1c0fcd0c-2957-4f4a-b5b2-ca56aaf81327"
      },
      "source": [
        "changeToLeadingOne(A,1,0)"
      ],
      "execution_count": null,
      "outputs": [
        {
          "output_type": "execute_result",
          "data": {
            "text/plain": [
              "array([[5.   , 4.   , 3.   ],\n",
              "       [1.   , 0.875, 0.75 ]])"
            ]
          },
          "metadata": {
            "tags": []
          },
          "execution_count": 26
        }
      ]
    },
    {
      "cell_type": "code",
      "metadata": {
        "id": "r7RTsWbWaM1E"
      },
      "source": [
        "def gaussJordan(matrix):\r\n",
        "  newMatrix = matrix\r\n",
        "  for pivot in range(len(matrix)):\r\n",
        "    newMatrix = changeToLeadingOne(newMatrix,pivot,pivot)\r\n",
        "    for column in range(0,pivot):\r\n",
        "      newMatrix = addRows(newMatrix,column,pivot,-newMatrix[column,pivot])\r\n",
        "    for column in range(pivot+1,len(matrix)):\r\n",
        "      newMatrix = addRows(newMatrix,column,pivot,-newMatrix[column,pivot])\r\n",
        "  return newMatrix\r\n"
      ],
      "execution_count": null,
      "outputs": []
    },
    {
      "cell_type": "code",
      "metadata": {
        "colab": {
          "base_uri": "https://localhost:8080/"
        },
        "id": "oxhmsAdQl64r",
        "outputId": "22ce96b2-0072-47aa-84f2-8226ad5c2dcf"
      },
      "source": [
        "gaussJordan(A)"
      ],
      "execution_count": null,
      "outputs": [
        {
          "output_type": "execute_result",
          "data": {
            "text/plain": [
              "array([[ 1.,  0., -1.],\n",
              "       [ 0.,  1.,  2.]])"
            ]
          },
          "metadata": {
            "tags": []
          },
          "execution_count": 28
        }
      ]
    },
    {
      "cell_type": "markdown",
      "metadata": {
        "id": "FrySWtk7p9Ne"
      },
      "source": [
        "Lets try another Matrix If it will work for that."
      ]
    },
    {
      "cell_type": "code",
      "metadata": {
        "colab": {
          "base_uri": "https://localhost:8080/"
        },
        "id": "R9FSFOZMmhsu",
        "outputId": "42be0afe-7ba0-4dd3-e31a-63031829bd95"
      },
      "source": [
        "B = np.array([[2,4,6,8],[3,5,8,5],[9,7,6,5]])\r\n",
        "B"
      ],
      "execution_count": null,
      "outputs": [
        {
          "output_type": "execute_result",
          "data": {
            "text/plain": [
              "array([[2, 4, 6, 8],\n",
              "       [3, 5, 8, 5],\n",
              "       [9, 7, 6, 5]])"
            ]
          },
          "metadata": {
            "tags": []
          },
          "execution_count": 40
        }
      ]
    },
    {
      "cell_type": "code",
      "metadata": {
        "colab": {
          "base_uri": "https://localhost:8080/"
        },
        "id": "8KogUjCvmlaI",
        "outputId": "edc23c48-143f-489a-e2c0-2eafef82ccde"
      },
      "source": [
        "gaussJordan(B)"
      ],
      "execution_count": null,
      "outputs": [
        {
          "output_type": "execute_result",
          "data": {
            "text/plain": [
              "array([[ 1. ,  0. ,  0. , -5.4],\n",
              "       [ 0. ,  1. ,  0. , 11.6],\n",
              "       [-0. , -0. ,  1. , -4.6]])"
            ]
          },
          "metadata": {
            "tags": []
          },
          "execution_count": 41
        }
      ]
    },
    {
      "cell_type": "markdown",
      "metadata": {
        "id": "lGnPavZhtbJw"
      },
      "source": [
        "As we have seen another Matrix is also been solved by this algorithm which suggests that our code is working perfectly."
      ]
    },
    {
      "cell_type": "code",
      "metadata": {
        "id": "BhRceF-BmmTD"
      },
      "source": [
        ""
      ],
      "execution_count": null,
      "outputs": []
    },
    {
      "cell_type": "code",
      "metadata": {
        "colab": {
          "base_uri": "https://localhost:8080/"
        },
        "id": "XNaeTbrcmrXK",
        "outputId": "96c5387e-cd92-4803-e446-4947519a3a89"
      },
      "source": [
        ""
      ],
      "execution_count": null,
      "outputs": [
        {
          "output_type": "execute_result",
          "data": {
            "text/plain": [
              "array([[  1.,   0., -16.],\n",
              "       [ -0.,   1.,   6.]])"
            ]
          },
          "metadata": {
            "tags": []
          },
          "execution_count": 16
        }
      ]
    },
    {
      "cell_type": "code",
      "metadata": {
        "id": "X1yg8VEzmtBB"
      },
      "source": [
        ""
      ],
      "execution_count": null,
      "outputs": []
    }
  ]
}