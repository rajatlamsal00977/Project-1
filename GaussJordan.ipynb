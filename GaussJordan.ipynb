{
  "nbformat": 4,
  "nbformat_minor": 0,
  "metadata": {
    "colab": {
      "name": "Untitled11.ipynb",
      "provenance": [],
      "include_colab_link": true
    },
    "kernelspec": {
      "name": "python3",
      "display_name": "Python 3"
    }
  },
  "cells": [
    {
      "cell_type": "markdown",
      "metadata": {
        "id": "view-in-github",
        "colab_type": "text"
      },
      "source": [
        "<a href=\"https://colab.research.google.com/github/rajatlamsal00977/Project-1/blob/main/GaussJordan.ipynb\" target=\"_parent\"><img src=\"https://colab.research.google.com/assets/colab-badge.svg\" alt=\"Open In Colab\"/></a>"
      ]
    },
    {
      "cell_type": "markdown",
      "metadata": {
        "id": "74ssr61MDuKi"
      },
      "source": [
        ""
      ]
    },
    {
      "cell_type": "markdown",
      "metadata": {
        "id": "bqISDLzKFNCT"
      },
      "source": [
        "*   Rajat Lamsal\r\n",
        "*   Bishnu Rijal\r\n",
        "*   Pratim khadka\r\n",
        "\r\n",
        "\r\n",
        "\r\n",
        "\r\n",
        "  Instructor: Nicolas Jachob.\r\n",
        "\r\n",
        "  CPSMA 4413 NUMERICAL METHODS -01.\r\n",
        "\r\n",
        "\r\n",
        "\r\n",
        "\r\n",
        "\r\n",
        "To write an algorithm (Gauss Jordan Elimination) for solving the given system of linear equation."
      ]
    },
    {
      "cell_type": "code",
      "metadata": {
        "id": "TLqVtFs8DT2e"
      },
      "source": [
        "import math\r\n",
        "import numpy as np\r\n"
      ],
      "execution_count": 133,
      "outputs": []
    },
    {
      "cell_type": "markdown",
      "metadata": {
        "id": "QF0yeFVqN8zo"
      },
      "source": [
        "Gauss Jordan elimination is the algorithm to solve the system of linear equation which utilizes the 3 methods which are as:\r\n",
        "\r\n",
        "* Swap the position of two rows.\r\n",
        "* Multiply row by a non zero scalar\r\n",
        "* Subtract or Add scalar multiple of one matrix to another.\r\n",
        "\r\n",
        "\r\n",
        "\r\n",
        "\r\n",
        "\r\n",
        "Any given linear or other form of equation can be arranged into matrices as demonstrated below.\r\n",
        "\r\n",
        "$$\r\n",
        "\\left\\{\r\n",
        "\\begin{align}\r\n",
        "a_{1,1} x_1 +&\\dots a_{1,n} x_n = y_1\\\\\r\n",
        "&\\vdots\\\\\r\n",
        "a_{n,1}x_1+&\\dots a_{n,n} x_n = y_n\r\n",
        "\\end{align}\r\n",
        "\\right.\r\n",
        "$$\r\n",
        "\r\n",
        "\r\n",
        "$$\r\n",
        "\\left[\r\n",
        "\\begin{array}{ccc|c}\r\n",
        "a_{1,1} & \\dots & a_{1,n} & y_1\\\\\r\n",
        "\\vdots&\\ddots&\\vdots&\\vdots\\\\\r\n",
        "a_{n,1} &\\dots& a_{n,n}&y_n\r\n",
        "\\end{array}\r\n",
        "\\right]\r\n",
        "$$"
      ]
    },
    {
      "cell_type": "markdown",
      "metadata": {
        "id": "s05MapksRZJg"
      },
      "source": [
        "Lets define a matrix array"
      ]
    },
    {
      "cell_type": "code",
      "metadata": {
        "id": "HjLFf_GGN1Vn"
      },
      "source": [
        "A = np.array([[5,4,3],[8,7,6]])"
      ],
      "execution_count": 134,
      "outputs": []
    },
    {
      "cell_type": "code",
      "metadata": {
        "colab": {
          "base_uri": "https://localhost:8080/"
        },
        "id": "uK8FCiU1RxwW",
        "outputId": "6a9cdf6b-67e4-4b99-a192-b3268795358e"
      },
      "source": [
        "A"
      ],
      "execution_count": 135,
      "outputs": [
        {
          "output_type": "execute_result",
          "data": {
            "text/plain": [
              "array([[5, 4, 3],\n",
              "       [8, 7, 6]])"
            ]
          },
          "metadata": {
            "tags": []
          },
          "execution_count": 135
        }
      ]
    },
    {
      "cell_type": "markdown",
      "metadata": {
        "id": "BgmGY3DMXhp6"
      },
      "source": [
        ""
      ]
    },
    {
      "cell_type": "code",
      "metadata": {
        "id": "00JGBFNpR7th"
      },
      "source": [
        "def Rows_add(matrix,targetRow, modifierRow, value): \r\n",
        "  newRow = matrix[targetRow,:]+value*matrix[modifierRow,:]\r\n",
        "  newMatrix = []\r\n",
        "  for i in range(len(matrix)):\r\n",
        "    if i != targetRow:\r\n",
        "      newMatrix.append(matrix[i,:])\r\n",
        "    else:\r\n",
        "      newMatrix.append(newRow)\r\n",
        "  return np.array(newMatrix)\r\n",
        "\r\n"
      ],
      "execution_count": 136,
      "outputs": []
    },
    {
      "cell_type": "code",
      "metadata": {
        "colab": {
          "base_uri": "https://localhost:8080/"
        },
        "id": "cqCIdzOFV257",
        "outputId": "1a4b8307-c158-4f1e-d55d-fe83716cc1c4"
      },
      "source": [
        "Rows_add(A,0,1,10)"
      ],
      "execution_count": 137,
      "outputs": [
        {
          "output_type": "execute_result",
          "data": {
            "text/plain": [
              "array([[85, 74, 63],\n",
              "       [ 8,  7,  6]])"
            ]
          },
          "metadata": {
            "tags": []
          },
          "execution_count": 137
        }
      ]
    },
    {
      "cell_type": "markdown",
      "metadata": {
        "id": "W0PC8pt6XY5z"
      },
      "source": [
        "We are now going to write a code that will swap the Rows using dictionary."
      ]
    },
    {
      "cell_type": "code",
      "metadata": {
        "id": "SAgEFyWjV57-"
      },
      "source": [
        "def Rows_swap(matrix, row1, row2):\r\n",
        "    dic = {row1:row2,row2:row1} \r\n",
        "    list = [dic.get(x,x) for x in range(len(matrix))] \r\n",
        "    return matrix[list]"
      ],
      "execution_count": 138,
      "outputs": []
    },
    {
      "cell_type": "code",
      "metadata": {
        "colab": {
          "base_uri": "https://localhost:8080/"
        },
        "id": "BiIZzcrbXM4p",
        "outputId": "fe242a87-f78e-4ba9-af03-494d6dd68fc2"
      },
      "source": [
        "Rows_swap(A,0,1)"
      ],
      "execution_count": 139,
      "outputs": [
        {
          "output_type": "execute_result",
          "data": {
            "text/plain": [
              "array([[8, 7, 6],\n",
              "       [5, 4, 3]])"
            ]
          },
          "metadata": {
            "tags": []
          },
          "execution_count": 139
        }
      ]
    },
    {
      "cell_type": "code",
      "metadata": {
        "id": "VotZh_lfXTrC"
      },
      "source": [
        "def changeToLeadingOne(matrix,row,column):\r\n",
        "  newMatrix =[]\r\n",
        "  for i in range(len(matrix)):\r\n",
        "    if i != row:\r\n",
        "      newMatrix.append(matrix[i,:])\r\n",
        "    else:\r\n",
        "      newMatrix.append(1/matrix[row,column]*matrix[row,:])\r\n",
        "  return np.array(newMatrix)\r\n"
      ],
      "execution_count": 140,
      "outputs": []
    },
    {
      "cell_type": "code",
      "metadata": {
        "colab": {
          "base_uri": "https://localhost:8080/"
        },
        "id": "Rf6ajZPuZ75O",
        "outputId": "7bdb187e-1572-458b-fab3-7c601e50a2d9"
      },
      "source": [
        "changeToLeadingOne(A,1,0)"
      ],
      "execution_count": 141,
      "outputs": [
        {
          "output_type": "execute_result",
          "data": {
            "text/plain": [
              "array([[5.   , 4.   , 3.   ],\n",
              "       [1.   , 0.875, 0.75 ]])"
            ]
          },
          "metadata": {
            "tags": []
          },
          "execution_count": 141
        }
      ]
    },
    {
      "cell_type": "code",
      "metadata": {
        "id": "r7RTsWbWaM1E"
      },
      "source": [
        "def gaussJordan(matrix):\r\n",
        "  newMatrix = matrix\r\n",
        "  for pivot in range(len(matrix)):\r\n",
        "    newMatrix = changeToLeadingOne(newMatrix,pivot,pivot)\r\n",
        "    for column in range(0,pivot):\r\n",
        "      newMatrix = Rows_add(newMatrix,column,pivot,-newMatrix[column,pivot])\r\n",
        "    for column in range(pivot+1,len(matrix)):\r\n",
        "      newMatrix = Rows_add(newMatrix,column,pivot,-newMatrix[column,pivot])\r\n",
        "  return newMatrix\r\n"
      ],
      "execution_count": 142,
      "outputs": []
    },
    {
      "cell_type": "code",
      "metadata": {
        "colab": {
          "base_uri": "https://localhost:8080/"
        },
        "id": "oxhmsAdQl64r",
        "outputId": "15a2e58e-afb3-4b3a-dcc8-9c06b2a134e4"
      },
      "source": [
        "gaussJordan(A)"
      ],
      "execution_count": 143,
      "outputs": [
        {
          "output_type": "execute_result",
          "data": {
            "text/plain": [
              "array([[ 1.,  0., -1.],\n",
              "       [ 0.,  1.,  2.]])"
            ]
          },
          "metadata": {
            "tags": []
          },
          "execution_count": 143
        }
      ]
    },
    {
      "cell_type": "markdown",
      "metadata": {
        "id": "FrySWtk7p9Ne"
      },
      "source": [
        "Lets try another Matrix If it will work for that."
      ]
    },
    {
      "cell_type": "code",
      "metadata": {
        "colab": {
          "base_uri": "https://localhost:8080/"
        },
        "id": "R9FSFOZMmhsu",
        "outputId": "22b706e6-fc68-4490-fd87-9a2656809d96"
      },
      "source": [
        "B = np.array([[2,4,6,8],[3,5,8,5],[9,7,6,5]])\r\n",
        "B"
      ],
      "execution_count": 144,
      "outputs": [
        {
          "output_type": "execute_result",
          "data": {
            "text/plain": [
              "array([[2, 4, 6, 8],\n",
              "       [3, 5, 8, 5],\n",
              "       [9, 7, 6, 5]])"
            ]
          },
          "metadata": {
            "tags": []
          },
          "execution_count": 144
        }
      ]
    },
    {
      "cell_type": "code",
      "metadata": {
        "colab": {
          "base_uri": "https://localhost:8080/"
        },
        "id": "8KogUjCvmlaI",
        "outputId": "005e5634-260a-46c2-c586-430cfabf394f"
      },
      "source": [
        "gaussJordan(B)"
      ],
      "execution_count": 145,
      "outputs": [
        {
          "output_type": "execute_result",
          "data": {
            "text/plain": [
              "array([[ 1. ,  0. ,  0. , -5.4],\n",
              "       [ 0. ,  1. ,  0. , 11.6],\n",
              "       [-0. , -0. ,  1. , -4.6]])"
            ]
          },
          "metadata": {
            "tags": []
          },
          "execution_count": 145
        }
      ]
    },
    {
      "cell_type": "markdown",
      "metadata": {
        "id": "lGnPavZhtbJw"
      },
      "source": [
        "As we have seen another Matrix is also been solved by this algorithm which suggests that our code is working perfectly."
      ]
    },
    {
      "cell_type": "code",
      "metadata": {
        "id": "BhRceF-BmmTD"
      },
      "source": [
        ""
      ],
      "execution_count": 145,
      "outputs": []
    },
    {
      "cell_type": "code",
      "metadata": {
        "id": "XNaeTbrcmrXK"
      },
      "source": [
        ""
      ],
      "execution_count": 145,
      "outputs": []
    },
    {
      "cell_type": "markdown",
      "metadata": {
        "id": "M_vAdPkYUUq-"
      },
      "source": [
        "Calculating the Inverse.<br>\r\n",
        "Here, we are going to try to compute inverse matrix by using the method where we use row operations on our matrix until we get the inverse. we first try to augment our matrix to take identity matrix out and use the remaining square matrix as computed in traditional method.\r\n",
        "\r\n",
        "\r\n",
        " We know the inverse is given by, $$\r\n",
        "\\left[A|I\\right] \\to \\left[I|A^{-1}\\right]\r\n",
        "$$ \r\n",
        "So,lets try \r\n",
        "$$\r\n",
        "A=\\left[\r\n",
        "\\begin{array}{cc}\r\n",
        "1&2\\\\\r\n",
        "3&4\r\n",
        "\\end{array}\r\n",
        "\\right]\r\n",
        "$$"
      ]
    },
    {
      "cell_type": "code",
      "metadata": {
        "id": "3ipmi3BNURt7"
      },
      "source": [
        "C = np.array([[1,2,1,0],[3,4,0,1]])"
      ],
      "execution_count": 146,
      "outputs": []
    },
    {
      "cell_type": "code",
      "metadata": {
        "id": "kfYhuqWhWTe0",
        "colab": {
          "base_uri": "https://localhost:8080/"
        },
        "outputId": "f3ad58b4-d7a1-43da-aad2-c223abb05f06"
      },
      "source": [
        "gaussJordan(C)"
      ],
      "execution_count": 147,
      "outputs": [
        {
          "output_type": "execute_result",
          "data": {
            "text/plain": [
              "array([[ 1. ,  0. , -2. ,  1. ],\n",
              "       [-0. ,  1. ,  1.5, -0.5]])"
            ]
          },
          "metadata": {
            "tags": []
          },
          "execution_count": 147
        }
      ]
    },
    {
      "cell_type": "markdown",
      "metadata": {
        "id": "2mKGlRASW4Jm"
      },
      "source": [
        "So I think $A^{-1}$ is\r\n",
        "$$\r\n",
        "A^{-1}=\\left[\r\n",
        "\\begin{array}{cc}\r\n",
        "-2&1\\\\\r\n",
        "\\frac32&-\\frac12\r\n",
        "\\end{array}\r\n",
        "\\right]\r\n",
        "$$<br>\r\n",
        " We could cross check the  value ,\r\n",
        " "
      ]
    },
    {
      "cell_type": "code",
      "metadata": {
        "id": "f0dL7R1WWflG"
      },
      "source": [
        "Ainverse = np.array([[-2,1],[1.5,-0.5]])\r\n",
        "Anew = np.array([[1,2],[3,4]])"
      ],
      "execution_count": 148,
      "outputs": []
    },
    {
      "cell_type": "code",
      "metadata": {
        "id": "usEyhhWUfx5j",
        "outputId": "9d1b67aa-c4c3-4742-dc26-8e50a13f390d",
        "colab": {
          "base_uri": "https://localhost:8080/"
        }
      },
      "source": [
        "Anew @ Ainverse"
      ],
      "execution_count": 149,
      "outputs": [
        {
          "output_type": "execute_result",
          "data": {
            "text/plain": [
              "array([[1., 0.],\n",
              "       [0., 1.]])"
            ]
          },
          "metadata": {
            "tags": []
          },
          "execution_count": 149
        }
      ]
    },
    {
      "cell_type": "markdown",
      "metadata": {
        "id": "FrCLAUn1H8tg"
      },
      "source": [
        "We came to find out that the Gauss- Jordan Elimination can be applied to the given system of linear equation which involves different functions like swapping the rows, multiplying the row with some constant and adding/subtracting  that constant to the given row in order to reduce down the coefficient to zero.\r\n",
        "\r\n",
        "\r\n",
        "\r\n",
        "Among the various limitations of Gauss-Jordan Elimination the inaccuracy due to rounding of the augmented matrix is very common. It is particularly seen while we use the coefficents in Decimal form. For example if we take an equation \r\n",
        "-0.8929x + 0.594y +0.4998z\r\n",
        "and while turning it into matrix form,if we truncate first coefficent to 0.9 we can have a higher value of truncation error."
      ]
    },
    {
      "cell_type": "markdown",
      "metadata": {
        "id": "B-W9smLTLHnw"
      },
      "source": [
        ""
      ]
    }
  ]
}