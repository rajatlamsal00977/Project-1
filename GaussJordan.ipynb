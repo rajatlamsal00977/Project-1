{
  "nbformat": 4,
  "nbformat_minor": 0,
  "metadata": {
    "colab": {
      "name": "Untitled11.ipynb",
      "provenance": [],
      "include_colab_link": true
    },
    "kernelspec": {
      "name": "python3",
      "display_name": "Python 3"
    }
  },
  "cells": [
    {
      "cell_type": "markdown",
      "metadata": {
        "id": "view-in-github",
        "colab_type": "text"
      },
      "source": [
        "<a href=\"https://colab.research.google.com/github/rajatlamsal00977/Project-1/blob/main/GaussJordan.ipynb\" target=\"_parent\"><img src=\"https://colab.research.google.com/assets/colab-badge.svg\" alt=\"Open In Colab\"/></a>"
      ]
    },
    {
      "cell_type": "markdown",
      "metadata": {
        "id": "74ssr61MDuKi"
      },
      "source": [
        ""
      ]
    },
    {
      "cell_type": "markdown",
      "metadata": {
        "id": "bqISDLzKFNCT"
      },
      "source": [
        "*   Rajat Lamsal\r\n",
        "*   Bishnu Rijal\r\n",
        "*   Pratim khadka\r\n",
        "\r\n",
        "\r\n",
        "\r\n",
        "\r\n",
        "  Instructor: Nicolas Jachob.\r\n",
        "\r\n",
        "  CPSMA 4413 NUMERICAL METHODS -01.\r\n",
        "\r\n",
        "\r\n",
        "\r\n",
        "\r\n",
        "\r\n",
        "To write an algorithm (Gauss Jordan Elimination) for solving the given system of linear equation."
      ]
    },
    {
      "cell_type": "code",
      "metadata": {
        "id": "TLqVtFs8DT2e"
      },
      "source": [
        "import math\r\n",
        "import numpy as np\r\n"
      ],
      "execution_count": null,
      "outputs": []
    },
    {
      "cell_type": "markdown",
      "metadata": {
        "id": "QF0yeFVqN8zo"
      },
      "source": [
        "Gauss Jordan elimination is the algorithm to solve the system of linear equation which utilizes the 3 methods which are as:\r\n",
        "\r\n",
        "* Swap the position of two rows.\r\n",
        "* Multiply row by a non zero scalar\r\n",
        "* Subtract or Add scalar multiple of one matrix to another.\r\n",
        "\r\n",
        "\r\n",
        "\r\n",
        "\r\n",
        "\r\n",
        "Any given linear or other form of equation can be arranged into matrices as demonstrated below.\r\n",
        "\r\n",
        "$$\r\n",
        "\\left\\{\r\n",
        "\\begin{align}\r\n",
        "a_{1,1} x_1 +&\\dots a_{1,n} x_n = y_1\\\\\r\n",
        "&\\vdots\\\\\r\n",
        "a_{n,1}x_1+&\\dots a_{n,n} x_n = y_n\r\n",
        "\\end{align}\r\n",
        "\\right.\r\n",
        "$$\r\n",
        "\r\n",
        "\r\n",
        "$$\r\n",
        "\\left[\r\n",
        "\\begin{array}{ccc|c}\r\n",
        "a_{1,1} & \\dots & a_{1,n} & y_1\\\\\r\n",
        "\\vdots&\\ddots&\\vdots&\\vdots\\\\\r\n",
        "a_{n,1} &\\dots& a_{n,n}&y_n\r\n",
        "\\end{array}\r\n",
        "\\right]\r\n",
        "$$"
      ]
    },
    {
      "cell_type": "markdown",
      "metadata": {
        "id": "s05MapksRZJg"
      },
      "source": [
        "Lets define a matrix array"
      ]
    },
    {
      "cell_type": "code",
      "metadata": {
        "id": "HjLFf_GGN1Vn"
      },
      "source": [
        "A = np.array([[5,4,3],[8,7,6]])"
      ],
      "execution_count": null,
      "outputs": []
    },
    {
      "cell_type": "code",
      "metadata": {
        "colab": {
          "base_uri": "https://localhost:8080/"
        },
        "id": "uK8FCiU1RxwW",
        "outputId": "1699a423-0e31-4387-c806-ee4da248818e"
      },
      "source": [
        "A"
      ],
      "execution_count": null,
      "outputs": [
        {
          "output_type": "execute_result",
          "data": {
            "text/plain": [
              "array([[5, 4, 3],\n",
              "       [8, 7, 6]])"
            ]
          },
          "metadata": {
            "tags": []
          },
          "execution_count": 20
        }
      ]
    },
    {
      "cell_type": "markdown",
      "metadata": {
        "id": "BgmGY3DMXhp6"
      },
      "source": [
        ""
      ]
    },
    {
      "cell_type": "code",
      "metadata": {
        "id": "00JGBFNpR7th"
      },
      "source": [
        "def addRows(matrix,targetRow, modifierRow, value):\r\n",
        "  newRow = matrix[targetRow,:]+value*matrix[modifierRow,:]\r\n",
        "  newMatrix = []\r\n",
        "  for i in range(len(matrix)):\r\n",
        "    if i != targetRow:\r\n",
        "      newMatrix.append(matrix[i,:])\r\n",
        "    else:\r\n",
        "      newMatrix.append(newRow)\r\n",
        "  return np.array(newMatrix)\r\n",
        "\r\n"
      ],
      "execution_count": null,
      "outputs": []
    },
    {
      "cell_type": "code",
      "metadata": {
        "colab": {
          "base_uri": "https://localhost:8080/"
        },
        "id": "cqCIdzOFV257",
        "outputId": "7f29784e-d934-482b-d113-cada5d702d83"
      },
      "source": [
        "addRows(A,0,1,10)"
      ],
      "execution_count": null,
      "outputs": [
        {
          "output_type": "execute_result",
          "data": {
            "text/plain": [
              "array([[85, 74, 63],\n",
              "       [ 8,  7,  6]])"
            ]
          },
          "metadata": {
            "tags": []
          },
          "execution_count": 22
        }
      ]
    },
    {
      "cell_type": "markdown",
      "metadata": {
        "id": "W0PC8pt6XY5z"
      },
      "source": [
        "We are now going to write a code that will swap the Rows using dictionary."
      ]
    },
    {
      "cell_type": "code",
      "metadata": {
        "id": "SAgEFyWjV57-"
      },
      "source": [
        "def swapRows(matrix, row1, row2):\r\n",
        "    dic = {row1:row2,row2:row1} \r\n",
        "    list = [dic.get(x,x) for x in range(len(matrix))] \r\n",
        "    return matrix[list]"
      ],
      "execution_count": null,
      "outputs": []
    },
    {
      "cell_type": "code",
      "metadata": {
        "colab": {
          "base_uri": "https://localhost:8080/"
        },
        "id": "BiIZzcrbXM4p",
        "outputId": "394febdb-b2f6-47b4-8775-f319073d4e65"
      },
      "source": [
        "swapRows(A,0,1)"
      ],
      "execution_count": null,
      "outputs": [
        {
          "output_type": "execute_result",
          "data": {
            "text/plain": [
              "array([[8, 7, 6],\n",
              "       [5, 4, 3]])"
            ]
          },
          "metadata": {
            "tags": []
          },
          "execution_count": 24
        }
      ]
    },
    {
      "cell_type": "code",
      "metadata": {
        "id": "VotZh_lfXTrC"
      },
      "source": [
        "def changeToLeadingOne(matrix,row,column):\r\n",
        "  newMatrix =[]\r\n",
        "  for i in range(len(matrix)):\r\n",
        "    if i != row:\r\n",
        "      newMatrix.append(matrix[i,:])\r\n",
        "    else:\r\n",
        "      newMatrix.append(1/matrix[row,column]*matrix[row,:])\r\n",
        "  return np.array(newMatrix)\r\n"
      ],
      "execution_count": null,
      "outputs": []
    },
    {
      "cell_type": "code",
      "metadata": {
        "colab": {
          "base_uri": "https://localhost:8080/"
        },
        "id": "Rf6ajZPuZ75O",
        "outputId": "1c0fcd0c-2957-4f4a-b5b2-ca56aaf81327"
      },
      "source": [
        "changeToLeadingOne(A,1,0)"
      ],
      "execution_count": null,
      "outputs": [
        {
          "output_type": "execute_result",
          "data": {
            "text/plain": [
              "array([[5.   , 4.   , 3.   ],\n",
              "       [1.   , 0.875, 0.75 ]])"
            ]
          },
          "metadata": {
            "tags": []
          },
          "execution_count": 26
        }
      ]
    },
    {
      "cell_type": "code",
      "metadata": {
        "id": "r7RTsWbWaM1E"
      },
      "source": [
        "def gaussJordan(matrix):\r\n",
        "  newMatrix = matrix\r\n",
        "  for pivot in range(len(matrix)):\r\n",
        "    newMatrix = changeToLeadingOne(newMatrix,pivot,pivot)\r\n",
        "    for column in range(0,pivot):\r\n",
        "      newMatrix = addRows(newMatrix,column,pivot,-newMatrix[column,pivot])\r\n",
        "    for column in range(pivot+1,len(matrix)):\r\n",
        "      newMatrix = addRows(newMatrix,column,pivot,-newMatrix[column,pivot])\r\n",
        "  return newMatrix\r\n"
      ],
      "execution_count": null,
      "outputs": []
    },
    {
      "cell_type": "code",
      "metadata": {
        "colab": {
          "base_uri": "https://localhost:8080/"
        },
        "id": "oxhmsAdQl64r",
        "outputId": "22ce96b2-0072-47aa-84f2-8226ad5c2dcf"
      },
      "source": [
        "gaussJordan(A)"
      ],
      "execution_count": null,
      "outputs": [
        {
          "output_type": "execute_result",
          "data": {
            "text/plain": [
              "array([[ 1.,  0., -1.],\n",
              "       [ 0.,  1.,  2.]])"
            ]
          },
          "metadata": {
            "tags": []
          },
          "execution_count": 28
        }
      ]
    },
    {
      "cell_type": "markdown",
      "metadata": {
        "id": "FrySWtk7p9Ne"
      },
      "source": [
        "Lets try another Matrix If it will work for that."
      ]
    },
    {
      "cell_type": "code",
      "metadata": {
        "colab": {
          "base_uri": "https://localhost:8080/"
        },
        "id": "R9FSFOZMmhsu",
        "outputId": "42be0afe-7ba0-4dd3-e31a-63031829bd95"
      },
      "source": [
        "B = np.array([[2,4,6,8],[3,5,8,5],[9,7,6,5]])\r\n",
        "B"
      ],
      "execution_count": null,
      "outputs": [
        {
          "output_type": "execute_result",
          "data": {
            "text/plain": [
              "array([[2, 4, 6, 8],\n",
              "       [3, 5, 8, 5],\n",
              "       [9, 7, 6, 5]])"
            ]
          },
          "metadata": {
            "tags": []
          },
          "execution_count": 40
        }
      ]
    },
    {
      "cell_type": "code",
      "metadata": {
        "colab": {
          "base_uri": "https://localhost:8080/"
        },
        "id": "8KogUjCvmlaI",
        "outputId": "edc23c48-143f-489a-e2c0-2eafef82ccde"
      },
      "source": [
        "gaussJordan(B)"
      ],
      "execution_count": null,
      "outputs": [
        {
          "output_type": "execute_result",
          "data": {
            "text/plain": [
              "array([[ 1. ,  0. ,  0. , -5.4],\n",
              "       [ 0. ,  1. ,  0. , 11.6],\n",
              "       [-0. , -0. ,  1. , -4.6]])"
            ]
          },
          "metadata": {
            "tags": []
          },
          "execution_count": 41
        }
      ]
    },
    {
      "cell_type": "markdown",
      "metadata": {
        "id": "lGnPavZhtbJw"
      },
      "source": [
        "As we have seen another Matrix is also been solved by this algorithm which suggests that our code is working perfectly."
      ]
    },
    {
      "cell_type": "code",
      "metadata": {
        "id": "BhRceF-BmmTD"
      },
      "source": [
        ""
      ],
      "execution_count": null,
      "outputs": []
    },
    {
      "cell_type": "code",
      "metadata": {
        "colab": {
          "base_uri": "https://localhost:8080/"
        },
        "id": "XNaeTbrcmrXK",
        "outputId": "96c5387e-cd92-4803-e446-4947519a3a89"
      },
      "source": [
        ""
      ],
      "execution_count": null,
      "outputs": [
        {
          "output_type": "execute_result",
          "data": {
            "text/plain": [
              "array([[  1.,   0., -16.],\n",
              "       [ -0.,   1.,   6.]])"
            ]
          },
          "metadata": {
            "tags": []
          },
          "execution_count": 16
        }
      ]
    },
    {
      "cell_type": "markdown",
      "metadata": {
        "id": "M_vAdPkYUUq-"
      },
      "source": [
        "Calculating the Inverse.<br>\r\n",
        " We know the inverse is given by, $$\r\n",
        "\\left[A|I\\right] \\to \\left[I|A^{-1}\\right]\r\n",
        "$$ \r\n",
        "So,lets try \r\n",
        "$$\r\n",
        "A=\\left[\r\n",
        "\\begin{array}{cc}\r\n",
        "1&2\\\\\r\n",
        "2&4\r\n",
        "\\end{array}\r\n",
        "\\right]\r\n",
        "$$"
      ]
    },
    {
      "cell_type": "code",
      "metadata": {
        "id": "3ipmi3BNURt7"
      },
      "source": [
        "C = np.array([[1,2,1,0],[2,4,0,1]])"
      ],
      "execution_count": null,
      "outputs": []
    },
    {
      "cell_type": "code",
      "metadata": {
        "id": "kfYhuqWhWTe0",
        "outputId": "ada99bfd-b43e-440e-d104-215432f58865",
        "colab": {
          "base_uri": "https://localhost:8080/",
          "height": 166
        }
      },
      "source": [
        "gaussJordan(C)"
      ],
      "execution_count": 2,
      "outputs": [
        {
          "output_type": "error",
          "ename": "NameError",
          "evalue": "ignored",
          "traceback": [
            "\u001b[0;31m---------------------------------------------------------------------------\u001b[0m",
            "\u001b[0;31mNameError\u001b[0m                                 Traceback (most recent call last)",
            "\u001b[0;32m<ipython-input-2-69da4a222b42>\u001b[0m in \u001b[0;36m<module>\u001b[0;34m()\u001b[0m\n\u001b[0;32m----> 1\u001b[0;31m \u001b[0mgaussJordan\u001b[0m\u001b[0;34m(\u001b[0m\u001b[0mC\u001b[0m\u001b[0;34m)\u001b[0m\u001b[0;34m\u001b[0m\u001b[0;34m\u001b[0m\u001b[0m\n\u001b[0m",
            "\u001b[0;31mNameError\u001b[0m: name 'gaussJordan' is not defined"
          ]
        }
      ]
    },
    {
      "cell_type": "markdown",
      "metadata": {
        "id": "2mKGlRASW4Jm"
      },
      "source": [
        "So I think $A^{-1}$ is\r\n",
        "$$\r\n",
        "A^{-1}=\\left[\r\n",
        "\\begin{array}{cc}\r\n",
        "-2&1\\\\\r\n",
        "1&-\\frac12\r\n",
        "\\end{array}\r\n",
        "\\right]\r\n",
        "$$<br>\r\n",
        " We could cross check the  value ,\r\n",
        " "
      ]
    },
    {
      "cell_type": "code",
      "metadata": {
        "id": "f0dL7R1WWflG"
      },
      "source": [
        "Ainverse = np.array([[-2,1],[1,-(1/2)]])\r\n",
        "Anew = np.array([[1,2],[2,4]])"
      ],
      "execution_count": null,
      "outputs": []
    },
    {
      "cell_type": "markdown",
      "metadata": {
        "id": "FrCLAUn1H8tg"
      },
      "source": [
        "We came to find out that the Gauss- Jordan Elimination can be applied to the given system of linear equation which involves different functions like swapping the rows, multiplying the row with some constant and adding/subtracting  that constant to the given row in order to reduce down the coefficient to zero.\r\n",
        "\r\n",
        "\r\n",
        "\r\n",
        "Among the various limitations of Gauss-Jordan Elimination the inaccuracy due to rounding of the augmented matrix is very common. It is particularly seen while we use the coefficents in Decimal form. For example if we take an equation \r\n",
        "-0.8929x + 0.594y +0.4998z\r\n",
        "and while turning it into matrix form,if we truncate first coefficent to 0.9 we can have a higher value of truncation error."
      ]
    },
    {
      "cell_type": "markdown",
      "metadata": {
        "id": "B-W9smLTLHnw"
      },
      "source": [
        ""
      ]
    }
  ]
}