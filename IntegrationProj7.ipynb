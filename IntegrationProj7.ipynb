{
  "nbformat": 4,
  "nbformat_minor": 0,
  "metadata": {
    "colab": {
      "name": "Untitled14.ipynb",
      "provenance": [],
      "include_colab_link": true
    },
    "kernelspec": {
      "name": "python3",
      "display_name": "Python 3"
    }
  },
  "cells": [
    {
      "cell_type": "markdown",
      "metadata": {
        "id": "view-in-github",
        "colab_type": "text"
      },
      "source": [
        "<a href=\"https://colab.research.google.com/github/rajatlamsal00977/Project-1/blob/main/IntegrationProj7.ipynb\" target=\"_parent\"><img src=\"https://colab.research.google.com/assets/colab-badge.svg\" alt=\"Open In Colab\"/></a>"
      ]
    },
    {
      "cell_type": "markdown",
      "metadata": {
        "id": "4cGEOkOCI0ch"
      },
      "source": [
        "*   Rajat Lamsal\r\n",
        "*   Bishnu Rijal\r\n",
        "*   Pratim khadka\r\n",
        "\r\n",
        "\r\n",
        "\r\n",
        "\r\n",
        "  Instructor: Nicolas Jachob.\r\n",
        "\r\n",
        "  CPSMA 4413 NUMERICAL METHODS -01."
      ]
    },
    {
      "cell_type": "code",
      "metadata": {
        "id": "YL9bMN6mOLc6"
      },
      "source": [
        "\r\n",
        "import numpy as np\r\n",
        "from scipy import integrate\r\n",
        "import matplotlib.pyplot as plt\r\n",
        "import pandas as pa\r\n",
        "import math\r\n",
        "\r\n",
        "\r\n",
        "%matplotlib inline"
      ],
      "execution_count": 58,
      "outputs": []
    },
    {
      "cell_type": "markdown",
      "metadata": {
        "id": "F7IlJYrVOwC1"
      },
      "source": [
        "lets cosider the original function that we used in our previous project  $f(x) = \\cos x$ and investigate the area covered by the first hump,\r\n",
        "$$\r\n",
        "A = \\int_0^\\frac{\\pi}{2}\\cos x\\ dx\r\n",
        "$$"
      ]
    },
    {
      "cell_type": "code",
      "metadata": {
        "colab": {
          "base_uri": "https://localhost:8080/",
          "height": 299
        },
        "id": "m7R88U0gOmyz",
        "outputId": "c56f1e2b-9664-42f7-dae1-6cd1e99eec74"
      },
      "source": [
        "x = np.arange( 0,(3.15/2),.1)  # plotting the graph for cosx at pi/2.\r\n",
        "plt.plot(x,np.cos(x))\r\n",
        "plt.title(\"Function $cosx$\")"
      ],
      "execution_count": 59,
      "outputs": [
        {
          "output_type": "execute_result",
          "data": {
            "text/plain": [
              "Text(0.5, 1.0, 'Function $cosx$')"
            ]
          },
          "metadata": {
            "tags": []
          },
          "execution_count": 59
        },
        {
          "output_type": "display_data",
          "data": {
            "image/png": "[encoded data removed]",
            "text/plain": [
              "<Figure size 432x288 with 1 Axes>"
            ]
          },
          "metadata": {
            "tags": [],
            "needs_background": "light"
          }
        }
      ]
    },
    {
      "cell_type": "markdown",
      "metadata": {
        "id": "Xi3f6XJXPYTr"
      },
      "source": [
        "Now we are going to use the exact integral calulation and compare it with the value we will get using the right hand and left hand Reimann Sum. We will be using the scipy package."
      ]
    },
    {
      "cell_type": "markdown",
      "metadata": {
        "id": "KHBePqI_QTFf"
      },
      "source": [
        "Lets do it by hand!\r\n",
        "\r\n",
        "$$\r\n",
        "\\begin{align}\r\n",
        "A &= \\int_0^ \\frac{\\pi}{2} \\ cosx \\ dx\\\\\r\n",
        "&= \\sin x\\vert_0^\\frac{\\pi}{2}\\\\\r\n",
        "&= \\sin\\frac{\\pi}{2}-\\sin 0\\\\\r\n",
        "&= 1\r\n",
        "\\end{align}\r\n",
        "$$"
      ]
    },
    {
      "cell_type": "code",
      "metadata": {
        "id": "Lc_gjGz8J4ic",
        "outputId": "5ba2202b-121f-4c92-e240-e34392bca256",
        "colab": {
          "base_uri": "https://localhost:8080/"
        }
      },
      "source": [
        "integrate.quad(np.cos ,0,np.pi/2) ##using built in integration function to check the value\r\n"
      ],
      "execution_count": 60,
      "outputs": [
        {
          "output_type": "execute_result",
          "data": {
            "text/plain": [
              "(0.9999999999999999, 1.1102230246251564e-14)"
            ]
          },
          "metadata": {
            "tags": []
          },
          "execution_count": 60
        }
      ]
    },
    {
      "cell_type": "markdown",
      "metadata": {
        "id": "rEG6u0N6Sfe1"
      },
      "source": [
        "Numerical Integration: Reimann Sum\r\n",
        "\r\n",
        "The three different type of Riemann Sums are a left, center and right hand sum respectively.  We can compute the area under a curve by dividing the area with $n$ little rectangles of equal width, $\\Delta x = \\frac{b-a}n$, here the 'y' value represents the heigh of the rectangles. sum of area of these n rectangels is the total area covered under the curve which is the integral value of the given function.\r\n",
        "$$\r\n",
        "A\\approx \\sum_{i=1}^n f(a+i\\Delta x)\\Delta x\r\n",
        "$$"
      ]
    },
    {
      "cell_type": "code",
      "metadata": {
        "id": "6R4tUMLIPzuF"
      },
      "source": [
        "def deltax(a,b,n):                         #defines delta x\r\n",
        "  return (b-a)/n\r\n",
        "\r\n",
        "def riemannSum(function,a,b,n,indicator = 'right'):                   #defines riemann Sum \r\n",
        "  dx = deltax(a,b,n)\r\n",
        "  if indicator == 'right':\r\n",
        "    start = 1\r\n",
        "  elif indicator == 'left':\r\n",
        "    start = 0\r\n",
        "  elif indicator == 'mid':\r\n",
        "    start = 0.5\r\n",
        "  sum = 0\r\n",
        "  for j in np.arange(start,n+start):\r\n",
        "    sum = sum + function(a + j*dx)*dx\r\n",
        "  return sum\r\n",
        "\r\n"
      ],
      "execution_count": 61,
      "outputs": []
    },
    {
      "cell_type": "markdown",
      "metadata": {
        "id": "Ney1TxmyUaEw"
      },
      "source": [
        "Now we are going to use the left Reimann Sum and the right Reimann sum given by the next two snippet of code as follows:"
      ]
    },
    {
      "cell_type": "code",
      "metadata": {
        "colab": {
          "base_uri": "https://localhost:8080/"
        },
        "id": "TB4GJB-KTVRs",
        "outputId": "702a9c55-85be-4c17-e604-0b6eeedc8769"
      },
      "source": [
        "riemannSum(np.cos, 0,np.pi/2,10,'left')                #riemann Sum for left hand side"
      ],
      "execution_count": 62,
      "outputs": [
        {
          "output_type": "execute_result",
          "data": {
            "text/plain": [
              "1.076482802694102"
            ]
          },
          "metadata": {
            "tags": []
          },
          "execution_count": 62
        }
      ]
    },
    {
      "cell_type": "code",
      "metadata": {
        "colab": {
          "base_uri": "https://localhost:8080/"
        },
        "id": "8XOw9WSQTyoa",
        "outputId": "85377bdb-c653-44a4-9106-f9e415ba58d3"
      },
      "source": [
        "riemannSum(np.cos, 0,np.pi/2,10,'right')             #riemann Sum for right hand side."
      ],
      "execution_count": 63,
      "outputs": [
        {
          "output_type": "execute_result",
          "data": {
            "text/plain": [
              "0.9194031700146126"
            ]
          },
          "metadata": {
            "tags": []
          },
          "execution_count": 63
        }
      ]
    },
    {
      "cell_type": "markdown",
      "metadata": {
        "id": "WeFe4BKlUnDG"
      },
      "source": [
        "If we take the average of these two sums then our ans will be close to 0 which is the integration of the function we have taken."
      ]
    },
    {
      "cell_type": "markdown",
      "metadata": {
        "id": "cgyt3F2IVBvN"
      },
      "source": [
        "We will now be using the simpson's $\\frac 13$.Simpson's $\\frac 13$ expression is mentioned below: \r\n",
        "$$\r\n",
        "\\int_a^b f(x)\\ dx\r\n",
        "\\approx \r\n",
        "\\frac{\\Delta x}3 \r\n",
        "\\left[\r\n",
        "f(a)\r\n",
        "+\r\n",
        "4\\sum_{odd} f(x_i)\r\n",
        "+\r\n",
        "2\\sum_{even} f(x_i)\r\n",
        "+\r\n",
        "f(b)\r\n",
        "\\right]\r\n",
        "$$"
      ]
    },
    {
      "cell_type": "code",
      "metadata": {
        "id": "uSLv8Yc8T4IU"
      },
      "source": [
        "def simpson(function, a, b , n):              # defines Simpsons rule\r\n",
        "  dx = deltax(a,b,n)\r\n",
        "  sum = 0\r\n",
        "  for i in range(1,n,2): #odds\r\n",
        "    sum = sum + 4*function(a+dx*i)\r\n",
        "  for i in range(0,n,2): #evens\r\n",
        "    sum = sum + 2*function(a+dx*i)\r\n",
        "  for i in [a,b]: #endpoints\r\n",
        "    sum = sum + function(i)\r\n",
        "  sum = dx /3 *sum #multiply by the width/3\r\n",
        "  return sum"
      ],
      "execution_count": 64,
      "outputs": []
    },
    {
      "cell_type": "code",
      "metadata": {
        "colab": {
          "base_uri": "https://localhost:8080/"
        },
        "id": "CHUqIu4oVmnz",
        "outputId": "b4f5e339-d055-437b-d02b-e9142acaa18d"
      },
      "source": [
        "simpson(np.cos, 0 , np.pi/2,10)              "
      ],
      "execution_count": 65,
      "outputs": [
        {
          "output_type": "execute_result",
          "data": {
            "text/plain": [
              "1.10472314734056"
            ]
          },
          "metadata": {
            "tags": []
          },
          "execution_count": 65
        }
      ]
    },
    {
      "cell_type": "markdown",
      "metadata": {
        "id": "o6FZ4Xp3IzE4"
      },
      "source": [
        ""
      ]
    },
    {
      "cell_type": "code",
      "metadata": {
        "id": "vjwvM-jIVsJ9"
      },
      "source": [
        ""
      ],
      "execution_count": 65,
      "outputs": []
    }
  ]
}