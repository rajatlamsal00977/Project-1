{
  "nbformat": 4,
  "nbformat_minor": 0,
  "metadata": {
    "colab": {
      "name": "Copy of Module1_project.ipynb",
      "provenance": [],
      "include_colab_link": true
    },
    "kernelspec": {
      "name": "python3",
      "display_name": "Python 3"
    }
  },
  "cells": [
    {
      "cell_type": "markdown",
      "metadata": {
        "id": "view-in-github",
        "colab_type": "text"
      },
      "source": [
        "<a href=\"https://colab.research.google.com/github/rajatlamsal00977/Project-1/blob/main/Copy_of_Module1_project.ipynb\" target=\"_parent\"><img src=\"https://colab.research.google.com/assets/colab-badge.svg\" alt=\"Open In Colab\"/></a>"
      ]
    },
    {
      "cell_type": "code",
      "metadata": {
        "id": "6eu5nwmSjCsB"
      },
      "source": [
        "def TrueError(actual, estimate):\n",
        "  return actual - estimate\n",
        " \n",
        "def RelativeError(actual, estimate):\n",
        "  return TrueError(actual, estimate)/actual\n",
        " \n",
        "def ApproximateError(EstimateBefore, EstimateAfter):\n",
        "  return EstimateAfter - EstimateBefore\n",
        " \n",
        "def ApproximateRelative(EstimateBefore, EstimateAfter):\n",
        "  return ApproximateError(EstimateBefore, EstimateAfter)/ EstimateAfter"
      ],
      "execution_count": null,
      "outputs": []
    },
    {
      "cell_type": "markdown",
      "metadata": {
        "id": "Eb0GloedkJNq"
      },
      "source": [
        "Taylor Expansion\r\n",
        "\r\n",
        "We will be computing estimate for lnx centered at c = 1. Then, the n degree Taylor Expansion will be of the form \r\n",
        "<br/>\r\n",
        "<br/>\r\n",
        ">$T(x)=\\sum_{i=1}^\\infty [(-1^(k+1)) /k]*(x-1)^k$\r\n",
        "       \r\n",
        "   \r\n",
        "\r\n"
      ]
    },
    {
      "cell_type": "code",
      "metadata": {
        "id": "3xoEalilkjm_"
      },
      "source": [
        "import math\r\n",
        "\r\n",
        "pi = math.pi\r\n",
        "sqrt_2 = math.sqrt(2)\r\n",
        "\r\n",
        "def generalTaylorCoefficient(degree):\r\n",
        "  return (-1)^(math.floor(degree+1))/(degree) \r\n",
        "\r\n",
        "def taylorPolynomialTerm(degree, input):\r\n",
        "  return generalTaylorCoefficient(degree)*(input-1)^degree\r\n",
        "\r\n",
        "def taylorPolynomial(degree, input):\r\n",
        "  sum=0\r\n",
        "  for i in range (0,degree+1):\r\n",
        "   sum = sum + taylorPolynomial(i,input)\r\n",
        "  return sum\r\n"
      ],
      "execution_count": null,
      "outputs": []
    },
    {
      "cell_type": "code",
      "metadata": {
        "id": "vxqk3oo-Ds39",
        "colab": {
          "base_uri": "https://localhost:8080/",
          "height": 235
        },
        "outputId": "adc38a93-fcb0-4ec0-eccd-3350b6148c51"
      },
      "source": [
        "\n",
        "import numpy as np\n",
        "ln = np.log\n",
        "##ln= cmath.ln\n",
        "degree = [i for i in range(0,10)]\n",
        "actualValues = [ cmath.ln(1+.1) for i in degree]\n",
        "estimateValues = [taylorPolynomial(n,1+.1) for k in degree]\n",
        "absError = [absoluteError(estimateValues[i],actualValues[i]) for i in degree]\n",
        "relError = [relativeError(estimateValues[i],actualValues[i]) for i in degree]\n",
        "apxError = [approximateError(estimateValues[i],estimateValues[i+1]) for i in range(0,9)]\n",
        "relApxError = [relativeApproxiamteError(estimateValues[i],estimateValues[i+1]) for i in range (0,9)]"
      ],
      "execution_count": null,
      "outputs": [
        {
          "output_type": "error",
          "ename": "NameError",
          "evalue": "ignored",
          "traceback": [
            "\u001b[0;31m---------------------------------------------------------------------------\u001b[0m",
            "\u001b[0;31mNameError\u001b[0m                                 Traceback (most recent call last)",
            "\u001b[0;32m<ipython-input-9-7180738abb9b>\u001b[0m in \u001b[0;36m<module>\u001b[0;34m()\u001b[0m\n\u001b[0;32m----> 1\u001b[0;31m \u001b[0mln\u001b[0m\u001b[0;34m=\u001b[0m \u001b[0mcmath\u001b[0m\u001b[0;34m.\u001b[0m\u001b[0mln\u001b[0m\u001b[0;34m\u001b[0m\u001b[0;34m\u001b[0m\u001b[0m\n\u001b[0m\u001b[1;32m      2\u001b[0m \u001b[0mdegree\u001b[0m \u001b[0;34m=\u001b[0m \u001b[0;34m[\u001b[0m\u001b[0mi\u001b[0m \u001b[0;32mfor\u001b[0m \u001b[0mi\u001b[0m \u001b[0;32min\u001b[0m \u001b[0mrange\u001b[0m\u001b[0;34m(\u001b[0m\u001b[0;36m0\u001b[0m\u001b[0;34m,\u001b[0m\u001b[0;36m10\u001b[0m\u001b[0;34m)\u001b[0m\u001b[0;34m]\u001b[0m\u001b[0;34m\u001b[0m\u001b[0;34m\u001b[0m\u001b[0m\n\u001b[1;32m      3\u001b[0m \u001b[0mactualValues\u001b[0m \u001b[0;34m=\u001b[0m \u001b[0;34m[\u001b[0m \u001b[0mcmath\u001b[0m\u001b[0;34m.\u001b[0m\u001b[0mln\u001b[0m\u001b[0;34m(\u001b[0m\u001b[0;36m1\u001b[0m\u001b[0;34m+\u001b[0m\u001b[0;36m.1\u001b[0m\u001b[0;34m)\u001b[0m \u001b[0;32mfor\u001b[0m \u001b[0mi\u001b[0m \u001b[0;32min\u001b[0m \u001b[0mdegree\u001b[0m\u001b[0;34m]\u001b[0m\u001b[0;34m\u001b[0m\u001b[0;34m\u001b[0m\u001b[0m\n\u001b[1;32m      4\u001b[0m \u001b[0mestimateValues\u001b[0m \u001b[0;34m=\u001b[0m \u001b[0;34m[\u001b[0m\u001b[0mtaylorPolynomial\u001b[0m\u001b[0;34m(\u001b[0m\u001b[0mn\u001b[0m\u001b[0;34m,\u001b[0m\u001b[0;36m1\u001b[0m\u001b[0;34m+\u001b[0m\u001b[0;36m.1\u001b[0m\u001b[0;34m)\u001b[0m \u001b[0;32mfor\u001b[0m \u001b[0mk\u001b[0m \u001b[0;32min\u001b[0m \u001b[0mdegree\u001b[0m\u001b[0;34m]\u001b[0m\u001b[0;34m\u001b[0m\u001b[0;34m\u001b[0m\u001b[0m\n\u001b[1;32m      5\u001b[0m \u001b[0mabsError\u001b[0m \u001b[0;34m=\u001b[0m \u001b[0;34m[\u001b[0m\u001b[0mabsoluteError\u001b[0m\u001b[0;34m(\u001b[0m\u001b[0mestimateValues\u001b[0m\u001b[0;34m[\u001b[0m\u001b[0mi\u001b[0m\u001b[0;34m]\u001b[0m\u001b[0;34m,\u001b[0m\u001b[0mactualValues\u001b[0m\u001b[0;34m[\u001b[0m\u001b[0mi\u001b[0m\u001b[0;34m]\u001b[0m\u001b[0;34m)\u001b[0m \u001b[0;32mfor\u001b[0m \u001b[0mi\u001b[0m \u001b[0;32min\u001b[0m \u001b[0mdegree\u001b[0m\u001b[0;34m]\u001b[0m\u001b[0;34m\u001b[0m\u001b[0;34m\u001b[0m\u001b[0m\n",
            "\u001b[0;31mNameError\u001b[0m: name 'cmath' is not defined"
          ]
        }
      ]
    },
    {
      "cell_type": "code",
      "metadata": {
        "id": "GbQb9tWQc5fW"
      },
      "source": [
        ""
      ],
      "execution_count": null,
      "outputs": []
    },
    {
      "cell_type": "code",
      "metadata": {
        "id": "V1YFBbrjc6Mb"
      },
      "source": [
        ""
      ],
      "execution_count": null,
      "outputs": []
    },
    {
      "cell_type": "code",
      "metadata": {
        "id": "-JIWLQCWc6nT"
      },
      "source": [
        ""
      ],
      "execution_count": null,
      "outputs": []
    },
    {
      "cell_type": "code",
      "metadata": {
        "id": "nMpW8I2FTD9q"
      },
      "source": [
        ""
      ],
      "execution_count": null,
      "outputs": []
    },
    {
      "cell_type": "markdown",
      "metadata": {
        "id": "y1MMQOk7mvuk"
      },
      "source": [
        ""
      ]
    },
    {
      "cell_type": "code",
      "metadata": {
        "id": "oAf-3sl7bNxn"
      },
      "source": [
        ""
      ],
      "execution_count": null,
      "outputs": []
    }
  ]
}