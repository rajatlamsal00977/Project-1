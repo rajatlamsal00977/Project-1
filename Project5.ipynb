{
  "nbformat": 4,
  "nbformat_minor": 0,
  "metadata": {
    "colab": {
      "name": "Untitled12.ipynb",
      "provenance": [],
      "include_colab_link": true
    },
    "kernelspec": {
      "name": "python3",
      "display_name": "Python 3"
    }
  },
  "cells": [
    {
      "cell_type": "markdown",
      "metadata": {
        "id": "view-in-github",
        "colab_type": "text"
      },
      "source": [
        "<a href=\"https://colab.research.google.com/github/rajatlamsal00977/Project-1/blob/main/Project5.ipynb\" target=\"_parent\"><img src=\"https://colab.research.google.com/assets/colab-badge.svg\" alt=\"Open In Colab\"/></a>"
      ]
    },
    {
      "cell_type": "markdown",
      "metadata": {
        "id": "M0yJNwKad1vt"
      },
      "source": [
        "We took this block of code out straight from the project 4 where we used the Gaussian Elimination Method."
      ]
    },
    {
      "cell_type": "markdown",
      "metadata": {
        "id": "6cDJKPMu01Pz"
      },
      "source": [
        "*   Rajat Lamsal\r\n",
        "*   Bishnu Rijal\r\n",
        "*   Pratim khadka\r\n",
        "\r\n",
        "\r\n",
        "\r\n",
        "\r\n",
        "  Instructor: Nicolas Jachob.\r\n",
        "\r\n",
        "  CPSMA 4413 NUMERICAL METHODS -01."
      ]
    },
    {
      "cell_type": "code",
      "metadata": {
        "id": "orKMRTPwMC9w"
      },
      "source": [
        "import math ##importing modules\r\n",
        "import numpy as np\r\n",
        "import scipy.linalg as la\r\n",
        "\r\n",
        "def Rows_add(matrix, T_row, M_row, value):\r\n",
        "  newRow = matrix[T_row,:]+value*matrix[M_row,:]\r\n",
        "  newMatrix = []\r\n",
        "  for x in range(len(matrix)):  #using loop to go through each rows\r\n",
        "    if x != T_row:\r\n",
        "      newMatrix.append(matrix[x,:])\r\n",
        "    else:\r\n",
        "      newMatrix.append(newRow)\r\n",
        "  return np.array(newMatrix)\r\n",
        "\r\n",
        "def Leading(matrix,row,column):\r\n",
        "  newMatrix =[]\r\n",
        "  for x in range(len(matrix)):\r\n",
        "    if x != row:\r\n",
        "      newMatrix.append(matrix[x,:])\r\n",
        "    else:\r\n",
        "      newMatrix.append(1/matrix[row,column]*matrix[row,:])\r\n",
        "  return np.array(newMatrix)\r\n",
        "\r\n",
        "def gaussMethod(matrix):\r\n",
        "  newMatrix = matrix\r\n",
        "  for P in range(len(matrix)): \r\n",
        "    newMatrix = Leading(newMatrix,P,P)\r\n",
        "    for C in range(0,P):\r\n",
        "      newMatrix = Rows_add(newMatrix,C,P,-newMatrix[C,P])\r\n",
        "    for C in range(P+1,len(matrix)):\r\n",
        "      newMatrix = Rows_add(newMatrix,C,P,-newMatrix[C,P])\r\n",
        "  return newMatrix"
      ],
      "execution_count": null,
      "outputs": []
    },
    {
      "cell_type": "markdown",
      "metadata": {
        "id": "FAq4lETXujzm"
      },
      "source": [
        "We are going to use the Direct Method to find the interpolation of the given points, the polynomial function is denoted by the form:\r\n",
        "$$\r\n",
        "f(x) = a_0+a_1x+a_2x^2+\\cdots + a_n x^n\r\n",
        "$$\r\n",
        "\r\n",
        "The passing points on this function can be assumed to be $(x_0,y_0)$, by substituting the points the function takes the following form:\r\n",
        "\r\n",
        "$$\r\n",
        "a_0+a_1x_0+a_2 x_0^2+\\cdots +a_n x_0^n = y_0\r\n",
        "$$\r\n",
        "\r\n",
        "\r\n",
        "Now we will be considering the function by using the Gaussian Elimination method, lets arrange them in matrix in order to apply the gaussian elimination.\r\n",
        "\r\n",
        "$$\r\n",
        "\\left[\r\n",
        "\\begin{array}{ccccc|c}\r\n",
        "1&x_0&x_0^2&\\cdots&x_0^n&y_0\\\\\r\n",
        "\\vdots&&\\ddots&&\\vdots\\\\\r\n",
        "1&x_{n-1}&x_{n-1}^2&\\dots& x_{n-1}^n&y_{n-1}\r\n",
        "\\end{array}\r\n",
        "\\right]\r\n",
        "$$\r\n",
        "\r\n",
        "For this, We are going to use the function mentioned below:\r\n",
        "\r\n",
        "$$\r\n",
        "2x^3 + 3x^2 -11x -6\r\n",
        "$$\r\n",
        "\r\n",
        "we solved the equation using x as 0,1,2,3,4\r\n",
        "therefore, our dataset will be \r\n",
        "\r\n",
        "[[0,-6],[1,-12],[2,6],[3,42],[4,126]]"
      ]
    },
    {
      "cell_type": "code",
      "metadata": {
        "id": "WkztfNcLNV4f"
      },
      "source": [
        "\r\n",
        "def Row_create(input, output, order): ## function to create rows using data points and order of the polynomial\r\n",
        "  list = []\r\n",
        "  for x in range(order+1):\r\n",
        "    list.append(input**x)\r\n",
        "  list.append(output)\r\n",
        "  return list"
      ],
      "execution_count": null,
      "outputs": []
    },
    {
      "cell_type": "code",
      "metadata": {
        "colab": {
          "base_uri": "https://localhost:8080/"
        },
        "id": "56zx9hG5cHgQ",
        "outputId": "372429a1-7d6f-429b-d159-20f5a97f6063"
      },
      "source": [
        "\r\n",
        "Row_create(1,3,4)"
      ],
      "execution_count": null,
      "outputs": [
        {
          "output_type": "execute_result",
          "data": {
            "text/plain": [
              "[1, 1, 1, 1, 1, 3]"
            ]
          },
          "metadata": {
            "tags": []
          },
          "execution_count": 89
        }
      ]
    },
    {
      "cell_type": "code",
      "metadata": {
        "id": "jDEEwjoycKN8"
      },
      "source": [
        "points = [[0,-6],[1,-12],[2,6],[3,42],[4,126]]"
      ],
      "execution_count": null,
      "outputs": []
    },
    {
      "cell_type": "code",
      "metadata": {
        "id": "wgOyv4Iacb0b"
      },
      "source": [
        "def Create_matrix(pointsAsArray): #function to create a matrix using all the row created from each data points\r\n",
        "  matrix = []\r\n",
        "  order = len(pointsAsArray) - 1\r\n",
        "  for x in range(len(pointsAsArray)):\r\n",
        "    matrix.append(Row_create(pointsAsArray[x][0],pointsAsArray[x][1], order))\r\n",
        "  return np.array(matrix)"
      ],
      "execution_count": null,
      "outputs": []
    },
    {
      "cell_type": "code",
      "metadata": {
        "colab": {
          "base_uri": "https://localhost:8080/"
        },
        "id": "P_3IvZwUce8b",
        "outputId": "f14a3bc8-115f-492f-b7a5-f60235f6c358"
      },
      "source": [
        "Create_matrix(points)"
      ],
      "execution_count": null,
      "outputs": [
        {
          "output_type": "execute_result",
          "data": {
            "text/plain": [
              "array([[  1,   0,   0,   0,   0,  -6],\n",
              "       [  1,   1,   1,   1,   1, -12],\n",
              "       [  1,   2,   4,   8,  16,   6],\n",
              "       [  1,   3,   9,  27,  81,  42],\n",
              "       [  1,   4,  16,  64, 256, 126]])"
            ]
          },
          "metadata": {
            "tags": []
          },
          "execution_count": 92
        }
      ]
    },
    {
      "cell_type": "code",
      "metadata": {
        "colab": {
          "base_uri": "https://localhost:8080/",
          "height": 35
        },
        "id": "J1U0noPrch7h",
        "outputId": "6437f696-80cb-4c01-b3da-2ea408936346"
      },
      "source": [
        "gaussMethod(Create_matrix(points))[:,-1]\r\n",
        "\r\n",
        "string = ''\r\n",
        "for x in range(len(gaussMethod(Create_matrix(points))[:,-1])):\r\n",
        "  coefficient = gaussMethod(Create_matrix(points))[x,-1]\r\n",
        "  string = string + '+{}'.format(coefficient) +r'x^{}'.format(x)\r\n",
        "\r\n",
        "string"
      ],
      "execution_count": null,
      "outputs": [
        {
          "output_type": "execute_result",
          "data": {
            "application/vnd.google.colaboratory.intrinsic+json": {
              "type": "string"
            },
            "text/plain": [
              "'+-6.0x^0+-29.0x^1+31.5x^2+-10.0x^3+1.5x^4'"
            ]
          },
          "metadata": {
            "tags": []
          },
          "execution_count": 105
        }
      ]
    },
    {
      "cell_type": "code",
      "metadata": {
        "id": "2o2jt30Zc8LM"
      },
      "source": [
        "def Spline_direct(pointsAsArray, variable): ## fucntion to find f(x) for each x using only the data points \r\n",
        "  coefficients = gaussMethod(Create_matrix(pointsAsArray))[:,-1]\r\n",
        "  value =0;\r\n",
        "  for x in range(len(coefficients)):\r\n",
        "    value = value + coefficients[x]*variable**x\r\n",
        "  return value"
      ],
      "execution_count": null,
      "outputs": []
    },
    {
      "cell_type": "code",
      "metadata": {
        "colab": {
          "base_uri": "https://localhost:8080/"
        },
        "id": "_n177dF1dEzQ",
        "outputId": "8113dc4f-d65d-4760-a5ab-31c4806c92b5"
      },
      "source": [
        "Spline_direct(points,3)"
      ],
      "execution_count": null,
      "outputs": [
        {
          "output_type": "execute_result",
          "data": {
            "text/plain": [
              "42.0"
            ]
          },
          "metadata": {
            "tags": []
          },
          "execution_count": 95
        }
      ]
    },
    {
      "cell_type": "code",
      "metadata": {
        "colab": {
          "base_uri": "https://localhost:8080/",
          "height": 298
        },
        "id": "6yk0nrkodQoV",
        "outputId": "e5dcbb86-aa0c-4277-d9ba-962e5f655c93"
      },
      "source": [
        "import matplotlib.pyplot as plt\r\n",
        "\r\n",
        "x = np.arange(-2,4.5,.1)\r\n",
        "plt.scatter(np.array(points)[:,0],np.array(points)[:,1])\r\n",
        "plt.plot(x, Spline_direct(points, x))\r\n",
        "plt.plot(x,np.cos(x))\r\n",
        "plt.title('Graph of Direct Spline ')\r\n",
        "\r\n",
        "plt.show"
      ],
      "execution_count": null,
      "outputs": [
        {
          "output_type": "execute_result",
          "data": {
            "text/plain": [
              "<function matplotlib.pyplot.show>"
            ]
          },
          "metadata": {
            "tags": []
          },
          "execution_count": 96
        },
        {
          "output_type": "display_data",
          "data": {
            "image/png": "[encoded data removed]",
            "text/plain": [
              "<Figure size 432x288 with 1 Axes>"
            ]
          },
          "metadata": {
            "tags": [],
            "needs_background": "light"
          }
        }
      ]
    },
    {
      "cell_type": "code",
      "metadata": {
        "id": "vvqtGotTdVMG"
      },
      "source": [
        ""
      ],
      "execution_count": null,
      "outputs": []
    },
    {
      "cell_type": "markdown",
      "metadata": {
        "id": "fpLeoSV_hyep"
      },
      "source": [
        "Linear Splines is the method where the given data points are calculated by connecting the two consecutive data points with one another using a straight line.\r\n"
      ]
    },
    {
      "cell_type": "code",
      "metadata": {
        "id": "JRGn8YM2dy74"
      },
      "source": [
        "def divide(function,lower,upper,numberOfDivisions): #function to divide the limit into equal interval\r\n",
        "  interval = (upper - lower)/(numberOfDivisions - 1)\r\n",
        "  array = []\r\n",
        "  for i in range(numberOfDivisions):\r\n",
        "    x = lower + i*interval\r\n",
        "    array.append([x,function(x)])\r\n",
        "  return np.array(array)\r\n",
        "\r\n"
      ],
      "execution_count": null,
      "outputs": []
    },
    {
      "cell_type": "code",
      "metadata": {
        "id": "rywExCiVh1MX"
      },
      "source": [
        "def slope(I_point,F_point): #function to calculate slope\r\n",
        "  return (F_point[1]-I_point[1])/(F_point[0]-I_point[0])"
      ],
      "execution_count": null,
      "outputs": []
    },
    {
      "cell_type": "code",
      "metadata": {
        "id": "LC7En8sIh4rS"
      },
      "source": [
        "def Spline_linear(points,input):\r\n",
        "  x = points[:,0]\r\n",
        "  y = points[:,1]\r\n",
        "  for i in range(len(x)-1):\r\n",
        "    if (x[i]< input) & (input < x[i+1]):\r\n",
        "      return y[i]+ slope(points[i,:],points[i+1,:])*(input - x[i])\r\n",
        "    else:\r\n",
        "      continue"
      ],
      "execution_count": null,
      "outputs": []
    },
    {
      "cell_type": "code",
      "metadata": {
        "colab": {
          "base_uri": "https://localhost:8080/"
        },
        "id": "aLZUJspuiB-E",
        "outputId": "ed30ff06-8746-449e-e755-496919a925da"
      },
      "source": [
        "fiveCoordinates = divide(np.cos,0,2*np.pi,5)\r\n",
        "\r\n",
        "Spline_linear(fiveCoordinates,1)"
      ],
      "execution_count": null,
      "outputs": [
        {
          "output_type": "execute_result",
          "data": {
            "text/plain": [
              "0.36338022763241873"
            ]
          },
          "metadata": {
            "tags": []
          },
          "execution_count": 100
        }
      ]
    },
    {
      "cell_type": "markdown",
      "metadata": {
        "id": "AcPC5_aMeiVv"
      },
      "source": [
        "Now, to create a graph of the function and linear spline using the five points we used "
      ]
    },
    {
      "cell_type": "code",
      "metadata": {
        "id": "mZrNA29oiCqu"
      },
      "source": [
        "x = np.arange(0,6.35,0.1)\r\n",
        "y = [Spline_linear(fiveCoordinates,x) for x in x]"
      ],
      "execution_count": null,
      "outputs": []
    },
    {
      "cell_type": "code",
      "metadata": {
        "colab": {
          "base_uri": "https://localhost:8080/",
          "height": 281
        },
        "id": "0-Ju7ycfiGFs",
        "outputId": "1b5426da-6f6f-42ec-d508-38580be59fbb"
      },
      "source": [
        "plt.scatter(fiveCordinates[:,0],fiveCordinates[:,1])\r\n",
        "plt.plot(x,y)\r\n",
        "plt.plot(x, np.cos(x))\r\n",
        "plt.title('Graph of Linear Spline with 5 Points')\r\n",
        "plt.legend(['Spline','Cosine'])\r\n",
        "\r\n",
        "\r\n",
        "plt.show()"
      ],
      "execution_count": null,
      "outputs": [
        {
          "output_type": "display_data",
          "data": {
            "image/png": "[encoded data removed]",
            "text/plain": [
              "<Figure size 432x288 with 1 Axes>"
            ]
          },
          "metadata": {
            "tags": [],
            "needs_background": "light"
          }
        }
      ]
    },
    {
      "cell_type": "code",
      "metadata": {
        "colab": {
          "base_uri": "https://localhost:8080/",
          "height": 281
        },
        "id": "ZQ5lwV9OiJm0",
        "outputId": "0c00ac57-49e7-4201-c198-229032a21a07"
      },
      "source": [
        "twentycoordinates = divide(np.cos,0,2*np.pi,20)\r\n",
        "x = np.arange(0,6.35,0.1)\r\n",
        "y = [Spline_linear(twentycoordinates,x) for x in x]\r\n",
        "plt.scatter(twentycoordinates[:,0],twentycoordinates[:,1])\r\n",
        "plt.plot(x,y)\r\n",
        "plt.plot(x, np.cos(x))\r\n",
        "plt.title('Graph of Linear Spline with 20 Points')\r\n",
        "plt.legend(['Spline','Sine'])\r\n",
        "\r\n",
        "\r\n",
        "plt.show()"
      ],
      "execution_count": null,
      "outputs": [
        {
          "output_type": "display_data",
          "data": {
            "image/png": "[encoded data removed]",
            "text/plain": [
              "<Figure size 432x288 with 1 Axes>"
            ]
          },
          "metadata": {
            "tags": [],
            "needs_background": "light"
          }
        }
      ]
    },
    {
      "cell_type": "markdown",
      "metadata": {
        "id": "eSH7z3S7fa07"
      },
      "source": [
        "Based on our graph we can deduce that the accuracy of linear spline graph increases as we try to increase the numebr of interval in between.\r\n",
        "\r\n",
        "Now to graph the direct spline with 20 points "
      ]
    },
    {
      "cell_type": "code",
      "metadata": {
        "colab": {
          "base_uri": "https://localhost:8080/",
          "height": 298
        },
        "id": "Nl_qUs0BiNlb",
        "outputId": "0ba1c70d-7b81-4bce-a1a8-54a7f8a61bb6"
      },
      "source": [
        "\r\n",
        "x = np.arange(-4,10,0.1)\r\n",
        "\r\n",
        "plt.scatter(twentycoordinates[:,0],twentycoordinates[:,1])\r\n",
        "plt.plot(x,Spline_direct(twentycoordinates,x))\r\n",
        "plt.plot(x, np.cos(x))\r\n",
        "plt.title('Graph of Direct Interpolation with 20 Points')\r\n",
        "plt.legend(['Direct Interploation','Cosine'])"
      ],
      "execution_count": null,
      "outputs": [
        {
          "output_type": "execute_result",
          "data": {
            "text/plain": [
              "<matplotlib.legend.Legend at 0x7fa250e9ee10>"
            ]
          },
          "metadata": {
            "tags": []
          },
          "execution_count": 104
        },
        {
          "output_type": "display_data",
          "data": {
            "image/png": "[encoded data removed]",
            "text/plain": [
              "<Figure size 432x288 with 1 Axes>"
            ]
          },
          "metadata": {
            "tags": [],
            "needs_background": "light"
          }
        }
      ]
    },
    {
      "cell_type": "markdown",
      "metadata": {
        "id": "8sUuxR5Khq0O"
      },
      "source": [
        "As the window of the graph is extended, we can see that the graph of the interpolation starts to deviate from the graph of the function."
      ]
    },
    {
      "cell_type": "code",
      "metadata": {
        "id": "SazEHcZCizBT"
      },
      "source": [
        ""
      ],
      "execution_count": null,
      "outputs": []
    },
    {
      "cell_type": "markdown",
      "metadata": {
        "id": "VQZAgvOG1AqZ"
      },
      "source": [
        "Here in module 5, we have done algebric calculationsusing scipy which helps to convert the arrays. Here inthe project we have used the gauss jordan algrothim from the previous module and created unique points in the graph.The first graph shows the direct spines.The other graph is the graph of 20 points along with the cosine function.\r\n",
        "\r\n",
        "It is believed that if we had chosen the midway point between the spines , we wouldnot have found the intersections. further more in other graphs  the answers wouldnt have been precise if it the point was in the midway.\r\n",
        "\r\n",
        "we believe the answer would be same , if the points were far from the window.\r\n"
      ]
    },
    {
      "cell_type": "code",
      "metadata": {
        "id": "Vrrk37lP0_do"
      },
      "source": [
        ""
      ],
      "execution_count": null,
      "outputs": []
    }
  ]
}