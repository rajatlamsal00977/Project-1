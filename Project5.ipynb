{
  "nbformat": 4,
  "nbformat_minor": 0,
  "metadata": {
    "colab": {
      "name": "Untitled12.ipynb",
      "provenance": [],
      "include_colab_link": true
    },
    "kernelspec": {
      "name": "python3",
      "display_name": "Python 3"
    }
  },
  "cells": [
    {
      "cell_type": "markdown",
      "metadata": {
        "id": "view-in-github",
        "colab_type": "text"
      },
      "source": [
        "<a href=\"https://colab.research.google.com/github/rajatlamsal00977/Project-1/blob/main/Project5.ipynb\" target=\"_parent\"><img src=\"https://colab.research.google.com/assets/colab-badge.svg\" alt=\"Open In Colab\"/></a>"
      ]
    },
    {
      "cell_type": "markdown",
      "metadata": {
        "id": "fe_OeUFAZy_4"
      },
      "source": [
        "Authors:<br/>\n",
        "Bishnu Rijal,<br/>\n",
        "Pratim khadka,<br/>\n",
        "Rajat Lamsal.\n",
        "\n",
        "Instructor: Nicolas Jachob.<br/>\n",
        "\n",
        "CPSMA 4413  NUMERICAL METHODS -01.<br/>\n",
        "\n"
      ]
    },
    {
      "cell_type": "markdown",
      "metadata": {
        "id": "M0yJNwKad1vt"
      },
      "source": [
        "We took this block of code out straight from the project 4 where we used the Gaussian Elimination Method."
      ]
    },
    {
      "cell_type": "code",
      "metadata": {
        "id": "orKMRTPwMC9w"
      },
      "source": [
        "import math\r\n",
        "import numpy as np\r\n",
        "import scipy.linalg as la\r\n",
        "\r\n",
        "def Rows_add(matrix, T_row, M_row, value):\r\n",
        "  newRow = matrix[T_row,:]+value*matrix[M_row,:]\r\n",
        "  newMatrix = []\r\n",
        "  for x in range(len(matrix)):\r\n",
        "    if x != T_row:\r\n",
        "      newMatrix.append(matrix[x,:])\r\n",
        "    else:\r\n",
        "      newMatrix.append(newRow)\r\n",
        "  return np.array(newMatrix)\r\n",
        "\r\n",
        "def Leading(matrix,row,column):\r\n",
        "  newMatrix =[]\r\n",
        "  for x in range(len(matrix)):\r\n",
        "    if x != row:\r\n",
        "      newMatrix.append(matrix[x,:])\r\n",
        "    else:\r\n",
        "      newMatrix.append(1/matrix[row,column]*matrix[row,:])\r\n",
        "  return np.array(newMatrix)\r\n",
        "\r\n",
        "def gaussMethod(matrix):\r\n",
        "  newMatrix = matrix\r\n",
        "  for P in range(len(matrix)):\r\n",
        "    newMatrix = Leading(newMatrix,P,P)\r\n",
        "    for C in range(0,P):\r\n",
        "      newMatrix = Rows_add(newMatrix,C,P,-newMatrix[C,P])\r\n",
        "    for C in range(P+1,len(matrix)):\r\n",
        "      newMatrix = Rows_add(newMatrix,C,P,-newMatrix[C,P])\r\n",
        "  return newMatrix"
      ],
      "execution_count": null,
      "outputs": []
    },
    {
      "cell_type": "markdown",
      "metadata": {
        "id": "FAq4lETXujzm"
      },
      "source": [
        "We are going to use the Direct Method to find the interpolation of the given points, the polynomial function is denoted by the form:\r\n",
        "$$\r\n",
        "f(x) = a_0+a_1x+a_2x^2+\\cdots + a_n x^n\r\n",
        "$$\r\n",
        "\r\n",
        "The passing points on this function can be assumed to be $(x_0,y_0)$, by substituting the points the function takes the following form:\r\n",
        "\r\n",
        "$$\r\n",
        "a_0+a_1x_0+a_2 x_0^2+\\cdots +a_n x_0^n = y_0\r\n",
        "$$\r\n",
        "\r\n",
        "\r\n",
        "Now we will be considering the function by using the Gaussian Elimination method, lets arrange them in matrix in order to apply the gaussian elimination.\r\n",
        "\r\n",
        "$$\r\n",
        "\\left[\r\n",
        "\\begin{array}{ccccc|c}\r\n",
        "1&x_0&x_0^2&\\cdots&x_0^n&y_0\\\\\r\n",
        "\\vdots&&\\ddots&&\\vdots\\\\\r\n",
        "1&x_{n-1}&x_{n-1}^2&\\dots& x_{n-1}^n&y_{n-1}\r\n",
        "\\end{array}\r\n",
        "\\right]\r\n",
        "$$"
      ]
    },
    {
      "cell_type": "code",
      "metadata": {
        "id": "WkztfNcLNV4f"
      },
      "source": [
        "\r\n",
        "def Row_create(input, output, order):\r\n",
        "  list = []\r\n",
        "  for x in range(order+1):\r\n",
        "    list.append(input**x)\r\n",
        "  list.append(output)\r\n",
        "  return list"
      ],
      "execution_count": null,
      "outputs": []
    },
    {
      "cell_type": "code",
      "metadata": {
        "colab": {
          "base_uri": "https://localhost:8080/"
        },
        "id": "56zx9hG5cHgQ",
        "outputId": "8304c200-4b9e-4718-bdf9-e02e27825615"
      },
      "source": [
        "\r\n",
        "Row_create(1,3,4)"
      ],
      "execution_count": null,
      "outputs": [
        {
          "output_type": "execute_result",
          "data": {
            "text/plain": [
              "[1, 1, 1, 1, 1, 3]"
            ]
          },
          "metadata": {
            "tags": []
          },
          "execution_count": 3
        }
      ]
    },
    {
      "cell_type": "code",
      "metadata": {
        "id": "jDEEwjoycKN8"
      },
      "source": [
        "points = [[2,5], [1,6], [3,7], [8,1], [12,-1]]"
      ],
      "execution_count": null,
      "outputs": []
    },
    {
      "cell_type": "code",
      "metadata": {
        "id": "wgOyv4Iacb0b"
      },
      "source": [
        "def Create_matrix(pointsAsArray):\r\n",
        "  matrix = []\r\n",
        "  order = len(pointsAsArray) - 1\r\n",
        "  for x in range(len(pointsAsArray)):\r\n",
        "    matrix.append(Row_create(pointsAsArray[x][0],pointsAsArray[x][1], order))\r\n",
        "  return np.array(matrix)"
      ],
      "execution_count": null,
      "outputs": []
    },
    {
      "cell_type": "markdown",
      "metadata": {
        "id": "PGW9Q6hfZx-R"
      },
      "source": [
        ""
      ]
    },
    {
      "cell_type": "code",
      "metadata": {
        "colab": {
          "base_uri": "https://localhost:8080/"
        },
        "id": "P_3IvZwUce8b",
        "outputId": "1716647d-53c8-4ef8-a0bc-8751e447f6b0"
      },
      "source": [
        "Create_matrix(points)"
      ],
      "execution_count": null,
      "outputs": [
        {
          "output_type": "execute_result",
          "data": {
            "text/plain": [
              "array([[    1,     2,     4,     8,    16,     5],\n",
              "       [    1,     1,     1,     1,     1,     6],\n",
              "       [    1,     3,     9,    27,    81,     7],\n",
              "       [    1,     8,    64,   512,  4096,     1],\n",
              "       [    1,    12,   144,  1728, 20736,    -1]])"
            ]
          },
          "metadata": {
            "tags": []
          },
          "execution_count": 6
        }
      ]
    },
    {
      "cell_type": "code",
      "metadata": {
        "colab": {
          "base_uri": "https://localhost:8080/",
          "height": 35
        },
        "id": "J1U0noPrch7h",
        "outputId": "df24a431-f9cf-40e4-a5ab-fd58539cbac9"
      },
      "source": [
        "gaussMethod(Create_matrix(points))[:,-1]\r\n",
        "\r\n",
        "string = ''\r\n",
        "for x in range(len(gaussMethod(Create_matrix(points))[:,-1])):\r\n",
        "  coefficient = gaussMethod(Create_matrix(points))[x,-1]\r\n",
        "  string = string + '+{}'.format(coefficient) +r'x^{}'.format(x)\r\n",
        "\r\n",
        "string"
      ],
      "execution_count": null,
      "outputs": [
        {
          "output_type": "execute_result",
          "data": {
            "application/vnd.google.colaboratory.intrinsic+json": {
              "type": "string"
            },
            "text/plain": [
              "'+13.27705627705628x^0+-11.699711399711404x^1+5.1286435786435804x^2+-0.7379509379509384x^3+0.031962481962481984x^4'"
            ]
          },
          "metadata": {
            "tags": []
          },
          "execution_count": 7
        }
      ]
    },
    {
      "cell_type": "code",
      "metadata": {
        "id": "2o2jt30Zc8LM"
      },
      "source": [
        "def Spline_direct(pointsAsArray, variable):\r\n",
        "  coefficients = gaussMethod(Create_matrix(pointsAsArray))[:,-1]\r\n",
        "  value =0;\r\n",
        "  for x in range(len(coefficients)):\r\n",
        "    value = value + coefficients[x]*variable**x\r\n",
        "  return value"
      ],
      "execution_count": null,
      "outputs": []
    },
    {
      "cell_type": "code",
      "metadata": {
        "colab": {
          "base_uri": "https://localhost:8080/"
        },
        "id": "_n177dF1dEzQ",
        "outputId": "f360ab99-9d22-44bd-9717-c8512b6d4aea"
      },
      "source": [
        "Spline_direct(points,3)"
      ],
      "execution_count": null,
      "outputs": [
        {
          "output_type": "execute_result",
          "data": {
            "text/plain": [
              "7.000000000000003"
            ]
          },
          "metadata": {
            "tags": []
          },
          "execution_count": 9
        }
      ]
    },
    {
      "cell_type": "code",
      "metadata": {
        "colab": {
          "base_uri": "https://localhost:8080/",
          "height": 298
        },
        "id": "6yk0nrkodQoV",
        "outputId": "912f83ba-1403-4688-df60-b416291246cf"
      },
      "source": [
        "import matplotlib.pyplot as plt\r\n",
        "\r\n",
        "x = np.arange(0,15,.1)\r\n",
        "plt.scatter(np.array(points)[:,0],np.array(points)[:,1])\r\n",
        "plt.plot(x, Spline_direct(points, x))\r\n",
        "plt.plot(x,np.cos(x))\r\n",
        "plt.title('Graph of Direct Spline ')\r\n",
        "\r\n",
        "plt.show"
      ],
      "execution_count": null,
      "outputs": [
        {
          "output_type": "execute_result",
          "data": {
            "text/plain": [
              "<function matplotlib.pyplot.show>"
            ]
          },
          "metadata": {
            "tags": []
          },
          "execution_count": 10
        },
        {
          "output_type": "display_data",
          "data": {
            "image/png": "[encoded data removed]",
            "text/plain": [
              "<Figure size 432x288 with 1 Axes>"
            ]
          },
          "metadata": {
            "tags": [],
            "needs_background": "light"
          }
        }
      ]
    },
    {
      "cell_type": "code",
      "metadata": {
        "id": "vvqtGotTdVMG"
      },
      "source": [
        ""
      ],
      "execution_count": null,
      "outputs": []
    },
    {
      "cell_type": "markdown",
      "metadata": {
        "id": "fpLeoSV_hyep"
      },
      "source": [
        "Linear Splines is the method where the given data points are calculated by connecting the two consecutive data points with one another using a straight line.\r\n"
      ]
    },
    {
      "cell_type": "code",
      "metadata": {
        "id": "JRGn8YM2dy74"
      },
      "source": [
        "def divideIntervalEvenly(function,lower,upper,numberOfDivisions):\r\n",
        "  deltax = (upper - lower)/(numberOfDivisions - 1)\r\n",
        "  array = []\r\n",
        "  for i in range(numberOfDivisions):\r\n",
        "    array.append([lower + i*deltax,function(lower + i*deltax)])\r\n",
        "  return np.array(array)\r\n",
        "\r\n",
        "fiveCordinates = divideIntervalEvenly(np.sin,0,2*np.pi,5)"
      ],
      "execution_count": null,
      "outputs": []
    },
    {
      "cell_type": "code",
      "metadata": {
        "id": "rywExCiVh1MX"
      },
      "source": [
        "def slope(pointInitial,pointFinal):\r\n",
        "  return (pointFinal[1]-pointInitial[1])/(pointFinal[0]-pointInitial[0])"
      ],
      "execution_count": null,
      "outputs": []
    },
    {
      "cell_type": "code",
      "metadata": {
        "id": "LC7En8sIh4rS"
      },
      "source": [
        "def linerSpline(array,input):\r\n",
        "  x = array[:,0]\r\n",
        "  y = array[:,1]\r\n",
        "  for i in range(len(x)-1):\r\n",
        "    if (x[i]< input) & (input < x[i+1]):\r\n",
        "      return y[i]+ slope(array[i,:],array[i+1,:])*(input - x[i])\r\n",
        "    else:\r\n",
        "      continue"
      ],
      "execution_count": null,
      "outputs": []
    },
    {
      "cell_type": "code",
      "metadata": {
        "colab": {
          "base_uri": "https://localhost:8080/"
        },
        "id": "aLZUJspuiB-E",
        "outputId": "4dcf9efb-5cfb-4c24-9d2b-3a7bc37f33a3"
      },
      "source": [
        "linerSpline(fiveCordinates,1)"
      ],
      "execution_count": null,
      "outputs": [
        {
          "output_type": "execute_result",
          "data": {
            "text/plain": [
              "0.6366197723675814"
            ]
          },
          "metadata": {
            "tags": []
          },
          "execution_count": 19
        }
      ]
    },
    {
      "cell_type": "code",
      "metadata": {
        "id": "mZrNA29oiCqu"
      },
      "source": [
        "x = np.arange(0,6.35,0.1)\r\n",
        "y = [linerSpline(fiveCordinates,x) for x in x]"
      ],
      "execution_count": null,
      "outputs": []
    },
    {
      "cell_type": "code",
      "metadata": {
        "colab": {
          "base_uri": "https://localhost:8080/",
          "height": 281
        },
        "id": "0-Ju7ycfiGFs",
        "outputId": "abe1b974-1fd1-4a2c-fa72-1b5e8c48292c"
      },
      "source": [
        "x = np.arange(0,6.35,0.1)\r\n",
        "\r\n",
        "plt.scatter(fiveCordinates[:,0],fiveCordinates[:,1])\r\n",
        "plt.plot(x,y)\r\n",
        "plt.plot(x, np.sin(x))\r\n",
        "plt.title('Graph of Linear Spline with 5 Points')\r\n",
        "plt.legend(['Spline','Sine'])\r\n",
        "\r\n",
        "\r\n",
        "plt.show()"
      ],
      "execution_count": null,
      "outputs": [
        {
          "output_type": "display_data",
          "data": {
            "image/png": "[encoded data removed]",
            "text/plain": [
              "<Figure size 432x288 with 1 Axes>"
            ]
          },
          "metadata": {
            "tags": [],
            "needs_background": "light"
          }
        }
      ]
    },
    {
      "cell_type": "code",
      "metadata": {
        "colab": {
          "base_uri": "https://localhost:8080/",
          "height": 281
        },
        "id": "ZQ5lwV9OiJm0",
        "outputId": "299a7670-6b13-430f-e72c-5197480df0b9"
      },
      "source": [
        "twentycordinates = divideIntervalEvenly(np.sin,0,2*np.pi,20)\r\n",
        "x = np.arange(0,6.35,0.1)\r\n",
        "y = [linerSpline(twentycordinates,x) for x in x]\r\n",
        "plt.scatter(twentycordinates[:,0],twentycordinates[:,1])\r\n",
        "plt.plot(x,y)\r\n",
        "plt.plot(x, np.sin(x))\r\n",
        "plt.title('Graph of Linear Spline with 20 Points')\r\n",
        "plt.legend(['Spline','Sine'])\r\n",
        "\r\n",
        "\r\n",
        "plt.show()"
      ],
      "execution_count": null,
      "outputs": [
        {
          "output_type": "display_data",
          "data": {
            "image/png": "[encoded data removed]",
            "text/plain": [
              "<Figure size 432x288 with 1 Axes>"
            ]
          },
          "metadata": {
            "tags": [],
            "needs_background": "light"
          }
        }
      ]
    },
    {
      "cell_type": "code",
      "metadata": {
        "colab": {
          "base_uri": "https://localhost:8080/",
          "height": 298
        },
        "id": "Nl_qUs0BiNlb",
        "outputId": "bcef3a7e-b720-4e9a-805d-dfec76836997"
      },
      "source": [
        "\r\n",
        "x = np.arange(-6,12,0.1)\r\n",
        "\r\n",
        "plt.scatter(twentycordinates[:,0],twentycordinates[:,1])\r\n",
        "plt.plot(x,directSpline(twentycordinates,x))\r\n",
        "plt.plot(x, np.sin(x))\r\n",
        "plt.title('Graph of Direct Interpolation with 20 Points')\r\n",
        "plt.legend(['Direct Interploation','Sine'])"
      ],
      "execution_count": null,
      "outputs": [
        {
          "output_type": "execute_result",
          "data": {
            "text/plain": [
              "<matplotlib.legend.Legend at 0x7f9be6670550>"
            ]
          },
          "metadata": {
            "tags": []
          },
          "execution_count": 25
        },
        {
          "output_type": "display_data",
          "data": {
            "image/png": "[encoded data removed]",
            "text/plain": [
              "<Figure size 432x288 with 1 Axes>"
            ]
          },
          "metadata": {
            "tags": [],
            "needs_background": "light"
          }
        }
      ]
    },
    {
      "cell_type": "code",
      "metadata": {
        "id": "SazEHcZCizBT"
      },
      "source": [
        ""
      ],
      "execution_count": null,
      "outputs": []
    }
  ]
}