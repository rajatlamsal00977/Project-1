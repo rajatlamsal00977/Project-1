{
  "nbformat": 4,
  "nbformat_minor": 0,
  "metadata": {
    "colab": {
      "name": "Module1_project.ipynb",
      "provenance": [],
      "include_colab_link": true
    },
    "kernelspec": {
      "name": "python3",
      "display_name": "Python 3"
    }
  },
  "cells": [
    {
      "cell_type": "markdown",
      "metadata": {
        "id": "view-in-github",
        "colab_type": "text"
      },
      "source": [
        "<a href=\"https://colab.research.google.com/github/rajatlamsal00977/Project-1/blob/main/Module1_project.ipynb\" target=\"_parent\"><img src=\"https://colab.research.google.com/assets/colab-badge.svg\" alt=\"Open In Colab\"/></a>"
      ]
    },
    {
      "cell_type": "code",
      "metadata": {
        "id": "6eu5nwmSjCsB"
      },
      "source": [
        "def TrueError(actual, estimate):\r\n",
        "  return actual - estimate\r\n",
        "\r\n",
        "def RelativeError(actual, estimate):\r\n",
        "  return TrueError(actual, estimate)/actual\r\n",
        "\r\n",
        "def ApproximateError(EstimateBefore, EstimateAfter):\r\n",
        "  return EstimateAfter - EstimateBefore\r\n",
        "\r\n",
        "def ApproximateRelative(EstimateBefore, EstimateAfter):\r\n",
        "  return ApproximateError(EstimateBefore, EstimateAfter)/ EstimateAfter"
      ],
      "execution_count": 5,
      "outputs": []
    },
    {
      "cell_type": "markdown",
      "metadata": {
        "id": "Eb0GloedkJNq"
      },
      "source": [
        "Taylor Expansion\r\n",
        "\r\n",
        "We will be computing estimate for lnx centered at c = 1. then the k degree Taylor Expansion will be of the form \r\n",
        "<br/>\r\n",
        "<br/>\r\n",
        ">$T(x)=\\sum_{i=1}^\\infty [-1^(k+1)/k]*(x-1)^k$\r\n",
        "       \r\n",
        "   \r\n",
        "\r\n"
      ]
    },
    {
      "cell_type": "code",
      "metadata": {
        "id": "3xoEalilkjm_"
      },
      "source": [
        "import math\r\n",
        "\r\n",
        "\r\n",
        "\r\n",
        "def CoefficientTerm(degree):\r\n",
        "  return (-1)**(math.floor(degree + 1)) \r\n",
        "\r\n",
        "def PolynomialTerm(degree, input):\r\n",
        " return generalTaylorCoefficient(degree)*((input -1)**degree)/degree\r\n",
        "\r\n",
        "def Polynomial(degree, input):\r\n",
        "  sum = 0\r\n",
        "  for i in range(1, degree+1):\r\n",
        "    sum = sum + PolynomialTerm(i, input)\r\n",
        "  return sum\r\n",
        "\r\n"
      ],
      "execution_count": 2,
      "outputs": []
    },
    {
      "cell_type": "markdown",
      "metadata": {
        "id": "WVKIFHNX8foE"
      },
      "source": [
        ""
      ]
    },
    {
      "cell_type": "code",
      "metadata": {
        "id": "YJwFigZU8f-Y"
      },
      "source": [
        ""
      ],
      "execution_count": null,
      "outputs": []
    }
  ]
}