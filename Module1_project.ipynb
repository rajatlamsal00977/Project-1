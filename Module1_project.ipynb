{
  "nbformat": 4,
  "nbformat_minor": 0,
  "metadata": {
    "colab": {
      "name": "Module1_project.ipynb",
      "provenance": [],
      "include_colab_link": true
    },
    "kernelspec": {
      "name": "python3",
      "display_name": "Python 3"
    }
  },
  "cells": [
    {
      "cell_type": "markdown",
      "metadata": {
        "id": "view-in-github",
        "colab_type": "text"
      },
      "source": [
        "<a href=\"https://colab.research.google.com/github/rajatlamsal00977/Project-1/blob/main/Module1_project.ipynb\" target=\"_parent\"><img src=\"https://colab.research.google.com/assets/colab-badge.svg\" alt=\"Open In Colab\"/></a>"
      ]
    },
    {
      "cell_type": "code",
      "metadata": {
        "id": "6eu5nwmSjCsB"
      },
      "source": [
        "def TrueError(actual, estimate):\r\n",
        "  return actual - estimate\r\n",
        "\r\n",
        "def RelativeError(actual, estimate):\r\n",
        "  return TrueError(actual, estimate)/actual\r\n",
        "\r\n",
        "def ApproximateError(EstimateBefore, EstimateAfter):\r\n",
        "  return EstimateAfter - EstimateBefore\r\n",
        "\r\n",
        "def ApproximateRelative(EstimateBefore, EstimateAfter):\r\n",
        "  return ApproximateError(EstimateBefore, EstimateAfter)/ EstimateAfter"
      ],
      "execution_count": null,
      "outputs": []
    },
    {
      "cell_type": "markdown",
      "metadata": {
        "id": "Eb0GloedkJNq"
      },
      "source": [
        "Taylor Expansion\r\n",
        "\r\n",
        "We will be computing estimate for lnx centered at c = 1. then the n degree Taylor Expansion will be of the form \r\n",
        "<br/>\r\n",
        "<br/>\r\n",
        ">$T(x)=\\sum_{i=1}^\\infty [-1^(k+1)/k]*(x-1)^k$\r\n",
        "       \r\n",
        "   \r\n",
        "\r\n"
      ]
    },
    {
      "cell_type": "code",
      "metadata": {
        "id": "3xoEalilkjm_",
        "outputId": "62f59c49-bb59-47b2-fe72-58c5e1300721",
        "colab": {
          "base_uri": "https://localhost:8080/",
          "height": 128
        }
      },
      "source": [
        "import math\r\n",
        "\r\n",
        "pi = math.pi\r\n",
        "sqrt_2 = math.sqrt(2)\r\n",
        "\r\n",
        "def generalTaylorCoefficient(degree):\r\n",
        "  return (-1)^(math.floor((degree + 1)/degree)\r\n",
        "\r\n",
        "def taylorPolynomialTerm(degree,input):\r\n",
        "return generalTaylorCoefficient(degree)*(input-1)^degree\r\n",
        "\r\n",
        "def taylorPolynomial(degree, input):\r\n",
        "   sum = 0\r\n",
        "  for i in range(0, degree+1):\r\n",
        "    sum = sum +  taylorPolynomialTerm(i, input)\r\n",
        "  return sum\r\n",
        "\r\n"
      ],
      "execution_count": 2,
      "outputs": [
        {
          "output_type": "error",
          "ename": "SyntaxError",
          "evalue": "ignored",
          "traceback": [
            "\u001b[0;36m  File \u001b[0;32m\"<ipython-input-2-962620d03763>\"\u001b[0;36m, line \u001b[0;32m9\u001b[0m\n\u001b[0;31m    def taylorPolynomialTerm(degree,input):\u001b[0m\n\u001b[0m      ^\u001b[0m\n\u001b[0;31mSyntaxError\u001b[0m\u001b[0;31m:\u001b[0m invalid syntax\n"
          ]
        }
      ]
    },
    {
      "cell_type": "code",
      "metadata": {
        "id": "GbQb9tWQc5fW"
      },
      "source": [
        ""
      ],
      "execution_count": null,
      "outputs": []
    },
    {
      "cell_type": "code",
      "metadata": {
        "id": "V1YFBbrjc6Mb"
      },
      "source": [
        ""
      ],
      "execution_count": null,
      "outputs": []
    },
    {
      "cell_type": "code",
      "metadata": {
        "id": "-JIWLQCWc6nT"
      },
      "source": [
        ""
      ],
      "execution_count": null,
      "outputs": []
    },
    {
      "cell_type": "code",
      "metadata": {
        "id": "nMpW8I2FTD9q"
      },
      "source": [
        ""
      ],
      "execution_count": null,
      "outputs": []
    },
    {
      "cell_type": "markdown",
      "metadata": {
        "id": "y1MMQOk7mvuk"
      },
      "source": [
        ""
      ]
    },
    {
      "cell_type": "code",
      "metadata": {
        "id": "oAf-3sl7bNxn"
      },
      "source": [
        ""
      ],
      "execution_count": null,
      "outputs": []
    }
  ]
}